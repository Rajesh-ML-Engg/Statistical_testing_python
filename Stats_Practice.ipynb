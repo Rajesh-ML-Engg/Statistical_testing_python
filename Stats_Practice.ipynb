{
 "cells": [
  {
   "cell_type": "markdown",
   "metadata": {},
   "source": [
    "---\n",
    "# **``Statistical Hypothesis Testing``**\n",
    "### **``Practical Scenarios``**\n",
    "---\n",
    "\n",
    "## $$**Contents**$$\n",
    "1. [Python Stats Libraries](#Python_Stats_Pkgs)\n",
    "2. [One Population](#One_Population)\n",
    "    1. [T Test or STUDENT-T or STUDENT Test](#Small_Samples)\n",
    "    2. [Z Test](#Large_Samples)\n",
    "    3. [Population Proportion](#POPULATION_PROPORTION)\n",
    "    4. [Chi-Square Test](#CHI_SQUARE_TEST)\n",
    "3. [Two Populations](#Two_Populations)\n",
    "    1. [Large Independent Samples](#Large_Independent_Samples)\n",
    "        1. [Pooled Large Independent Samples](#Pooled_Large_Independent_Samples)\n",
    "        2. [Not-Pooled Large Independent Samples](#Not-Pooled_Large_Independent_Samples)\n",
    "    2. [Small Independent Samples](#Small_Independent_Samples)\n",
    "        1. [Pooled Small Independent Samples](#Pooled_Small_Independent_Samples)\n",
    "        2. [Not Pooled Small Independent Samples](#Not-Pooled_Small_Independent_Samples)\n",
    "    3. [Population Proportions](#Population_Proportions)\n",
    "        1. [Large Independent Proportions -- Z Test](#Large_Independent_Proportions)\n",
    "    4. [Dependent Samples](#Dependent_Samples)\n",
    "        1. [Small Dependent Samples -- T Test](#Small_Dependent_Samples)\n",
    "    5. [F-Distribution (2 variances or standard deviations)](#F-Distribution)\n",
    "4. [ANOVA](#ANOVA)\n",
    "    1. [One-Way](#One-Way)\n",
    "        1. [Test Assumptions](#Assumptions_test)\n",
    "5. [Distribution Functions](#Distribution_Functions)"
   ]
  },
  {
   "cell_type": "markdown",
   "metadata": {},
   "source": [
    "## **``Python_Stats_Pkgs``**\n",
    "---"
   ]
  },
  {
   "cell_type": "markdown",
   "metadata": {},
   "source": [
    "Import handmade image here"
   ]
  },
  {
   "cell_type": "markdown",
   "metadata": {},
   "source": [
    "##### **Python packages primarily used for statistical testing**"
   ]
  },
  {
   "cell_type": "code",
   "execution_count": 1,
   "metadata": {},
   "outputs": [],
   "source": [
    "from statsmodels import api as sm"
   ]
  },
  {
   "cell_type": "code",
   "execution_count": 2,
   "metadata": {},
   "outputs": [
    {
     "data": {
      "text/plain": [
       "['CompareCox',\n",
       " 'CompareJ',\n",
       " 'CompareMeans',\n",
       " 'DescrStatsW',\n",
       " 'Describe',\n",
       " 'FTestAnovaPower',\n",
       " 'FTestPower',\n",
       " 'FactoredPSDMatrix',\n",
       " 'GofChisquarePower',\n",
       " 'HetGoldfeldQuandt',\n",
       " 'Mediation',\n",
       " 'NormalIndPower',\n",
       " 'NullDistribution',\n",
       " 'RegressionFDR',\n",
       " 'Runs',\n",
       " 'SquareTable',\n",
       " 'StratifiedTable',\n",
       " 'TTestIndPower',\n",
       " 'TTestPower',\n",
       " 'Table',\n",
       " 'Table2x2',\n",
       " '__builtins__',\n",
       " '__cached__',\n",
       " '__doc__',\n",
       " '__file__',\n",
       " '__loader__',\n",
       " '__name__',\n",
       " '__package__',\n",
       " '__spec__',\n",
       " 'acorr_breusch_godfrey',\n",
       " 'acorr_ljungbox',\n",
       " 'anova_lm',\n",
       " 'binom_test',\n",
       " 'binom_test_reject_interval',\n",
       " 'binom_tost',\n",
       " 'binom_tost_reject_interval',\n",
       " 'breaks_cusumolsresid',\n",
       " 'breaks_hansen',\n",
       " 'chisquare_effectsize',\n",
       " 'cochrans_q',\n",
       " 'compare_cox',\n",
       " 'compare_j',\n",
       " 'corr_clipped',\n",
       " 'corr_nearest',\n",
       " 'corr_nearest_factor',\n",
       " 'corr_thresholded',\n",
       " 'cov_cluster',\n",
       " 'cov_cluster_2groups',\n",
       " 'cov_hac',\n",
       " 'cov_hc0',\n",
       " 'cov_hc1',\n",
       " 'cov_hc2',\n",
       " 'cov_hc3',\n",
       " 'cov_nearest',\n",
       " 'cov_nearest_factor_homog',\n",
       " 'cov_nw_panel',\n",
       " 'cov_white_simple',\n",
       " 'diagnostic',\n",
       " 'durbin_watson',\n",
       " 'fdrcorrection',\n",
       " 'fdrcorrection_twostage',\n",
       " 'gof',\n",
       " 'gof_chisquare_discrete',\n",
       " 'het_arch',\n",
       " 'het_breuschpagan',\n",
       " 'het_goldfeldquandt',\n",
       " 'het_white',\n",
       " 'jarque_bera',\n",
       " 'lilliefors',\n",
       " 'linear_harvey_collier',\n",
       " 'linear_lm',\n",
       " 'linear_rainbow',\n",
       " 'local_fdr',\n",
       " 'mcnemar',\n",
       " 'moment_helpers',\n",
       " 'multicomp',\n",
       " 'multinomial_proportions_confint',\n",
       " 'multipletests',\n",
       " 'normal_ad',\n",
       " 'omni_normtest',\n",
       " 'power_binom_tost',\n",
       " 'power_ztost_prop',\n",
       " 'powerdiscrepancy',\n",
       " 'proportion_confint',\n",
       " 'proportion_effectsize',\n",
       " 'proportions_chisquare',\n",
       " 'proportions_chisquare_allpairs',\n",
       " 'proportions_chisquare_pairscontrol',\n",
       " 'proportions_ztest',\n",
       " 'proportions_ztost',\n",
       " 'recursive_olsresiduals',\n",
       " 'runstest_1samp',\n",
       " 'runstest_2samp',\n",
       " 'sandwich_covariance',\n",
       " 'se_cov',\n",
       " 'stattools',\n",
       " 'tt_ind_solve_power',\n",
       " 'tt_solve_power',\n",
       " 'ttest_ind',\n",
       " 'ttost_ind',\n",
       " 'ttost_paired',\n",
       " 'tukeyhsd',\n",
       " 'unitroot_adf',\n",
       " 'zconfint',\n",
       " 'zt_ind_solve_power',\n",
       " 'ztest',\n",
       " 'ztost']"
      ]
     },
     "execution_count": 2,
     "metadata": {},
     "output_type": "execute_result"
    }
   ],
   "source": [
    "dir(sm.stats)"
   ]
  },
  {
   "cell_type": "code",
   "execution_count": 3,
   "metadata": {},
   "outputs": [],
   "source": [
    "from statsmodels.stats import weightstats"
   ]
  },
  {
   "cell_type": "code",
   "execution_count": 4,
   "metadata": {},
   "outputs": [
    {
     "data": {
      "text/plain": [
       "['CompareMeans',\n",
       " 'DescrStatsW',\n",
       " '__builtins__',\n",
       " '__cached__',\n",
       " '__doc__',\n",
       " '__file__',\n",
       " '__loader__',\n",
       " '__name__',\n",
       " '__package__',\n",
       " '__spec__',\n",
       " '_tconfint_generic',\n",
       " '_tstat_generic',\n",
       " '_zconfint_generic',\n",
       " '_zstat_generic',\n",
       " '_zstat_generic2',\n",
       " 'cache_readonly',\n",
       " 'np',\n",
       " 'stats',\n",
       " 'ttest_ind',\n",
       " 'ttost_ind',\n",
       " 'ttost_paired',\n",
       " 'zconfint',\n",
       " 'ztest',\n",
       " 'ztost']"
      ]
     },
     "execution_count": 4,
     "metadata": {},
     "output_type": "execute_result"
    }
   ],
   "source": [
    "dir(weightstats)"
   ]
  },
  {
   "cell_type": "code",
   "execution_count": 5,
   "metadata": {},
   "outputs": [],
   "source": [
    "import scipy.stats as scipy_tests"
   ]
  },
  {
   "cell_type": "code",
   "execution_count": 6,
   "metadata": {},
   "outputs": [
    {
     "data": {
      "text/plain": [
       "['PearsonRConstantInputWarning',\n",
       " 'PearsonRNearConstantInputWarning',\n",
       " '__all__',\n",
       " '__builtins__',\n",
       " '__cached__',\n",
       " '__doc__',\n",
       " '__file__',\n",
       " '__loader__',\n",
       " '__name__',\n",
       " '__package__',\n",
       " '__path__',\n",
       " '__spec__',\n",
       " '_binned_statistic',\n",
       " '_constants',\n",
       " '_continuous_distns',\n",
       " '_discrete_distns',\n",
       " '_distn_infrastructure',\n",
       " '_distr_params',\n",
       " '_hypotests',\n",
       " '_multivariate',\n",
       " '_rvs_sampling',\n",
       " '_stats',\n",
       " '_stats_mstats_common',\n",
       " '_tukeylambda_stats',\n",
       " 'absolute_import',\n",
       " 'alpha',\n",
       " 'anderson',\n",
       " 'anderson_ksamp',\n",
       " 'anglit',\n",
       " 'ansari',\n",
       " 'arcsine',\n",
       " 'argus',\n",
       " 'bartlett',\n",
       " 'bayes_mvs',\n",
       " 'bernoulli',\n",
       " 'beta',\n",
       " 'betaprime',\n",
       " 'binned_statistic',\n",
       " 'binned_statistic_2d',\n",
       " 'binned_statistic_dd',\n",
       " 'binom',\n",
       " 'binom_test',\n",
       " 'boltzmann',\n",
       " 'boxcox',\n",
       " 'boxcox_llf',\n",
       " 'boxcox_normmax',\n",
       " 'boxcox_normplot',\n",
       " 'bradford',\n",
       " 'brunnermunzel',\n",
       " 'burr',\n",
       " 'burr12',\n",
       " 'cauchy',\n",
       " 'chi',\n",
       " 'chi2',\n",
       " 'chi2_contingency',\n",
       " 'chisquare',\n",
       " 'circmean',\n",
       " 'circstd',\n",
       " 'circvar',\n",
       " 'combine_pvalues',\n",
       " 'contingency',\n",
       " 'cosine',\n",
       " 'crystalball',\n",
       " 'cumfreq',\n",
       " 'describe',\n",
       " 'dgamma',\n",
       " 'dirichlet',\n",
       " 'distributions',\n",
       " 'division',\n",
       " 'dlaplace',\n",
       " 'dweibull',\n",
       " 'energy_distance',\n",
       " 'entropy',\n",
       " 'epps_singleton_2samp',\n",
       " 'erlang',\n",
       " 'expon',\n",
       " 'exponnorm',\n",
       " 'exponpow',\n",
       " 'exponweib',\n",
       " 'f',\n",
       " 'f_oneway',\n",
       " 'fatiguelife',\n",
       " 'find_repeats',\n",
       " 'fisher_exact',\n",
       " 'fisk',\n",
       " 'fligner',\n",
       " 'foldcauchy',\n",
       " 'foldnorm',\n",
       " 'frechet_l',\n",
       " 'frechet_r',\n",
       " 'friedmanchisquare',\n",
       " 'gamma',\n",
       " 'gausshyper',\n",
       " 'gaussian_kde',\n",
       " 'genexpon',\n",
       " 'genextreme',\n",
       " 'gengamma',\n",
       " 'genhalflogistic',\n",
       " 'genlogistic',\n",
       " 'gennorm',\n",
       " 'genpareto',\n",
       " 'geom',\n",
       " 'gilbrat',\n",
       " 'gmean',\n",
       " 'gompertz',\n",
       " 'gstd',\n",
       " 'gumbel_l',\n",
       " 'gumbel_r',\n",
       " 'halfcauchy',\n",
       " 'halfgennorm',\n",
       " 'halflogistic',\n",
       " 'halfnorm',\n",
       " 'hmean',\n",
       " 'hypergeom',\n",
       " 'hypsecant',\n",
       " 'invgamma',\n",
       " 'invgauss',\n",
       " 'invweibull',\n",
       " 'invwishart',\n",
       " 'iqr',\n",
       " 'itemfreq',\n",
       " 'jarque_bera',\n",
       " 'johnsonsb',\n",
       " 'johnsonsu',\n",
       " 'kappa3',\n",
       " 'kappa4',\n",
       " 'kde',\n",
       " 'kendalltau',\n",
       " 'kruskal',\n",
       " 'ks_2samp',\n",
       " 'ksone',\n",
       " 'kstat',\n",
       " 'kstatvar',\n",
       " 'kstest',\n",
       " 'kstwobign',\n",
       " 'kurtosis',\n",
       " 'kurtosistest',\n",
       " 'laplace',\n",
       " 'levene',\n",
       " 'levy',\n",
       " 'levy_l',\n",
       " 'levy_stable',\n",
       " 'linregress',\n",
       " 'loggamma',\n",
       " 'logistic',\n",
       " 'loglaplace',\n",
       " 'lognorm',\n",
       " 'logser',\n",
       " 'lomax',\n",
       " 'mannwhitneyu',\n",
       " 'matrix_normal',\n",
       " 'maxwell',\n",
       " 'median_absolute_deviation',\n",
       " 'median_test',\n",
       " 'mielke',\n",
       " 'mode',\n",
       " 'moment',\n",
       " 'mood',\n",
       " 'morestats',\n",
       " 'moyal',\n",
       " 'mstats',\n",
       " 'mstats_basic',\n",
       " 'mstats_extras',\n",
       " 'multinomial',\n",
       " 'multivariate_normal',\n",
       " 'mvn',\n",
       " 'mvsdist',\n",
       " 'nakagami',\n",
       " 'nbinom',\n",
       " 'ncf',\n",
       " 'nct',\n",
       " 'ncx2',\n",
       " 'norm',\n",
       " 'normaltest',\n",
       " 'norminvgauss',\n",
       " 'obrientransform',\n",
       " 'ortho_group',\n",
       " 'pareto',\n",
       " 'pearson3',\n",
       " 'pearsonr',\n",
       " 'percentileofscore',\n",
       " 'planck',\n",
       " 'pointbiserialr',\n",
       " 'poisson',\n",
       " 'power_divergence',\n",
       " 'powerlaw',\n",
       " 'powerlognorm',\n",
       " 'powernorm',\n",
       " 'ppcc_max',\n",
       " 'ppcc_plot',\n",
       " 'print_function',\n",
       " 'probplot',\n",
       " 'randint',\n",
       " 'random_correlation',\n",
       " 'rankdata',\n",
       " 'ranksums',\n",
       " 'rayleigh',\n",
       " 'rdist',\n",
       " 'recipinvgauss',\n",
       " 'reciprocal',\n",
       " 'relfreq',\n",
       " 'rice',\n",
       " 'rv_continuous',\n",
       " 'rv_discrete',\n",
       " 'rv_histogram',\n",
       " 'rvs_ratio_uniforms',\n",
       " 'scoreatpercentile',\n",
       " 'sem',\n",
       " 'semicircular',\n",
       " 'shapiro',\n",
       " 'siegelslopes',\n",
       " 'sigmaclip',\n",
       " 'skellam',\n",
       " 'skew',\n",
       " 'skewnorm',\n",
       " 'skewtest',\n",
       " 'spearmanr',\n",
       " 'special_ortho_group',\n",
       " 'statlib',\n",
       " 'stats',\n",
       " 't',\n",
       " 'test',\n",
       " 'theilslopes',\n",
       " 'tiecorrect',\n",
       " 'tmax',\n",
       " 'tmean',\n",
       " 'tmin',\n",
       " 'trapz',\n",
       " 'triang',\n",
       " 'trim1',\n",
       " 'trim_mean',\n",
       " 'trimboth',\n",
       " 'truncexpon',\n",
       " 'truncnorm',\n",
       " 'tsem',\n",
       " 'tstd',\n",
       " 'ttest_1samp',\n",
       " 'ttest_ind',\n",
       " 'ttest_ind_from_stats',\n",
       " 'ttest_rel',\n",
       " 'tukeylambda',\n",
       " 'tvar',\n",
       " 'uniform',\n",
       " 'unitary_group',\n",
       " 'variation',\n",
       " 'vonmises',\n",
       " 'vonmises_line',\n",
       " 'wald',\n",
       " 'wasserstein_distance',\n",
       " 'weibull_max',\n",
       " 'weibull_min',\n",
       " 'weightedtau',\n",
       " 'wilcoxon',\n",
       " 'wishart',\n",
       " 'wrapcauchy',\n",
       " 'yeojohnson',\n",
       " 'yeojohnson_llf',\n",
       " 'yeojohnson_normmax',\n",
       " 'yeojohnson_normplot',\n",
       " 'yulesimon',\n",
       " 'zipf',\n",
       " 'zmap',\n",
       " 'zscore']"
      ]
     },
     "execution_count": 6,
     "metadata": {},
     "output_type": "execute_result"
    }
   ],
   "source": [
    "dir(scipy_tests)"
   ]
  },
  {
   "cell_type": "markdown",
   "metadata": {},
   "source": [
    "##### **Other supporting packages**"
   ]
  },
  {
   "cell_type": "code",
   "execution_count": 7,
   "metadata": {},
   "outputs": [],
   "source": [
    "import numpy as np\n",
    "import pandas as pd\n",
    "import matplotlib.pyplot as plt\n",
    "import seaborn as sns\n",
    "\n",
    "%matplotlib inline\n",
    "\n",
    "import statsmodels.api as sm\n",
    "import statsmodels.stats.weightstats as s_tests\n",
    "import scipy.stats as scipy_tests"
   ]
  },
  {
   "cell_type": "markdown",
   "metadata": {},
   "source": [
    "---\n",
    "# **``One_Population``**\n",
    "---"
   ]
  },
  {
   "cell_type": "markdown",
   "metadata": {},
   "source": [
    "Import hand made image here"
   ]
  },
  {
   "cell_type": "markdown",
   "metadata": {},
   "source": [
    "## **Small_Samples**\n",
    "#### ***T or STUDENT or STUDENT-T TESTING***\n",
    "---"
   ]
  },
  {
   "cell_type": "markdown",
   "metadata": {},
   "source": [
    "#### ***Question-1*** :: **A researcher thinks that average age of males getting married in Delhi is not more than 30. He samples 21 males and found that his claim is true. Test the claim at 95% level of confidence.**"
   ]
  },
  {
   "cell_type": "code",
   "execution_count": 8,
   "metadata": {},
   "outputs": [],
   "source": [
    "sample_age = np.array([20,33,22,24,25,26,27,28,21,34,33,32,31,22,23,24,24,24,25,26,27])"
   ]
  },
  {
   "cell_type": "code",
   "execution_count": 9,
   "metadata": {},
   "outputs": [
    {
     "data": {
      "text/plain": [
       "21"
      ]
     },
     "execution_count": 9,
     "metadata": {},
     "output_type": "execute_result"
    }
   ],
   "source": [
    "len(sample_age)"
   ]
  },
  {
   "cell_type": "code",
   "execution_count": 10,
   "metadata": {},
   "outputs": [],
   "source": [
    "sample_mean = sample_age.mean()"
   ]
  },
  {
   "cell_type": "code",
   "execution_count": 11,
   "metadata": {},
   "outputs": [
    {
     "data": {
      "text/plain": [
       "26.238095238095237"
      ]
     },
     "execution_count": 11,
     "metadata": {},
     "output_type": "execute_result"
    }
   ],
   "source": [
    "sample_mean"
   ]
  },
  {
   "cell_type": "code",
   "execution_count": 12,
   "metadata": {},
   "outputs": [],
   "source": [
    "sample_std_dev = sample_age.var()"
   ]
  },
  {
   "cell_type": "code",
   "execution_count": 13,
   "metadata": {},
   "outputs": [
    {
     "data": {
      "text/plain": [
       "16.562358276643995"
      ]
     },
     "execution_count": 13,
     "metadata": {},
     "output_type": "execute_result"
    }
   ],
   "source": [
    "sample_std_dev"
   ]
  },
  {
   "cell_type": "code",
   "execution_count": 14,
   "metadata": {},
   "outputs": [],
   "source": [
    "results = scipy_tests.ttest_1samp(sample_age,30)"
   ]
  },
  {
   "cell_type": "code",
   "execution_count": 15,
   "metadata": {},
   "outputs": [
    {
     "data": {
      "text/plain": [
       "Ttest_1sampResult(statistic=-4.133916563687664, pvalue=0.0005143638120022441)"
      ]
     },
     "execution_count": 15,
     "metadata": {},
     "output_type": "execute_result"
    }
   ],
   "source": [
    "results"
   ]
  },
  {
   "cell_type": "code",
   "execution_count": 16,
   "metadata": {},
   "outputs": [
    {
     "data": {
      "text/plain": [
       "-4.133916563687664"
      ]
     },
     "execution_count": 16,
     "metadata": {},
     "output_type": "execute_result"
    }
   ],
   "source": [
    "results[0]"
   ]
  },
  {
   "cell_type": "code",
   "execution_count": 17,
   "metadata": {},
   "outputs": [
    {
     "data": {
      "text/plain": [
       "0.0005143638120022441"
      ]
     },
     "execution_count": 17,
     "metadata": {},
     "output_type": "execute_result"
    }
   ],
   "source": [
    "results[1]"
   ]
  },
  {
   "cell_type": "markdown",
   "metadata": {},
   "source": [
    "#### ***CASE - I :: With 95% Level of Confidence***"
   ]
  },
  {
   "cell_type": "code",
   "execution_count": 18,
   "metadata": {},
   "outputs": [
    {
     "name": "stdout",
     "output_type": "stream",
     "text": [
      "Reject the Null Hypothesis at 0.05 level of significance\n"
     ]
    }
   ],
   "source": [
    "alpha = 0.05\n",
    "if (results[0] < 0) & (results[1] <= alpha):\n",
    "    print(\"Reject the Null Hypothesis at {} level of significance\".format(alpha))\n",
    "else:\n",
    "    print(\"Fail to reject the Null Hypothesis at {} level of significance\".format(alpha))"
   ]
  },
  {
   "cell_type": "markdown",
   "metadata": {},
   "source": [
    "##### ***Test Statistic :: Manual Calculation***"
   ]
  },
  {
   "cell_type": "code",
   "execution_count": 19,
   "metadata": {},
   "outputs": [
    {
     "data": {
      "text/plain": [
       "-4.236003949869238"
      ]
     },
     "execution_count": 19,
     "metadata": {},
     "output_type": "execute_result"
    }
   ],
   "source": [
    "(sample_age.mean()-30)/(np.sqrt(sample_std_dev/len(sample_age)))"
   ]
  },
  {
   "cell_type": "code",
   "execution_count": 20,
   "metadata": {},
   "outputs": [
    {
     "data": {
      "text/plain": [
       "-4.133916563687664"
      ]
     },
     "execution_count": 20,
     "metadata": {},
     "output_type": "execute_result"
    }
   ],
   "source": [
    "(sample_age.mean()-30)/(np.sqrt(sample_std_dev/(len(sample_age)-1)))"
   ]
  },
  {
   "cell_type": "markdown",
   "metadata": {},
   "source": [
    "#### ***Difference in Test statistic value is because Python Statsmodels use DOF in the denominator instead of 'n' i.e. the number of records in sample.*** \n",
    "\n",
    "\n",
    "***Go to location ::*** c:\\programdata\\anaconda3\\lib\\site-packages\\scipy\\stats\\\n",
    "\n",
    "\n",
    "***Open python file ::*** stats.py"
   ]
  },
  {
   "cell_type": "markdown",
   "metadata": {},
   "source": [
    "#### **Implementation in Statsmodels**"
   ]
  },
  {
   "cell_type": "code",
   "execution_count": 21,
   "metadata": {},
   "outputs": [
    {
     "data": {
      "text/plain": [
       "17.390476190476193"
      ]
     },
     "execution_count": 21,
     "metadata": {},
     "output_type": "execute_result"
    }
   ],
   "source": [
    "np.var(sample_age, 0, ddof=1)"
   ]
  },
  {
   "cell_type": "code",
   "execution_count": 22,
   "metadata": {},
   "outputs": [
    {
     "data": {
      "text/plain": [
       "16.562358276643995"
      ]
     },
     "execution_count": 22,
     "metadata": {},
     "output_type": "execute_result"
    }
   ],
   "source": [
    "np.var(sample_age, 0)"
   ]
  },
  {
   "cell_type": "markdown",
   "metadata": {},
   "source": [
    "#### ***CASE - II :: With 99% Level of Confidence***"
   ]
  },
  {
   "cell_type": "code",
   "execution_count": 23,
   "metadata": {},
   "outputs": [
    {
     "name": "stdout",
     "output_type": "stream",
     "text": [
      "Reject the Null Hypothesis at 0.01 level of significance\n"
     ]
    }
   ],
   "source": [
    "alpha = 0.01\n",
    "if (results[0] < 0) & (results[1] <= alpha):\n",
    "    print(\"Reject the Null Hypothesis at {} level of significance\".format(alpha))\n",
    "else:\n",
    "    print(\"Fail to reject the Null Hypothesis at {} level of significance\".format(alpha))"
   ]
  },
  {
   "cell_type": "markdown",
   "metadata": {},
   "source": [
    "#### ***Question-2*** :: **A researcher claims that average age of people buying their first car is greater than 26. He sampled ages of 24 people and found that his claim is true. Test the claim at 90% level of confidence.**"
   ]
  },
  {
   "cell_type": "code",
   "execution_count": 24,
   "metadata": {},
   "outputs": [],
   "source": [
    "first_car_sample = [22,23,33,32,31,30,27,28,29,20,30,30,31,31,32,34,27,28,24,24,24,25,26,26]"
   ]
  },
  {
   "cell_type": "code",
   "execution_count": 25,
   "metadata": {},
   "outputs": [
    {
     "data": {
      "text/plain": [
       "24"
      ]
     },
     "execution_count": 25,
     "metadata": {},
     "output_type": "execute_result"
    }
   ],
   "source": [
    "len(first_car_sample)"
   ]
  },
  {
   "cell_type": "code",
   "execution_count": 26,
   "metadata": {},
   "outputs": [],
   "source": [
    "first_car_sample_mean = round(np.mean(first_car_sample,dtype=float),3)"
   ]
  },
  {
   "cell_type": "code",
   "execution_count": 27,
   "metadata": {},
   "outputs": [
    {
     "data": {
      "text/plain": [
       "27.792"
      ]
     },
     "execution_count": 27,
     "metadata": {},
     "output_type": "execute_result"
    }
   ],
   "source": [
    "first_car_sample_mean"
   ]
  },
  {
   "cell_type": "code",
   "execution_count": 28,
   "metadata": {},
   "outputs": [],
   "source": [
    "first_car_sample_stddev = round(np.std(first_car_sample,dtype=float,ddof=0),3)"
   ]
  },
  {
   "cell_type": "code",
   "execution_count": 29,
   "metadata": {},
   "outputs": [
    {
     "data": {
      "text/plain": [
       "3.674"
      ]
     },
     "execution_count": 29,
     "metadata": {},
     "output_type": "execute_result"
    }
   ],
   "source": [
    "first_car_sample_stddev"
   ]
  },
  {
   "cell_type": "code",
   "execution_count": 30,
   "metadata": {},
   "outputs": [],
   "source": [
    "results = scipy_tests.ttest_1samp(first_car_sample,26)"
   ]
  },
  {
   "cell_type": "code",
   "execution_count": 31,
   "metadata": {},
   "outputs": [
    {
     "data": {
      "text/plain": [
       "Ttest_1sampResult(statistic=2.338741244971851, pvalue=0.02840406196767573)"
      ]
     },
     "execution_count": 31,
     "metadata": {},
     "output_type": "execute_result"
    }
   ],
   "source": [
    "results"
   ]
  },
  {
   "cell_type": "markdown",
   "metadata": {},
   "source": [
    "#### ***CASE - I :: With 90% Level of Confidence***"
   ]
  },
  {
   "cell_type": "code",
   "execution_count": 32,
   "metadata": {},
   "outputs": [
    {
     "name": "stdout",
     "output_type": "stream",
     "text": [
      "Researcher claim is right and he rejected the Null Hypothesis at 0.9 L.O.C and 0.1 L.O.S\n"
     ]
    }
   ],
   "source": [
    "loc = 0.90\n",
    "alpha= 1-loc\n",
    "\n",
    "if (results[0] > 0) & (results[1] < alpha):\n",
    "    print(\"Researcher claim is right and he rejected the Null Hypothesis at {} L.O.C and {} L.O.S\".format(loc,round(alpha,2)))\n",
    "else:\n",
    "    print(\"Researcher claim is wrong and he fail to reject the Null Hypothesis at {} L.O.C and {} L.O.S\".format(loc,round(alpha,2)))"
   ]
  },
  {
   "cell_type": "markdown",
   "metadata": {},
   "source": [
    "#### ***CASE - II :: With 99% Level of Confidence***"
   ]
  },
  {
   "cell_type": "code",
   "execution_count": 33,
   "metadata": {},
   "outputs": [
    {
     "name": "stdout",
     "output_type": "stream",
     "text": [
      "Researcher claim is wrong and he fail to reject the Null Hypothesis at 0.99 L.O.C and 0.01 L.O.S\n"
     ]
    }
   ],
   "source": [
    "loc = 0.99\n",
    "alpha= 1-loc\n",
    "\n",
    "if (results[0] > 0) & (results[1] < alpha):\n",
    "    print(\"Researcher claim is right and he rejected the Null Hypothesis at {} L.O.C and {} L.O.S\".format(loc,round(alpha,2)))\n",
    "else:\n",
    "    print(\"Researcher claim is wrong and he fail to reject the Null Hypothesis at {} L.O.C and {} L.O.S\".format(loc,round(alpha,2)))"
   ]
  },
  {
   "cell_type": "markdown",
   "metadata": {},
   "source": [
    "#### ***Question-3*** :: **A researcher claims that average height of people living in India is not 160 cms. He sampled heights of 25 people and found that his claim is true. Test the claim at different level of confidences 85%, 95% and 99%.**"
   ]
  },
  {
   "cell_type": "code",
   "execution_count": 34,
   "metadata": {},
   "outputs": [],
   "source": [
    "avg_height_sample = np.array([100,140,160,150,145,130,130,150,150,165,165,164,160,165,180,182,182,184,183,177,178,176,189,193,158])"
   ]
  },
  {
   "cell_type": "code",
   "execution_count": 35,
   "metadata": {},
   "outputs": [
    {
     "data": {
      "text/plain": [
       "25"
      ]
     },
     "execution_count": 35,
     "metadata": {},
     "output_type": "execute_result"
    }
   ],
   "source": [
    "len(avg_height_sample)"
   ]
  },
  {
   "cell_type": "code",
   "execution_count": 36,
   "metadata": {},
   "outputs": [],
   "source": [
    "avg_height_sample_mean = round(np.mean(avg_height_sample,dtype=float),3)"
   ]
  },
  {
   "cell_type": "code",
   "execution_count": 37,
   "metadata": {},
   "outputs": [
    {
     "data": {
      "text/plain": [
       "162.24"
      ]
     },
     "execution_count": 37,
     "metadata": {},
     "output_type": "execute_result"
    }
   ],
   "source": [
    "avg_height_sample_mean"
   ]
  },
  {
   "cell_type": "code",
   "execution_count": 38,
   "metadata": {},
   "outputs": [],
   "source": [
    "avg_height_sample_variance = np.var(avg_height_sample,dtype=float,ddof=0)"
   ]
  },
  {
   "cell_type": "code",
   "execution_count": 39,
   "metadata": {},
   "outputs": [
    {
     "data": {
      "text/plain": [
       "462.6624"
      ]
     },
     "execution_count": 39,
     "metadata": {},
     "output_type": "execute_result"
    }
   ],
   "source": [
    "avg_height_sample_variance"
   ]
  },
  {
   "cell_type": "code",
   "execution_count": 40,
   "metadata": {},
   "outputs": [],
   "source": [
    "avg_height_sample_stddev = round(np.sqrt(avg_height_sample_variance),3)"
   ]
  },
  {
   "cell_type": "code",
   "execution_count": 41,
   "metadata": {},
   "outputs": [
    {
     "data": {
      "text/plain": [
       "21.51"
      ]
     },
     "execution_count": 41,
     "metadata": {},
     "output_type": "execute_result"
    }
   ],
   "source": [
    "avg_height_sample_stddev"
   ]
  },
  {
   "cell_type": "code",
   "execution_count": 42,
   "metadata": {},
   "outputs": [],
   "source": [
    "pop_mean = 160\n",
    "\n",
    "test_stats_height = scipy_tests.ttest_1samp(avg_height_sample,pop_mean)"
   ]
  },
  {
   "cell_type": "code",
   "execution_count": 43,
   "metadata": {},
   "outputs": [
    {
     "data": {
      "text/plain": [
       "Ttest_1sampResult(statistic=0.5101777757069099, pvalue=0.614587179842627)"
      ]
     },
     "execution_count": 43,
     "metadata": {},
     "output_type": "execute_result"
    }
   ],
   "source": [
    "test_stats_height"
   ]
  },
  {
   "cell_type": "code",
   "execution_count": 44,
   "metadata": {},
   "outputs": [],
   "source": [
    "def hyp_test(test_stats_result,loc,kind_of_test=['l','r','lr']):\n",
    "    alpha = 1 - loc\n",
    "    if (kind_of_test == 'l') & (test_stats_result[0] < 0) & (test_stats_result[1] < alpha):\n",
    "        print(\"Researcher claim is right. Thus, rejected the Null Hypothesis at {} L.O.C and {} L.O.S\".format(loc,round(alpha,2)))\n",
    "    elif (kind_of_test == 'r') & (test_stats_result[0] > 0) & (test_stats_result[1] < alpha):\n",
    "        print(\"Researcher claim is right. Thus, rejected the Null Hypothesis at {} L.O.C and {} L.O.S\".format(loc,round(alpha,2)))\n",
    "    elif (kind_of_test == 'lr') & (test_stats_result[1] < alpha):    \n",
    "        print(\"Researcher claim is right. Thus, rejected the Null Hypothesis at {} L.O.C and {} L.O.S\".format(loc,round(alpha,2)))\n",
    "    else:\n",
    "        print(\"Researcher claim is wrong. Thus, fail to reject the Null Hypothesis at {} L.O.C and {} L.O.S\".format(loc,round(alpha,2)))"
   ]
  },
  {
   "cell_type": "markdown",
   "metadata": {},
   "source": [
    "#### ***CASE - I :: With 85% Level of Confidence***"
   ]
  },
  {
   "cell_type": "code",
   "execution_count": 45,
   "metadata": {},
   "outputs": [
    {
     "name": "stdout",
     "output_type": "stream",
     "text": [
      "Researcher claim is wrong. Thus, fail to reject the Null Hypothesis at 0.85 L.O.C and 0.15 L.O.S\n"
     ]
    }
   ],
   "source": [
    "hyp_test(test_stats_height,0.85,'lr')"
   ]
  },
  {
   "cell_type": "markdown",
   "metadata": {},
   "source": [
    "#### ***CASE - II :: With 95% Level of Confidence***"
   ]
  },
  {
   "cell_type": "code",
   "execution_count": 46,
   "metadata": {},
   "outputs": [
    {
     "name": "stdout",
     "output_type": "stream",
     "text": [
      "Researcher claim is wrong. Thus, fail to reject the Null Hypothesis at 0.95 L.O.C and 0.05 L.O.S\n"
     ]
    }
   ],
   "source": [
    "hyp_test(test_stats_height,0.95,'lr')"
   ]
  },
  {
   "cell_type": "markdown",
   "metadata": {},
   "source": [
    "#### ***CASE - III :: With 99% Level of Confidence***"
   ]
  },
  {
   "cell_type": "code",
   "execution_count": 47,
   "metadata": {},
   "outputs": [
    {
     "name": "stdout",
     "output_type": "stream",
     "text": [
      "Researcher claim is wrong. Thus, fail to reject the Null Hypothesis at 0.99 L.O.C and 0.01 L.O.S\n"
     ]
    }
   ],
   "source": [
    "hyp_test(test_stats_height,0.99,'lr')"
   ]
  },
  {
   "cell_type": "markdown",
   "metadata": {},
   "source": [
    "## **Large_Samples**\n",
    "#### ***Z TEST***\n",
    "---"
   ]
  },
  {
   "cell_type": "markdown",
   "metadata": {},
   "source": [
    "#### ***Question-4*** :: **A beer bottle factory produces atleast 30 cans a day. A newly appointed manager thinks that this number is not correct. He sampled cans production data of 40 random days. Test the claim at 95% level of confidences.**"
   ]
  },
  {
   "cell_type": "code",
   "execution_count": 48,
   "metadata": {},
   "outputs": [],
   "source": [
    "beer_cans_sample = np.array([12,24,25,36,34,21,23,22,33,22,11,16,17,18,36,32,31,30,30,30,30,30,14,18,19,23,24,27,\n",
    "                             28,29,26,26,26,23,32,10,9,22,28,29])"
   ]
  },
  {
   "cell_type": "code",
   "execution_count": 49,
   "metadata": {},
   "outputs": [],
   "source": [
    "beer_cans_sample_mean = round(np.mean(beer_cans_sample,dtype='float'),3)\n",
    "beer_cans_sample_stddev = round(np.std(beer_cans_sample,dtype='float',ddof=0),3)"
   ]
  },
  {
   "cell_type": "code",
   "execution_count": 50,
   "metadata": {},
   "outputs": [
    {
     "data": {
      "text/plain": [
       "(24.4, 7.056)"
      ]
     },
     "execution_count": 50,
     "metadata": {},
     "output_type": "execute_result"
    }
   ],
   "source": [
    "beer_cans_sample_mean,beer_cans_sample_stddev"
   ]
  },
  {
   "cell_type": "code",
   "execution_count": 51,
   "metadata": {},
   "outputs": [],
   "source": [
    "beer_cans_results = s_tests.ztest(beer_cans_sample, value=30, alternative='smaller', ddof=0)"
   ]
  },
  {
   "cell_type": "code",
   "execution_count": 52,
   "metadata": {},
   "outputs": [
    {
     "data": {
      "text/plain": [
       "(-5.019343982920408, 2.592411755802454e-07)"
      ]
     },
     "execution_count": 52,
     "metadata": {},
     "output_type": "execute_result"
    }
   ],
   "source": [
    "beer_cans_results"
   ]
  },
  {
   "cell_type": "code",
   "execution_count": 53,
   "metadata": {},
   "outputs": [
    {
     "name": "stdout",
     "output_type": "stream",
     "text": [
      "Researcher claim is right. Thus, rejected the Null Hypothesis at 0.95 L.O.C and 0.05 L.O.S\n"
     ]
    }
   ],
   "source": [
    "hyp_test(beer_cans_results,0.95,'l')"
   ]
  },
  {
   "cell_type": "markdown",
   "metadata": {},
   "source": [
    "#### ***Question-5*** :: **The government says that the average weight of males in Canada atleast 162.9 pounds. A researcher thinks this is too high. He sampled data of 39 canadian males. Test the claim at 99% level of confidences.**"
   ]
  },
  {
   "cell_type": "code",
   "execution_count": 54,
   "metadata": {},
   "outputs": [],
   "source": [
    "canadian_male_sweight = np.array([120,240,250,360,340,210,230,220,330,220,110,160,170,180,360,320,310,300,300,300,300,300,140,\n",
    "                                  180,190,230,240,270,280,290,260,260,260,230,320,100,90,280,290])"
   ]
  },
  {
   "cell_type": "code",
   "execution_count": 55,
   "metadata": {},
   "outputs": [],
   "source": [
    "canadian_male_sweight_mean = np.mean(canadian_male_sweight,dtype='float')"
   ]
  },
  {
   "cell_type": "code",
   "execution_count": 56,
   "metadata": {},
   "outputs": [],
   "source": [
    "canadian_male_sweight_stddev = np.std(canadian_male_sweight,dtype='float')"
   ]
  },
  {
   "cell_type": "code",
   "execution_count": 57,
   "metadata": {},
   "outputs": [
    {
     "data": {
      "text/plain": [
       "(244.6153846153846, 71.35487886383511)"
      ]
     },
     "execution_count": 57,
     "metadata": {},
     "output_type": "execute_result"
    }
   ],
   "source": [
    "canadian_male_sweight_mean,canadian_male_sweight_stddev"
   ]
  },
  {
   "cell_type": "code",
   "execution_count": 58,
   "metadata": {},
   "outputs": [],
   "source": [
    "canadian_male_sweight_results = s_tests.ztest(canadian_male_sweight, value=162.9, alternative='smaller', ddof=0)"
   ]
  },
  {
   "cell_type": "code",
   "execution_count": 59,
   "metadata": {},
   "outputs": [
    {
     "data": {
      "text/plain": [
       "(7.151752220548922, 0.9999999999995716)"
      ]
     },
     "execution_count": 59,
     "metadata": {},
     "output_type": "execute_result"
    }
   ],
   "source": [
    "canadian_male_sweight_results"
   ]
  },
  {
   "cell_type": "code",
   "execution_count": 60,
   "metadata": {},
   "outputs": [
    {
     "name": "stdout",
     "output_type": "stream",
     "text": [
      "Researcher claim is wrong. Thus, fail to reject the Null Hypothesis at 0.99 L.O.C and 0.01 L.O.S\n"
     ]
    }
   ],
   "source": [
    "hyp_test(canadian_male_sweight_results,0.99,'l')"
   ]
  },
  {
   "cell_type": "markdown",
   "metadata": {},
   "source": [
    "#### ***Question-6*** :: **A study showed that on average women in a city had 1.48 kids. A researcher believes this number is incorrect. He surveyed 100 women in the city & finds that on average these women doesn't had 1.48 kids. Test the claim at 90% LOC.**"
   ]
  },
  {
   "cell_type": "code",
   "execution_count": 61,
   "metadata": {},
   "outputs": [],
   "source": [
    "women_kids_sample = np.random.randint(low=1, high=4, size=100)"
   ]
  },
  {
   "cell_type": "code",
   "execution_count": 62,
   "metadata": {},
   "outputs": [
    {
     "data": {
      "text/plain": [
       "array([2, 1, 1, 3, 2, 1, 3, 1, 1, 2, 1, 2, 2, 1, 2, 2, 2, 3, 2, 1, 2, 3,\n",
       "       2, 3, 3, 1, 3, 3, 3, 1, 2, 2, 3, 1, 1, 2, 2, 1, 2, 1, 1, 3, 1, 3,\n",
       "       2, 3, 1, 2, 3, 1, 1, 2, 1, 3, 3, 2, 1, 2, 3, 3, 3, 1, 2, 2, 2, 3,\n",
       "       2, 2, 2, 3, 1, 3, 3, 2, 1, 1, 3, 2, 1, 1, 2, 1, 3, 3, 3, 1, 2, 3,\n",
       "       1, 1, 3, 2, 1, 1, 1, 1, 3, 3, 3, 2])"
      ]
     },
     "execution_count": 62,
     "metadata": {},
     "output_type": "execute_result"
    }
   ],
   "source": [
    "women_kids_sample"
   ]
  },
  {
   "cell_type": "code",
   "execution_count": 63,
   "metadata": {},
   "outputs": [],
   "source": [
    "women_kids_sample_mean = np.mean(women_kids_sample,dtype='float')"
   ]
  },
  {
   "cell_type": "code",
   "execution_count": 64,
   "metadata": {},
   "outputs": [
    {
     "data": {
      "text/plain": [
       "1.97"
      ]
     },
     "execution_count": 64,
     "metadata": {},
     "output_type": "execute_result"
    }
   ],
   "source": [
    "women_kids_sample_mean"
   ]
  },
  {
   "cell_type": "code",
   "execution_count": 65,
   "metadata": {},
   "outputs": [],
   "source": [
    "women_kids_sample_stddev = np.std(women_kids_sample,dtype='float',ddof=0)"
   ]
  },
  {
   "cell_type": "code",
   "execution_count": 66,
   "metadata": {},
   "outputs": [
    {
     "data": {
      "text/plain": [
       "0.8179853299418028"
      ]
     },
     "execution_count": 66,
     "metadata": {},
     "output_type": "execute_result"
    }
   ],
   "source": [
    "women_kids_sample_stddev"
   ]
  },
  {
   "cell_type": "code",
   "execution_count": 67,
   "metadata": {},
   "outputs": [],
   "source": [
    "women_kids_sample_results = s_tests.ztest(women_kids_sample, value=1.48, alternative='two-sided', ddof=0)"
   ]
  },
  {
   "cell_type": "code",
   "execution_count": 68,
   "metadata": {},
   "outputs": [
    {
     "data": {
      "text/plain": [
       "(5.990327479771086, 2.0941891951532385e-09)"
      ]
     },
     "execution_count": 68,
     "metadata": {},
     "output_type": "execute_result"
    }
   ],
   "source": [
    "women_kids_sample_results"
   ]
  },
  {
   "cell_type": "markdown",
   "metadata": {},
   "source": [
    "#### ***CASE - I :: With 90% Level of Confidence***"
   ]
  },
  {
   "cell_type": "code",
   "execution_count": 69,
   "metadata": {},
   "outputs": [
    {
     "name": "stdout",
     "output_type": "stream",
     "text": [
      "Researcher claim is right. Thus, rejected the Null Hypothesis at 0.9 L.O.C and 0.1 L.O.S\n"
     ]
    }
   ],
   "source": [
    "hyp_test(women_kids_sample_results,0.90,'lr')"
   ]
  },
  {
   "cell_type": "markdown",
   "metadata": {},
   "source": [
    "#### ***CASE - II :: With 99% Level of Confidence***"
   ]
  },
  {
   "cell_type": "code",
   "execution_count": 70,
   "metadata": {},
   "outputs": [
    {
     "name": "stdout",
     "output_type": "stream",
     "text": [
      "Researcher claim is right. Thus, rejected the Null Hypothesis at 0.99 L.O.C and 0.01 L.O.S\n"
     ]
    }
   ],
   "source": [
    "hyp_test(women_kids_sample_results,0.99,'lr')"
   ]
  },
  {
   "cell_type": "markdown",
   "metadata": {},
   "source": [
    "#### ***CASE - III :: Changed the Sample Data***"
   ]
  },
  {
   "cell_type": "code",
   "execution_count": 71,
   "metadata": {},
   "outputs": [],
   "source": [
    "women_kids_changed_sample = np.random.randint(low=0, high=4, size=100, dtype='int')"
   ]
  },
  {
   "cell_type": "code",
   "execution_count": 72,
   "metadata": {},
   "outputs": [
    {
     "data": {
      "text/plain": [
       "array([0, 3, 3, 2, 3, 3, 2, 3, 0, 1, 0, 3, 0, 0, 3, 1, 3, 1, 0, 0, 2, 3,\n",
       "       3, 0, 0, 1, 2, 3, 2, 2, 2, 0, 0, 0, 1, 0, 2, 2, 2, 1, 0, 1, 2, 2,\n",
       "       1, 1, 1, 0, 1, 3, 2, 3, 2, 3, 3, 0, 1, 0, 0, 2, 2, 2, 2, 3, 1, 3,\n",
       "       3, 2, 2, 0, 0, 3, 1, 2, 2, 1, 1, 0, 3, 2, 1, 1, 2, 2, 0, 2, 2, 0,\n",
       "       0, 0, 0, 2, 2, 0, 2, 1, 0, 0, 2, 0])"
      ]
     },
     "execution_count": 72,
     "metadata": {},
     "output_type": "execute_result"
    }
   ],
   "source": [
    "women_kids_changed_sample"
   ]
  },
  {
   "cell_type": "code",
   "execution_count": 73,
   "metadata": {},
   "outputs": [],
   "source": [
    "women_kids_changed_sample_mean = np.mean(women_kids_changed_sample,dtype='float')"
   ]
  },
  {
   "cell_type": "code",
   "execution_count": 74,
   "metadata": {},
   "outputs": [
    {
     "data": {
      "text/plain": [
       "1.41"
      ]
     },
     "execution_count": 74,
     "metadata": {},
     "output_type": "execute_result"
    }
   ],
   "source": [
    "women_kids_changed_sample_mean"
   ]
  },
  {
   "cell_type": "code",
   "execution_count": 75,
   "metadata": {},
   "outputs": [],
   "source": [
    "women_kids_changed_sample_stddev = np.std(women_kids_changed_sample,ddof=0,dtype='float')"
   ]
  },
  {
   "cell_type": "code",
   "execution_count": 76,
   "metadata": {},
   "outputs": [
    {
     "data": {
      "text/plain": [
       "1.1144056711987786"
      ]
     },
     "execution_count": 76,
     "metadata": {},
     "output_type": "execute_result"
    }
   ],
   "source": [
    "women_kids_changed_sample_stddev"
   ]
  },
  {
   "cell_type": "code",
   "execution_count": 77,
   "metadata": {},
   "outputs": [],
   "source": [
    "women_kids_changed_sample_results = s_tests.ztest(women_kids_changed_sample, value=1.48, alternative='two-sided', ddof=0)"
   ]
  },
  {
   "cell_type": "code",
   "execution_count": 78,
   "metadata": {},
   "outputs": [
    {
     "data": {
      "text/plain": [
       "(-0.628137506916133, 0.529913864535)"
      ]
     },
     "execution_count": 78,
     "metadata": {},
     "output_type": "execute_result"
    }
   ],
   "source": [
    "women_kids_changed_sample_results"
   ]
  },
  {
   "cell_type": "code",
   "execution_count": 79,
   "metadata": {},
   "outputs": [
    {
     "name": "stdout",
     "output_type": "stream",
     "text": [
      "Researcher claim is wrong. Thus, fail to reject the Null Hypothesis at 0.99 L.O.C and 0.01 L.O.S\n"
     ]
    }
   ],
   "source": [
    "hyp_test(women_kids_changed_sample,0.99,'lr')"
   ]
  },
  {
   "cell_type": "markdown",
   "metadata": {},
   "source": [
    "## **POPULATION_PROPORTION**\n",
    "- **Using Z Score Chart/Table**\n",
    "---"
   ]
  },
  {
   "cell_type": "markdown",
   "metadata": {},
   "source": [
    "#### ***Question-7*** :: **As per the HR co-ordinators of different organizations in Germany, atleast 90% of the interns got permanent employment after completion of their internship. A researcher believes this number is too high. He gathered the interns hiring stats from 200 local companies. Test the claim at 90% and 99% LOC.**"
   ]
  },
  {
   "cell_type": "code",
   "execution_count": 80,
   "metadata": {},
   "outputs": [],
   "source": [
    "interns_hired_sample = np.random.randint(low=10,high=16,size=200,dtype='int')"
   ]
  },
  {
   "cell_type": "code",
   "execution_count": 81,
   "metadata": {},
   "outputs": [
    {
     "data": {
      "text/plain": [
       "array([15, 15, 15, 11, 12, 10, 12, 11, 10, 15, 11, 11, 12, 11, 11, 14, 12,\n",
       "       15, 10, 12, 11, 10, 12, 13, 10, 15, 13, 13, 15, 11, 14, 10, 15, 15,\n",
       "       12, 12, 10, 12, 12, 10, 10, 13, 15, 11, 15, 13, 11, 15, 10, 10, 11,\n",
       "       15, 11, 13, 14, 12, 13, 12, 14, 14, 14, 10, 15, 13, 10, 10, 10, 14,\n",
       "       15, 10, 15, 14, 13, 10, 11, 15, 14, 14, 14, 13, 10, 11, 12, 10, 13,\n",
       "       15, 15, 14, 11, 14, 11, 15, 13, 15, 15, 11, 10, 15, 14, 10, 11, 15,\n",
       "       13, 14, 15, 10, 15, 13, 12, 10, 12, 12, 12, 12, 10, 15, 10, 13, 14,\n",
       "       12, 15, 10, 12, 12, 12, 10, 11, 14, 13, 13, 15, 10, 12, 15, 15, 10,\n",
       "       14, 12, 12, 13, 10, 10, 12, 15, 11, 11, 14, 13, 12, 12, 13, 14, 10,\n",
       "       12, 14, 12, 12, 13, 13, 14, 13, 11, 12, 13, 12, 12, 12, 13, 11, 14,\n",
       "       10, 13, 13, 10, 15, 11, 10, 11, 13, 12, 11, 10, 14, 14, 10, 10, 11,\n",
       "       12, 10, 10, 14, 13, 10, 13, 15, 11, 13, 13, 12, 15])"
      ]
     },
     "execution_count": 81,
     "metadata": {},
     "output_type": "execute_result"
    }
   ],
   "source": [
    "interns_hired_sample"
   ]
  },
  {
   "cell_type": "code",
   "execution_count": 82,
   "metadata": {},
   "outputs": [],
   "source": [
    "interns_convereted_as_permanent = interns_hired_sample - np.random.randint(low=1,high=4,size=200,dtype='int')"
   ]
  },
  {
   "cell_type": "code",
   "execution_count": 83,
   "metadata": {},
   "outputs": [
    {
     "data": {
      "text/plain": [
       "array([12, 14, 13,  8, 11,  8, 10,  8,  8, 13,  9,  8,  9,  8,  9, 11, 10,\n",
       "       12,  9, 10,  9,  7, 10, 10,  8, 14, 10, 10, 14,  9, 11,  9, 13, 13,\n",
       "        9, 11,  7,  9, 11,  9,  8, 12, 13,  8, 12, 10,  8, 13,  9,  7,  9,\n",
       "       12,  8, 11, 13, 11, 12, 10, 12, 12, 12,  9, 14, 11,  7,  7,  9, 11,\n",
       "       12,  8, 14, 13, 11,  8,  9, 12, 13, 12, 11, 10,  7, 10, 11,  7, 10,\n",
       "       14, 13, 13,  8, 11, 10, 12, 10, 13, 12,  8,  8, 14, 13,  7,  8, 12,\n",
       "       10, 12, 14,  7, 12, 11, 10,  7,  9, 10,  9,  9,  8, 13,  8, 10, 11,\n",
       "       11, 13,  9, 10, 11,  9,  7,  9, 12, 10, 11, 12,  9,  9, 13, 13,  9,\n",
       "       12,  9, 10, 11,  7,  8, 11, 13,  8,  8, 12, 10, 11, 11, 10, 13,  9,\n",
       "        9, 12,  9, 11, 12, 11, 13, 10,  8, 11, 10,  9, 10,  9, 11,  9, 11,\n",
       "        8, 12, 11,  7, 12,  8,  7,  8, 10, 11,  8,  9, 12, 11,  7,  8, 10,\n",
       "        9,  9,  8, 11, 10,  9, 10, 13,  9, 11, 11, 10, 13])"
      ]
     },
     "execution_count": 83,
     "metadata": {},
     "output_type": "execute_result"
    }
   ],
   "source": [
    "interns_convereted_as_permanent"
   ]
  },
  {
   "cell_type": "code",
   "execution_count": 84,
   "metadata": {},
   "outputs": [],
   "source": [
    "interns_sample_prop = interns_convereted_as_permanent/interns_hired_sample"
   ]
  },
  {
   "cell_type": "code",
   "execution_count": 85,
   "metadata": {},
   "outputs": [
    {
     "data": {
      "text/plain": [
       "array([0.8       , 0.93333333, 0.86666667, 0.72727273, 0.91666667,\n",
       "       0.8       , 0.83333333, 0.72727273, 0.8       , 0.86666667,\n",
       "       0.81818182, 0.72727273, 0.75      , 0.72727273, 0.81818182,\n",
       "       0.78571429, 0.83333333, 0.8       , 0.9       , 0.83333333,\n",
       "       0.81818182, 0.7       , 0.83333333, 0.76923077, 0.8       ,\n",
       "       0.93333333, 0.76923077, 0.76923077, 0.93333333, 0.81818182,\n",
       "       0.78571429, 0.9       , 0.86666667, 0.86666667, 0.75      ,\n",
       "       0.91666667, 0.7       , 0.75      , 0.91666667, 0.9       ,\n",
       "       0.8       , 0.92307692, 0.86666667, 0.72727273, 0.8       ,\n",
       "       0.76923077, 0.72727273, 0.86666667, 0.9       , 0.7       ,\n",
       "       0.81818182, 0.8       , 0.72727273, 0.84615385, 0.92857143,\n",
       "       0.91666667, 0.92307692, 0.83333333, 0.85714286, 0.85714286,\n",
       "       0.85714286, 0.9       , 0.93333333, 0.84615385, 0.7       ,\n",
       "       0.7       , 0.9       , 0.78571429, 0.8       , 0.8       ,\n",
       "       0.93333333, 0.92857143, 0.84615385, 0.8       , 0.81818182,\n",
       "       0.8       , 0.92857143, 0.85714286, 0.78571429, 0.76923077,\n",
       "       0.7       , 0.90909091, 0.91666667, 0.7       , 0.76923077,\n",
       "       0.93333333, 0.86666667, 0.92857143, 0.72727273, 0.78571429,\n",
       "       0.90909091, 0.8       , 0.76923077, 0.86666667, 0.8       ,\n",
       "       0.72727273, 0.8       , 0.93333333, 0.92857143, 0.7       ,\n",
       "       0.72727273, 0.8       , 0.76923077, 0.85714286, 0.93333333,\n",
       "       0.7       , 0.8       , 0.84615385, 0.83333333, 0.7       ,\n",
       "       0.75      , 0.83333333, 0.75      , 0.75      , 0.8       ,\n",
       "       0.86666667, 0.8       , 0.76923077, 0.78571429, 0.91666667,\n",
       "       0.86666667, 0.9       , 0.83333333, 0.91666667, 0.75      ,\n",
       "       0.7       , 0.81818182, 0.85714286, 0.76923077, 0.84615385,\n",
       "       0.8       , 0.9       , 0.75      , 0.86666667, 0.86666667,\n",
       "       0.9       , 0.85714286, 0.75      , 0.83333333, 0.84615385,\n",
       "       0.7       , 0.8       , 0.91666667, 0.86666667, 0.72727273,\n",
       "       0.72727273, 0.85714286, 0.76923077, 0.91666667, 0.91666667,\n",
       "       0.76923077, 0.92857143, 0.9       , 0.75      , 0.85714286,\n",
       "       0.75      , 0.91666667, 0.92307692, 0.84615385, 0.92857143,\n",
       "       0.76923077, 0.72727273, 0.91666667, 0.76923077, 0.75      ,\n",
       "       0.83333333, 0.75      , 0.84615385, 0.81818182, 0.78571429,\n",
       "       0.8       , 0.92307692, 0.84615385, 0.7       , 0.8       ,\n",
       "       0.72727273, 0.7       , 0.72727273, 0.76923077, 0.91666667,\n",
       "       0.72727273, 0.9       , 0.85714286, 0.78571429, 0.7       ,\n",
       "       0.8       , 0.90909091, 0.75      , 0.9       , 0.8       ,\n",
       "       0.78571429, 0.76923077, 0.9       , 0.76923077, 0.86666667,\n",
       "       0.81818182, 0.84615385, 0.84615385, 0.83333333, 0.86666667])"
      ]
     },
     "execution_count": 85,
     "metadata": {},
     "output_type": "execute_result"
    }
   ],
   "source": [
    "interns_sample_prop"
   ]
  },
  {
   "cell_type": "code",
   "execution_count": 86,
   "metadata": {},
   "outputs": [],
   "source": [
    "interns_sample_prop_mean = round(np.mean(interns_sample_prop,dtype='float'),4)"
   ]
  },
  {
   "cell_type": "code",
   "execution_count": 87,
   "metadata": {},
   "outputs": [
    {
     "data": {
      "text/plain": [
       "0.821"
      ]
     },
     "execution_count": 87,
     "metadata": {},
     "output_type": "execute_result"
    }
   ],
   "source": [
    "interns_sample_prop_mean"
   ]
  },
  {
   "cell_type": "code",
   "execution_count": 88,
   "metadata": {},
   "outputs": [],
   "source": [
    "interns_sample_prop_stddev = round(np.std(interns_sample_prop),4)"
   ]
  },
  {
   "cell_type": "code",
   "execution_count": 89,
   "metadata": {},
   "outputs": [
    {
     "data": {
      "text/plain": [
       "0.0707"
      ]
     },
     "execution_count": 89,
     "metadata": {},
     "output_type": "execute_result"
    }
   ],
   "source": [
    "interns_sample_prop_stddev"
   ]
  },
  {
   "cell_type": "code",
   "execution_count": 90,
   "metadata": {},
   "outputs": [],
   "source": [
    "interns_hired_sample_results = sm.stats.proportions_ztest(interns_sample_prop_mean*200,nobs=200,value=0.90,alternative='smaller'\n",
    "                                                          ,prop_var=0.90)"
   ]
  },
  {
   "cell_type": "code",
   "execution_count": 91,
   "metadata": {},
   "outputs": [
    {
     "data": {
      "text/plain": [
       "(-3.724095714249154, 9.800827699801688e-05)"
      ]
     },
     "execution_count": 91,
     "metadata": {},
     "output_type": "execute_result"
    }
   ],
   "source": [
    "interns_hired_sample_results"
   ]
  },
  {
   "cell_type": "markdown",
   "metadata": {},
   "source": [
    "#### ***CASE - I :: With 90% Level of Confidence***"
   ]
  },
  {
   "cell_type": "code",
   "execution_count": 92,
   "metadata": {},
   "outputs": [
    {
     "name": "stdout",
     "output_type": "stream",
     "text": [
      "Researcher claim is right. Thus, rejected the Null Hypothesis at 0.9 L.O.C and 0.1 L.O.S\n"
     ]
    }
   ],
   "source": [
    "hyp_test(interns_hired_sample_results,0.90,'l')"
   ]
  },
  {
   "cell_type": "markdown",
   "metadata": {},
   "source": [
    "#### ***CASE - II :: With 99% Level of Confidence***"
   ]
  },
  {
   "cell_type": "code",
   "execution_count": 93,
   "metadata": {},
   "outputs": [
    {
     "name": "stdout",
     "output_type": "stream",
     "text": [
      "Researcher claim is right. Thus, rejected the Null Hypothesis at 0.99 L.O.C and 0.01 L.O.S\n"
     ]
    }
   ],
   "source": [
    "hyp_test(interns_hired_sample_results,0.99,'l')"
   ]
  },
  {
   "cell_type": "markdown",
   "metadata": {},
   "source": [
    "## **CHI_SQUARE_TEST**\n",
    "---"
   ]
  },
  {
   "cell_type": "markdown",
   "metadata": {},
   "source": [
    "#### ***Question-8*** :: **A pencil manufacturer requires that the mass of their pencils have S.D that won't exceed 0.08 gms. An inspector thinks that the S.D is larger. He samples 30 pencils & finds they have a mean mass of 1.62 gms & S.D 0.0804 gms. Test the claim at 0.05 L.O.S.**"
   ]
  },
  {
   "cell_type": "code",
   "execution_count": 94,
   "metadata": {},
   "outputs": [],
   "source": [
    "pencils_sample = np.random.randint(1,4,size=30,dtype='int')"
   ]
  },
  {
   "cell_type": "code",
   "execution_count": 95,
   "metadata": {},
   "outputs": [
    {
     "data": {
      "text/plain": [
       "array([2, 1, 1, 3, 2, 1, 3, 1, 1, 3, 1, 2, 1, 3, 3, 2, 2, 3, 1, 3, 2, 2,\n",
       "       3, 1, 2, 1, 2, 3, 3, 2])"
      ]
     },
     "execution_count": 95,
     "metadata": {},
     "output_type": "execute_result"
    }
   ],
   "source": [
    "pencils_sample"
   ]
  },
  {
   "cell_type": "code",
   "execution_count": 96,
   "metadata": {},
   "outputs": [],
   "source": [
    "def chi_square_one_pop(f_exp,loc,test_tail=(['l','r','lr']),ddof=False,sample_data=False,sample_stddev=False):\n",
    "    \"\"\"\n",
    "    Description: This function performs the Chi-square test for one population.\n",
    "    \n",
    "    Input parameters: It accepts below parameters:\n",
    "        1. f_exp : Expected Standard Deviation value or Standard Deviation value from population\n",
    "        2. loc : Level of confidence. Used this parameter to calculate the critical value\n",
    "        3. test_tail : This parameter represents which kind of test you want to perform\n",
    "        4. ddof : Degree of freedom. Use this paramter if you want to provide the adhoc value of dof\n",
    "        5. sample_data : One dimensional array containing the sample data\n",
    "        6. sample_stddev : You can provide the standard deviation of the sample directly as an input to perform the chi-sqaure test\n",
    "        \n",
    "    Returns:\n",
    "        - In case of 'l' means left-tail test, it returns,\n",
    "            - test_statistic\n",
    "            - left critical value\n",
    "            - p_value\n",
    "        \n",
    "        - In case of 'r' means right-tail test, it returns,\n",
    "            - test_statistic\n",
    "            - right critical value\n",
    "            - p_value\n",
    "\n",
    "        - In case of 'lr' means both-tail test, it returns,\n",
    "            - test_statistic\n",
    "            - left critical value\n",
    "            - right critical value\n",
    "            - p-value based on left tail\n",
    "            - p-value based on right tail\n",
    "\"\"\"\n",
    "    def cal_mean_var_std(input_array):\n",
    "        \"\"\"\n",
    "        Description: This function calculates the mean, variance and standard deviation of the 1 population.\n",
    "        \n",
    "        Input: It accepts below inp parameters:\n",
    "            1. input_array : Sample Population-1\n",
    "            \n",
    "        Returns: Population-1:\n",
    "                    - Mean\n",
    "                    - Variance\n",
    "                    - Standard Deviation\n",
    "        \"\"\"\n",
    "        sample_data_mean = round(np.mean(input_array,dtype='float'),3)\n",
    "        sample_data_stddev = round(np.mean(input_array,dtype='float'),3)\n",
    "        sample_data_var = round(np.var(input_array,dtype='float'),3)\n",
    "        return sample_data_mean, sample_data_var, sample_data_stddev\n",
    "    \n",
    "    if sample_stddev != False and sample_data == False and ddof != False:\n",
    "        sample_data_stddev = sample_stddev\n",
    "        sample_data_var = sample_data_stddev**2\n",
    "        dof = ddof\n",
    "    elif sample_data != False and sample_stddev == False and ddof == False:\n",
    "        sample_data_mean, sample_data_stddev, sample_data_var = cal_mean_var_std(sample_data)\n",
    "        total_obs = len(sample_data)\n",
    "        dof = (total_obs-1)\n",
    "    elif sample_data != False and sample_stddev == False and ddof != False:\n",
    "        sample_data_mean, sample_data_stddev, sample_data_var = cal_mean_var_std(sample_data)\n",
    "        dof = ddof\n",
    "    \n",
    "    f_exp_var = f_exp**2\n",
    "    \n",
    "    test_stat = (dof*sample_data_var)/f_exp_var\n",
    "    \n",
    "    def left_tail_crit_p_val(tail_test,c,df,test_statistic):\n",
    "        \"\"\"\n",
    "        Description: This function is performing the left tail chi-square hypothesis testing.\n",
    "        \n",
    "        Input: It accepts below input parameters:\n",
    "            1. tail_test : This should be 'l' as we are performing left-tail test\n",
    "            2. c : Level of confidence\n",
    "            3. df : Degree of freedom\n",
    "            4. test_statistic : Test statistic that we have calculated from the sample data\n",
    "        \n",
    "        Returns: Left tail-test:\n",
    "                    - Test Statistic\n",
    "                    - Critical value\n",
    "                    - p_value\n",
    "        \"\"\"\n",
    "        alpha = 1 - c\n",
    "        lower_tail_prob = alpha\n",
    "        critical_val = scipy_stests.chi2.ppf(lower_tail_prob,dof)\n",
    "        p_value = 1 - scipy_stests.chi2.cdf(test_stat,dof)\n",
    "        return test_stat, critical_val, p_value\n",
    "    \n",
    "    def right_tail_crit_p_val(tail_test,c,df,test_statistic):\n",
    "        \"\"\"\n",
    "        Description: This function is performing the right tail chi-square hypothesis testing.\n",
    "        \n",
    "        Input: It accepts below input parameters:\n",
    "            1. tail_test : This should be 'r' as we are performing left-tail test\n",
    "            2. c : Level of confidence\n",
    "            3. df : Degree of freedom\n",
    "            4. test_statistic : Test statistic that we have calculated from the sample data\n",
    "        \n",
    "        Returns: Right tail-test:\n",
    "                    - Test Statistic\n",
    "                    - Critical value\n",
    "                    - p_value\n",
    "        \"\"\"\n",
    "        lower_tail_prob = c\n",
    "        critical_val = scipy_stests.chi2.ppf(lower_tail_prob,dof)\n",
    "        p_value = 1 - scipy_stests.chi2.cdf(test_stat,dof)\n",
    "        return test_stat, critical_val, p_value\n",
    "         \n",
    "    def two_tail_crit_p_val(tail_test,c,df,test_statistic):\n",
    "        \"\"\"\n",
    "        Description: This function is performing the both or two tail chi-square hypothesis testing.\n",
    "        \n",
    "        Input: It accepts below input parameters:\n",
    "            1. tail_test : This should be 'lr' as we are performing left-tail test\n",
    "            2. c : Level of confidence\n",
    "            3. df : Degree of freedom\n",
    "            4. test_statistic : Test statistic that we have calculated from the sample data\n",
    "        \n",
    "        Returns: Both or Two tail-test:\n",
    "                    - Test Statistic\n",
    "                    - Left critical value\n",
    "                    - Right critical value\n",
    "                    - p value\n",
    "        \"\"\"  \n",
    "        l_alpha_by_2 = (1 - c)/2\n",
    "        l_lower_tail_prob = l_alpha_by_2\n",
    "        l_critical_val = scipy_tests.chi2.ppf(l_lower_tail_prob,dof)\n",
    "        r_lower_tail_prob = (1 - l_alpha_by_2)\n",
    "        r_critical_val = scipy_tests.chi2.ppf(r_lower_tail_prob,dof)\n",
    "        p_value = 1 - scipy_tests.chi2.cdf(test_stat,dof)\n",
    "        return test_stat, l_critical_val, r_critical_val, p_value\n",
    "    \n",
    "    if test_tail == 'l':\n",
    "        test_stat, l_cri_val, p_value = left_tail_crit_p_val(tail_test=test_tail,c=loc,df=dof,test_statistic=test_stat)\n",
    "        return test_stat, l_cri_val, p_value\n",
    "    if test_tail == 'r':\n",
    "        test_stat, r_cri_val, p_value = right_tail_crit_p_val(tail_test=test_tail,c=loc,df=dof,test_statistic=test_stat)\n",
    "        return test_stat, r_cri_val, p_value\n",
    "    if test_tail == 'lr':    \n",
    "        test_stat, l_cric_val, r_cric_val, p_value = two_tail_crit_p_val(tail_test=test_tail,c=loc,df=dof,test_statistic=test_stat)\n",
    "        return test_stat, l_cric_val, r_cric_val, p_value"
   ]
  },
  {
   "cell_type": "code",
   "execution_count": 97,
   "metadata": {},
   "outputs": [],
   "source": [
    "chi_square_one_pop_results = chi_square_one_pop(f_exp=4,loc=0.99,ddof=39,test_tail='lr',sample_stddev=3.2)"
   ]
  },
  {
   "cell_type": "code",
   "execution_count": 98,
   "metadata": {},
   "outputs": [
    {
     "data": {
      "text/plain": [
       "(24.960000000000004, 19.99586787495632, 65.47557090346805, 0.9604831078918762)"
      ]
     },
     "execution_count": 98,
     "metadata": {},
     "output_type": "execute_result"
    }
   ],
   "source": [
    "chi_square_one_pop_results"
   ]
  },
  {
   "cell_type": "code",
   "execution_count": 99,
   "metadata": {},
   "outputs": [],
   "source": [
    "def chi_square_hyp_test(test_stats_result,loc,kind_of_test=['l','r','lr']):\n",
    "    alpha = 1 - loc\n",
    "    if (kind_of_test == 'l') & (test_stats_result[-1] < alpha):\n",
    "        print(\"Researcher claim is right. Thus, rejected the Null Hypothesis at {} L.O.C and {} L.O.S\".format(loc,round(alpha,2)))\n",
    "    elif (kind_of_test == 'r') & (test_stats_result[-1] < alpha):\n",
    "        print(\"Researcher claim is right. Thus, rejected the Null Hypothesis at {} L.O.C and {} L.O.S\".format(loc,round(alpha,2)))\n",
    "    elif (kind_of_test == 'lr') & (test_stats_result[-1] < alpha) & ((test_stats_result[0] < test_stats_result[1]) or (test_stats_result[0]) > test_stats_result[2]):    \n",
    "        print(\"Researcher claim is right. Thus, rejected the Null Hypothesis at {} L.O.C and {} L.O.S\".format(loc,round(alpha,2)))\n",
    "    else:\n",
    "        print(\"Researcher claim is wrong. Thus, fail to reject the Null Hypothesis at {} L.O.C and {} L.O.S\".format(loc,round(alpha,2)))"
   ]
  },
  {
   "cell_type": "code",
   "execution_count": 100,
   "metadata": {},
   "outputs": [
    {
     "name": "stdout",
     "output_type": "stream",
     "text": [
      "Researcher claim is wrong. Thus, fail to reject the Null Hypothesis at 0.99 L.O.C and 0.01 L.O.S\n"
     ]
    }
   ],
   "source": [
    "chi_square_hyp_test(chi_square_one_pop_results,0.99,'lr')"
   ]
  },
  {
   "cell_type": "markdown",
   "metadata": {},
   "source": [
    "---\n",
    "# **``Two_Populations``**\n",
    "---"
   ]
  },
  {
   "cell_type": "markdown",
   "metadata": {},
   "source": [
    "Import handmade image here"
   ]
  },
  {
   "cell_type": "markdown",
   "metadata": {},
   "source": [
    "## **Large_Independent_Samples**\n",
    "---\n",
    "- #### **Independent samples means they are the true images of 2 populations which are:**\n",
    "    - not related to each other or \n",
    "    - not having any relationship among them or\n",
    "    - not dependent on each other or\n",
    "    - both the people or items in the populations are different\n",
    "- #### **This means n > 30, here n is sample size**"
   ]
  },
  {
   "cell_type": "markdown",
   "metadata": {},
   "source": [
    "#### ***Question-9*** :: **A researcher thinks that grocery shoppers spend more when they haven't eaten. To test, he samples 41 shoppers who didn't eat breakfast. These people spent on average USD 72.27 with a standard deviation of USD 8.05. 52 shoppers who did eat breakfast spent on average USD 69.43 with standard deviation USD 9.22. Test the claim at 95% level of confidence.**"
   ]
  },
  {
   "cell_type": "code",
   "execution_count": 101,
   "metadata": {},
   "outputs": [],
   "source": [
    "with_brkfst_sample1 = np.random.randint(low=60,high=90,size=52,dtype=np.int)"
   ]
  },
  {
   "cell_type": "code",
   "execution_count": 102,
   "metadata": {},
   "outputs": [],
   "source": [
    "with_brkfst_sample1_mean = round(np.mean(with_brkfst_sample1),3)"
   ]
  },
  {
   "cell_type": "code",
   "execution_count": 103,
   "metadata": {},
   "outputs": [
    {
     "data": {
      "text/plain": [
       "73.712"
      ]
     },
     "execution_count": 103,
     "metadata": {},
     "output_type": "execute_result"
    }
   ],
   "source": [
    "with_brkfst_sample1_mean"
   ]
  },
  {
   "cell_type": "code",
   "execution_count": 104,
   "metadata": {},
   "outputs": [],
   "source": [
    "with_brkfst_sample1_stddev = round(np.std(with_brkfst_sample1),3)"
   ]
  },
  {
   "cell_type": "code",
   "execution_count": 105,
   "metadata": {},
   "outputs": [
    {
     "data": {
      "text/plain": [
       "8.574"
      ]
     },
     "execution_count": 105,
     "metadata": {},
     "output_type": "execute_result"
    }
   ],
   "source": [
    "with_brkfst_sample1_stddev"
   ]
  },
  {
   "cell_type": "code",
   "execution_count": 106,
   "metadata": {},
   "outputs": [],
   "source": [
    "with_brkfst_sample2 = np.random.randint(low=69,high=91,size=41,dtype=np.int)"
   ]
  },
  {
   "cell_type": "code",
   "execution_count": 107,
   "metadata": {},
   "outputs": [],
   "source": [
    "with_brkfst_sample2_mean = round(np.mean(with_brkfst_sample2),3)"
   ]
  },
  {
   "cell_type": "code",
   "execution_count": 108,
   "metadata": {},
   "outputs": [
    {
     "data": {
      "text/plain": [
       "79.756"
      ]
     },
     "execution_count": 108,
     "metadata": {},
     "output_type": "execute_result"
    }
   ],
   "source": [
    "with_brkfst_sample2_mean"
   ]
  },
  {
   "cell_type": "code",
   "execution_count": 109,
   "metadata": {},
   "outputs": [],
   "source": [
    "with_brkfst_sample2_stddev = round(np.std(with_brkfst_sample2),3)"
   ]
  },
  {
   "cell_type": "code",
   "execution_count": 110,
   "metadata": {},
   "outputs": [
    {
     "data": {
      "text/plain": [
       "6.792"
      ]
     },
     "execution_count": 110,
     "metadata": {},
     "output_type": "execute_result"
    }
   ],
   "source": [
    "with_brkfst_sample2_stddev"
   ]
  },
  {
   "cell_type": "markdown",
   "metadata": {},
   "source": [
    "### **``Pooled_Large_Independent_Samples``**\n",
    "#### **Ztest :: Function of Statsmodels.api.stats.ztest & Statsmodels.stats.weightstats.ztest packages only performs ``Pooled`` independent samples hypothesis testing.**  "
   ]
  },
  {
   "cell_type": "code",
   "execution_count": 111,
   "metadata": {},
   "outputs": [],
   "source": [
    "two_pop_lrg_indp_samp_hyp_test_results = sm.stats.ztest(with_brkfst_sample1,with_brkfst_sample2,alternative='smaller',\n",
    "                                                        value=0,usevar='pooled',ddof=0)"
   ]
  },
  {
   "cell_type": "code",
   "execution_count": 112,
   "metadata": {},
   "outputs": [
    {
     "data": {
      "text/plain": [
       "(-3.6921489730210846, 0.00011118357058987912)"
      ]
     },
     "execution_count": 112,
     "metadata": {},
     "output_type": "execute_result"
    }
   ],
   "source": [
    "two_pop_lrg_indp_samp_hyp_test_results"
   ]
  },
  {
   "cell_type": "code",
   "execution_count": 113,
   "metadata": {},
   "outputs": [
    {
     "name": "stdout",
     "output_type": "stream",
     "text": [
      "Researcher claim is right. Thus, rejected the Null Hypothesis at 0.95 L.O.C and 0.05 L.O.S\n"
     ]
    }
   ],
   "source": [
    "hyp_test(two_pop_lrg_indp_samp_hyp_test_results,0.95,'l')"
   ]
  },
  {
   "cell_type": "markdown",
   "metadata": {},
   "source": [
    "#### **Manually calculating the Z Test Statistic for ``Large Independent Samples``**  "
   ]
  },
  {
   "cell_type": "code",
   "execution_count": 114,
   "metadata": {},
   "outputs": [
    {
     "data": {
      "text/plain": [
       "-3.793184145907696"
      ]
     },
     "execution_count": 114,
     "metadata": {},
     "output_type": "execute_result"
    }
   ],
   "source": [
    "(with_brkfst_sample1_mean - with_brkfst_sample2_mean)/(np.sqrt(((with_brkfst_sample1_stddev**2)/52)+((with_brkfst_sample2_stddev**2)/41)))"
   ]
  },
  {
   "cell_type": "markdown",
   "metadata": {},
   "source": [
    "##### **The above formula used for manual calculation of Z Test Statistic actually represents the formula for ``Not Pooled Sample`` large independent samples.**"
   ]
  },
  {
   "cell_type": "markdown",
   "metadata": {},
   "source": [
    "### **``Not-Pooled_Large_Independent_Samples``**\n",
    "#### **Ztest ::**\n",
    "- **As function of Statsmodels.api.stats.ztest & Statsmodels.stats.weightstats.ztest packages only performs ``Pooled`` independent samples hypothesis testing. Therefore, write below function:**  "
   ]
  },
  {
   "cell_type": "code",
   "execution_count": 115,
   "metadata": {},
   "outputs": [],
   "source": [
    "def ztest_notpooled(x1, x2=None, value=0, alternative='two-sided', usevar='pooled',\n",
    "          ddof=1.):\n",
    "    '''test for mean based on normal distribution, one or two samples\n",
    "\n",
    "    In the case of two samples, the samples are assumed to be independent.\n",
    "\n",
    "    Parameters\n",
    "    ----------\n",
    "    x1 : array_like, 1-D or 2-D\n",
    "        first of the two independent samples\n",
    "    x2 : array_like, 1-D or 2-D\n",
    "        second of the two independent samples\n",
    "    value : float\n",
    "        In the one sample case, value is the mean of x1 under the Null\n",
    "        hypothesis.\n",
    "        In the two sample case, value is the difference between mean of x1 and\n",
    "        mean of x2 under the Null hypothesis. The test statistic is\n",
    "        `x1_mean - x2_mean - value`.\n",
    "    alternative : string\n",
    "        The alternative hypothesis, H1, has to be one of the following\n",
    "\n",
    "           'two-sided': H1: difference in means not equal to value (default)\n",
    "           'larger' :   H1: difference in means larger than value\n",
    "           'smaller' :  H1: difference in means smaller than value\n",
    "\n",
    "    usevar : string, 'unequal'\n",
    "        ``unqual``, means the standard deviation of the samples is assumed to be\n",
    "        not the same.\n",
    "    ddof : int\n",
    "        Degrees of freedom use in the calculation of the variance of the mean\n",
    "        estimate. In the case of comparing means this is one, however it can\n",
    "        be adjusted for testing other statistics (proportion, correlation)\n",
    "\n",
    "    Returns\n",
    "    -------\n",
    "    tstat : float\n",
    "        test statisic\n",
    "    pvalue : float\n",
    "        pvalue of the t-test\n",
    "    '''\n",
    "    import numpy as np\n",
    "    from scipy import stats\n",
    "    \n",
    "    def _zstat_generic(value1, value2, std_diff, alternative, diff=0):\n",
    "        '''generic (normal) z-test to save typing\n",
    "        can be used as ztest based on summary statistics\n",
    "        '''\n",
    "        zstat = (value1 - value2 - diff) / std_diff\n",
    "        if alternative in ['two-sided', '2-sided', '2s']:\n",
    "            pvalue = stats.norm.sf(np.abs(zstat))*2\n",
    "        elif alternative in ['larger', 'l']:\n",
    "            pvalue = stats.norm.sf(zstat)\n",
    "        elif alternative in ['smaller', 's']:\n",
    "            pvalue = stats.norm.cdf(zstat)\n",
    "        else:\n",
    "            raise ValueError('invalid alternative')\n",
    "        return zstat, pvalue\n",
    "    \n",
    "    if usevar == 'unequal':\n",
    "        print(\"You are using Two populations whose variances are assumed to be ``Unequal`` or ``Not-pooled``\")\n",
    "#         raise NotImplementedError('only usevar=\"pooled\" is implemented')\n",
    "\n",
    "    x1 = np.asarray(x1)\n",
    "    nobs1 = x1.shape[0]\n",
    "    x1_mean = x1.mean(0)\n",
    "    x1_var = x1.var(0)\n",
    "    if x2 is not None:\n",
    "        x2 = np.asarray(x2)\n",
    "        nobs2 = x2.shape[0]\n",
    "        x2_mean = x2.mean(0)\n",
    "        x2_var = x2.var(0)\n",
    "        var_pooled = ((x1_var/nobs1) + (x2_var/nobs2))\n",
    "    else:\n",
    "        var_pooled = x1_var / (nobs1 - ddof)\n",
    "        x2_mean = 0\n",
    "\n",
    "    std_diff = np.sqrt(var_pooled)\n",
    "    #stat = x1_mean - x2_mean - value\n",
    "    z_stat, pvalue = _zstat_generic(x1_mean, x2_mean, std_diff, alternative, diff=value)\n",
    "    return z_stat, pvalue"
   ]
  },
  {
   "cell_type": "code",
   "execution_count": 116,
   "metadata": {},
   "outputs": [
    {
     "name": "stdout",
     "output_type": "stream",
     "text": [
      "You are using Two populations whose variances are assumed to be ``Unequal`` or ``Not-pooled``\n"
     ]
    }
   ],
   "source": [
    "z_test_not_pooled_results = ztest_notpooled(with_brkfst_sample1,with_brkfst_sample2,value=0,alternative='smaller',usevar='unequal')"
   ]
  },
  {
   "cell_type": "code",
   "execution_count": 117,
   "metadata": {},
   "outputs": [
    {
     "data": {
      "text/plain": [
       "(-3.793463061621872, 7.428036979351238e-05)"
      ]
     },
     "execution_count": 117,
     "metadata": {},
     "output_type": "execute_result"
    }
   ],
   "source": [
    "z_test_not_pooled_results"
   ]
  },
  {
   "cell_type": "code",
   "execution_count": 118,
   "metadata": {},
   "outputs": [
    {
     "name": "stdout",
     "output_type": "stream",
     "text": [
      "Researcher claim is right. Thus, rejected the Null Hypothesis at False L.O.C and 1 L.O.S\n"
     ]
    }
   ],
   "source": [
    "hyp_test(z_test_not_pooled_results,loc==0.95,'l')"
   ]
  },
  {
   "cell_type": "markdown",
   "metadata": {},
   "source": [
    "## **Small_Independent_Samples**\n",
    "---\n",
    "- #### **Independent samples means they are the true images of 2 populations which are:**\n",
    "    - not related to each other or \n",
    "    - not having any relationship among them or\n",
    "    - not dependent on each other or\n",
    "    - both the people or items in the populations are different\n",
    "- #### **This means n < 30, here n is sample size**"
   ]
  },
  {
   "cell_type": "markdown",
   "metadata": {},
   "source": [
    "### **``Pooled_Small_Independent_Samples``**"
   ]
  },
  {
   "cell_type": "markdown",
   "metadata": {},
   "source": [
    "#### ***Question-10*** :: **It is claimed that people who go to home improvement classes finish projects in less time. Group A is 10 people who attend a class. And, on average, they finish projects in 14.1 hrs with S.D of 2.3 hrs. Group B is 10 people who didn't attend a class and finish projects on average in 15 hrs with S.D of 2,4 hrs. Test the claim at 0.01 L.O.S.**"
   ]
  },
  {
   "cell_type": "code",
   "execution_count": 119,
   "metadata": {},
   "outputs": [],
   "source": [
    "ppl_not_joined_classes_sample1 = np.random.randint(low=1,high=6,size=10,dtype=np.int)"
   ]
  },
  {
   "cell_type": "code",
   "execution_count": 120,
   "metadata": {},
   "outputs": [
    {
     "data": {
      "text/plain": [
       "array([5, 2, 2, 5, 3, 4, 4, 1, 3, 5])"
      ]
     },
     "execution_count": 120,
     "metadata": {},
     "output_type": "execute_result"
    }
   ],
   "source": [
    "ppl_not_joined_classes_sample1"
   ]
  },
  {
   "cell_type": "code",
   "execution_count": 121,
   "metadata": {},
   "outputs": [],
   "source": [
    "ppl_not_joined_classes_sample1_mean = np.mean(ppl_not_joined_classes_sample1)"
   ]
  },
  {
   "cell_type": "code",
   "execution_count": 122,
   "metadata": {},
   "outputs": [
    {
     "data": {
      "text/plain": [
       "3.4"
      ]
     },
     "execution_count": 122,
     "metadata": {},
     "output_type": "execute_result"
    }
   ],
   "source": [
    "ppl_not_joined_classes_sample1_mean"
   ]
  },
  {
   "cell_type": "code",
   "execution_count": 123,
   "metadata": {},
   "outputs": [],
   "source": [
    "ppl_not_joined_classes_sample1_stddev = np.std(ppl_not_joined_classes_sample1)"
   ]
  },
  {
   "cell_type": "code",
   "execution_count": 124,
   "metadata": {},
   "outputs": [
    {
     "data": {
      "text/plain": [
       "1.3564659966250538"
      ]
     },
     "execution_count": 124,
     "metadata": {},
     "output_type": "execute_result"
    }
   ],
   "source": [
    "ppl_not_joined_classes_sample1_stddev"
   ]
  },
  {
   "cell_type": "code",
   "execution_count": 125,
   "metadata": {},
   "outputs": [],
   "source": [
    "ppl_not_joined_classes_sample2 = np.random.randint(low=1,high=4,size=10,dtype=np.int)"
   ]
  },
  {
   "cell_type": "code",
   "execution_count": 126,
   "metadata": {},
   "outputs": [
    {
     "data": {
      "text/plain": [
       "array([3, 1, 2, 3, 2, 1, 1, 2, 1, 2])"
      ]
     },
     "execution_count": 126,
     "metadata": {},
     "output_type": "execute_result"
    }
   ],
   "source": [
    "ppl_not_joined_classes_sample2"
   ]
  },
  {
   "cell_type": "code",
   "execution_count": 127,
   "metadata": {},
   "outputs": [],
   "source": [
    "ppl_not_joined_classes_sample2_mean = np.mean(ppl_not_joined_classes_sample2)"
   ]
  },
  {
   "cell_type": "code",
   "execution_count": 128,
   "metadata": {},
   "outputs": [
    {
     "data": {
      "text/plain": [
       "1.8"
      ]
     },
     "execution_count": 128,
     "metadata": {},
     "output_type": "execute_result"
    }
   ],
   "source": [
    "ppl_not_joined_classes_sample2_mean"
   ]
  },
  {
   "cell_type": "code",
   "execution_count": 129,
   "metadata": {},
   "outputs": [],
   "source": [
    "ppl_not_joined_classes_sample2_stddev = np.std(ppl_not_joined_classes_sample2)"
   ]
  },
  {
   "cell_type": "code",
   "execution_count": 130,
   "metadata": {},
   "outputs": [
    {
     "data": {
      "text/plain": [
       "0.7483314773547883"
      ]
     },
     "execution_count": 130,
     "metadata": {},
     "output_type": "execute_result"
    }
   ],
   "source": [
    "ppl_not_joined_classes_sample2_stddev"
   ]
  },
  {
   "cell_type": "code",
   "execution_count": 131,
   "metadata": {},
   "outputs": [],
   "source": [
    "ppl_imp_classes_results = s_tests.ttest_ind(x1=ppl_not_joined_classes_sample1,x2=ppl_not_joined_classes_sample2,\n",
    "                                            alternative='larger',value=0,usevar='pooled')"
   ]
  },
  {
   "cell_type": "code",
   "execution_count": 132,
   "metadata": {},
   "outputs": [
    {
     "data": {
      "text/plain": [
       "12.099999999999998"
      ]
     },
     "execution_count": 132,
     "metadata": {},
     "output_type": "execute_result"
    }
   ],
   "source": [
    "np.sum(np.array([ 0.7, -0.3, -0.3, -0.3, -0.3,  1.7, -0.3, -0.3, -2.3,  1.7])**2)"
   ]
  },
  {
   "cell_type": "code",
   "execution_count": 133,
   "metadata": {},
   "outputs": [
    {
     "data": {
      "text/plain": [
       "(3.0983866769659336, 0.0031005816629841696, 18.0)"
      ]
     },
     "execution_count": 133,
     "metadata": {},
     "output_type": "execute_result"
    }
   ],
   "source": [
    "ppl_imp_classes_results"
   ]
  },
  {
   "cell_type": "code",
   "execution_count": 134,
   "metadata": {},
   "outputs": [
    {
     "name": "stdout",
     "output_type": "stream",
     "text": [
      "Researcher claim is right. Thus, rejected the Null Hypothesis at 0.99 L.O.C and 0.01 L.O.S\n"
     ]
    }
   ],
   "source": [
    "hyp_test(ppl_imp_classes_results,loc=0.99,kind_of_test='r')"
   ]
  },
  {
   "cell_type": "markdown",
   "metadata": {},
   "source": [
    "### **``Not-Pooled_Small_Independent_Samples``**"
   ]
  },
  {
   "cell_type": "markdown",
   "metadata": {},
   "source": [
    "#### ***Question-11*** :: **A test preparation company claims that their class increases test scores. In city A, 15 students took the class and got an average score of 942 points with a S.D 103 points. In city B, 18 students did not take the class and got an average of 898 score with S.D of 95 points. Test the claim at 0.95 LOS. Because students are in different cities and assume variances not be equal.**"
   ]
  },
  {
   "cell_type": "code",
   "execution_count": 135,
   "metadata": {},
   "outputs": [],
   "source": [
    "test_scores_city1_sample = np.random.randint(low=790,high=1090,size=15,dtype=np.int)"
   ]
  },
  {
   "cell_type": "code",
   "execution_count": 136,
   "metadata": {},
   "outputs": [],
   "source": [
    "test_scores_city1_sample_mean = round(np.mean(test_scores_city1_sample),3)"
   ]
  },
  {
   "cell_type": "code",
   "execution_count": 137,
   "metadata": {},
   "outputs": [
    {
     "data": {
      "text/plain": [
       "948.533"
      ]
     },
     "execution_count": 137,
     "metadata": {},
     "output_type": "execute_result"
    }
   ],
   "source": [
    "test_scores_city1_sample_mean"
   ]
  },
  {
   "cell_type": "code",
   "execution_count": 138,
   "metadata": {},
   "outputs": [],
   "source": [
    "test_scores_city1_sample_stddev = np.std(test_scores_city1_sample)"
   ]
  },
  {
   "cell_type": "code",
   "execution_count": 139,
   "metadata": {},
   "outputs": [
    {
     "data": {
      "text/plain": [
       "75.76003050568434"
      ]
     },
     "execution_count": 139,
     "metadata": {},
     "output_type": "execute_result"
    }
   ],
   "source": [
    "test_scores_city1_sample_stddev"
   ]
  },
  {
   "cell_type": "code",
   "execution_count": 140,
   "metadata": {},
   "outputs": [],
   "source": [
    "test_scores_city2_sample = np.random.randint(low=600,high=990,size=18,dtype=np.int)"
   ]
  },
  {
   "cell_type": "code",
   "execution_count": 141,
   "metadata": {},
   "outputs": [],
   "source": [
    "test_scores_city2_sample_mean = round(np.mean(test_scores_city2_sample),3)"
   ]
  },
  {
   "cell_type": "code",
   "execution_count": 142,
   "metadata": {},
   "outputs": [
    {
     "data": {
      "text/plain": [
       "830.889"
      ]
     },
     "execution_count": 142,
     "metadata": {},
     "output_type": "execute_result"
    }
   ],
   "source": [
    "test_scores_city2_sample_mean"
   ]
  },
  {
   "cell_type": "code",
   "execution_count": 143,
   "metadata": {},
   "outputs": [],
   "source": [
    "test_scores_city2_sample_stddev = round(np.std(test_scores_city2_sample),3)"
   ]
  },
  {
   "cell_type": "code",
   "execution_count": 144,
   "metadata": {},
   "outputs": [
    {
     "data": {
      "text/plain": [
       "115.792"
      ]
     },
     "execution_count": 144,
     "metadata": {},
     "output_type": "execute_result"
    }
   ],
   "source": [
    "test_scores_city2_sample_stddev"
   ]
  },
  {
   "cell_type": "code",
   "execution_count": 145,
   "metadata": {},
   "outputs": [],
   "source": [
    "test_scores_results = s_tests.ttest_ind(x1=test_scores_city2_sample,x2=test_scores_city1_sample,\n",
    "                                        alternative='smaller',value=0,usevar='unequal')"
   ]
  },
  {
   "cell_type": "code",
   "execution_count": 146,
   "metadata": {},
   "outputs": [
    {
     "data": {
      "text/plain": [
       "(-3.3979971510004034, 0.0009789707229456185, 29.56621960191305)"
      ]
     },
     "execution_count": 146,
     "metadata": {},
     "output_type": "execute_result"
    }
   ],
   "source": [
    "test_scores_results"
   ]
  },
  {
   "cell_type": "code",
   "execution_count": 147,
   "metadata": {},
   "outputs": [
    {
     "name": "stdout",
     "output_type": "stream",
     "text": [
      "Researcher claim is right. Thus, rejected the Null Hypothesis at 0.95 L.O.C and 0.05 L.O.S\n"
     ]
    }
   ],
   "source": [
    "hyp_test(test_scores_results,loc=0.95,kind_of_test='l')"
   ]
  },
  {
   "cell_type": "code",
   "execution_count": 148,
   "metadata": {},
   "outputs": [
    {
     "data": {
      "text/plain": [
       "array([ 866959.162,  957069.797,  850834.101, 1018724.442,  920077.01 ,\n",
       "        822378.111, 1007342.046,  970349.259,  972246.325,  828069.309,\n",
       "        856525.299,  816686.913,  891621.02 ,  932407.939,  784436.791])"
      ]
     },
     "execution_count": 148,
     "metadata": {},
     "output_type": "execute_result"
    }
   ],
   "source": [
    "np.dot(test_scores_city1_sample,test_scores_city1_sample_mean)"
   ]
  },
  {
   "cell_type": "markdown",
   "metadata": {},
   "source": [
    "## **``Population_Proportions``**\n",
    "### **``Large_Independent_Proportions``**"
   ]
  },
  {
   "cell_type": "markdown",
   "metadata": {},
   "source": [
    "##### **While working with population proportions use Z-Test as we use large independent samples.**\n",
    "##### **Also, when we are working with proportions then we check below two contraints:**\n",
    "- **``n.p >= c``**\n",
    "- **``n.(1-p) >=c``**\n",
    "##### **Here, c can either be 5 or 10. Now, in case of two populations we need to perform the above checks on both the populations:**\n",
    "- **``n1.p1_hat >= c``**\n",
    "- **``n1.(1-p1_hat) >=c``**\n",
    "\n",
    "**&&**\n",
    "\n",
    "- **``n2.p2_hat >= c``**\n",
    "- **``n2.(1-p2_hat) >=c``**"
   ]
  },
  {
   "cell_type": "markdown",
   "metadata": {},
   "source": [
    "#### ***Question-12*** :: **A reporter thinks that the president's approval rating has improved following an article he published. Before the article, 480 out of 1200 citizens approved the president. After the article, 550 out of 1180 citizens approved his work. Test the claim at 5% level of significance.**"
   ]
  },
  {
   "cell_type": "markdown",
   "metadata": {},
   "source": [
    "##### ***Before article publication :: Population-1***"
   ]
  },
  {
   "cell_type": "code",
   "execution_count": 149,
   "metadata": {},
   "outputs": [],
   "source": [
    "n1 = 1200\n",
    "x1 = 480.0\n",
    "p1_hat = x1/n1"
   ]
  },
  {
   "cell_type": "markdown",
   "metadata": {},
   "source": [
    "##### ***After article publication :: Population-2***"
   ]
  },
  {
   "cell_type": "code",
   "execution_count": 150,
   "metadata": {},
   "outputs": [],
   "source": [
    "n2 = 1180\n",
    "x2 = 550.0\n",
    "p2_hat = x2/n2"
   ]
  },
  {
   "cell_type": "code",
   "execution_count": 151,
   "metadata": {},
   "outputs": [],
   "source": [
    "article_publish_results = sm.stats.proportions_ztest([x1,x2],[1200,1180],value=0,alternative='smaller',prop_var=False)"
   ]
  },
  {
   "cell_type": "code",
   "execution_count": 152,
   "metadata": {},
   "outputs": [
    {
     "data": {
      "text/plain": [
       "(-3.254222203903385, 0.000568516524275598)"
      ]
     },
     "execution_count": 152,
     "metadata": {},
     "output_type": "execute_result"
    }
   ],
   "source": [
    "article_publish_results"
   ]
  },
  {
   "cell_type": "markdown",
   "metadata": {},
   "source": [
    "##### **``prop_var``** **parameter in sm.stats.proportions_ztest function is actually p_bar if it is false then p_bar is calculated from the samples(based upon the variances in the proportions) else we can provide p_bar externally based upon the variances of the populations.**"
   ]
  },
  {
   "cell_type": "code",
   "execution_count": 153,
   "metadata": {},
   "outputs": [
    {
     "name": "stdout",
     "output_type": "stream",
     "text": [
      "Researcher claim is right. Thus, rejected the Null Hypothesis at 0.95 L.O.C and 0.05 L.O.S\n"
     ]
    }
   ],
   "source": [
    "hyp_test(article_publish_results,0.95,'l')"
   ]
  },
  {
   "cell_type": "markdown",
   "metadata": {},
   "source": [
    "#### ***Question-13*** :: **A dealer claims that more cars are purchased by single women then single men. When studying single women, 100 out of 500 purchases were made. In the men's study, 72 out of 500 single men bought cars. Test the claim at 0.01 L.O.S.**"
   ]
  },
  {
   "cell_type": "markdown",
   "metadata": {},
   "source": [
    "##### ***Population-1 :: Single Men***"
   ]
  },
  {
   "cell_type": "code",
   "execution_count": 154,
   "metadata": {},
   "outputs": [],
   "source": [
    "n1 = 500\n",
    "x1 = 72\n",
    "p1_hat = x1/n1"
   ]
  },
  {
   "cell_type": "markdown",
   "metadata": {},
   "source": [
    "##### ***Population-2 :: Single Women***"
   ]
  },
  {
   "cell_type": "code",
   "execution_count": 155,
   "metadata": {},
   "outputs": [],
   "source": [
    "n2 = 500\n",
    "x2 = 100\n",
    "p1_hat = x2/n2"
   ]
  },
  {
   "cell_type": "code",
   "execution_count": 156,
   "metadata": {},
   "outputs": [],
   "source": [
    "more_cars_results = sm.stats.proportions_ztest([72,100],[500,500],alternative='smaller',value=0,prop_var=False)"
   ]
  },
  {
   "cell_type": "code",
   "execution_count": 157,
   "metadata": {},
   "outputs": [
    {
     "data": {
      "text/plain": [
       "(-2.3462735216221846, 0.009481093151657639)"
      ]
     },
     "execution_count": 157,
     "metadata": {},
     "output_type": "execute_result"
    }
   ],
   "source": [
    "more_cars_results"
   ]
  },
  {
   "cell_type": "code",
   "execution_count": 158,
   "metadata": {},
   "outputs": [
    {
     "name": "stdout",
     "output_type": "stream",
     "text": [
      "Researcher claim is right. Thus, rejected the Null Hypothesis at 0.99 L.O.C and 0.01 L.O.S\n"
     ]
    }
   ],
   "source": [
    "hyp_test(more_cars_results,0.99,'l')"
   ]
  },
  {
   "cell_type": "markdown",
   "metadata": {},
   "source": [
    "## **``Dependent_Samples``**\n",
    "### **``Small_Dependent_Samples``**\n",
    "##### **Dependent samples testing is also known as Paired or Before/After testing.**"
   ]
  },
  {
   "cell_type": "markdown",
   "metadata": {},
   "source": [
    "#### ***Question-14*** :: **A memory class claims that after taking class you will lose keys less often. To test, 12 people are interviewed before and after the class. Test the claim at 0.05 L.O.S.**"
   ]
  },
  {
   "cell_type": "code",
   "execution_count": 159,
   "metadata": {},
   "outputs": [],
   "source": [
    "before_sample = np.array([8,10,6,7,4,11,12,5,6,3,6,4])\n",
    "after_sample = np.array([6,5,6,6,5,9,4,5,4,4,5,4])"
   ]
  },
  {
   "cell_type": "code",
   "execution_count": 160,
   "metadata": {},
   "outputs": [],
   "source": [
    "forgot_car_keys_results = scipy_tests.ttest_rel(after_sample,before_sample)"
   ]
  },
  {
   "cell_type": "code",
   "execution_count": 161,
   "metadata": {},
   "outputs": [],
   "source": [
    "car_keys_results = [val for val in forgot_car_keys_results]"
   ]
  },
  {
   "cell_type": "code",
   "execution_count": 162,
   "metadata": {},
   "outputs": [],
   "source": [
    "car_keys_results[-1] = car_keys_results[-1]/2"
   ]
  },
  {
   "cell_type": "code",
   "execution_count": 163,
   "metadata": {},
   "outputs": [
    {
     "data": {
      "text/plain": [
       "[-2.1016969678345916, 0.029712728981468543]"
      ]
     },
     "execution_count": 163,
     "metadata": {},
     "output_type": "execute_result"
    }
   ],
   "source": [
    "car_keys_results"
   ]
  },
  {
   "cell_type": "code",
   "execution_count": 164,
   "metadata": {},
   "outputs": [
    {
     "name": "stdout",
     "output_type": "stream",
     "text": [
      "Researcher claim is right. Thus, rejected the Null Hypothesis at 0.95 L.O.C and 0.05 L.O.S\n"
     ]
    }
   ],
   "source": [
    "hyp_test(car_keys_results,loc=0.95,kind_of_test='l')"
   ]
  },
  {
   "cell_type": "code",
   "execution_count": 165,
   "metadata": {},
   "outputs": [
    {
     "data": {
      "text/plain": [
       "0.029712728981468543"
      ]
     },
     "execution_count": 165,
     "metadata": {},
     "output_type": "execute_result"
    }
   ],
   "source": [
    "scipy_tests.t.cdf(-2.1016969678345916,11)"
   ]
  },
  {
   "cell_type": "markdown",
   "metadata": {},
   "source": [
    "## **``F-Distribution``**"
   ]
  },
  {
   "cell_type": "markdown",
   "metadata": {},
   "source": [
    "![F_distribution](Self_notes_F_Distribution.png)"
   ]
  },
  {
   "cell_type": "markdown",
   "metadata": {},
   "source": [
    "#### ***Question-15*** :: **Two plants produce pencils. A manager believes that plant A is malfunctioning and that the variance in pencil length at plant A is greater than the variance at plant B. He samples 20 pencils from a each plant. Plant A has a sample variance of 1.45. Plant B has a sample of 0.47. Test the claim with 99% LOC.**"
   ]
  },
  {
   "cell_type": "code",
   "execution_count": 166,
   "metadata": {},
   "outputs": [],
   "source": [
    "def f_dist_test(x1,x2,loc=0.95,alternative='two-sided',usevar='pooled',cal_x1_x2_var=False,n1_obsv=False,n2_obsv=False):\n",
    "    \"\"\"\n",
    "    Description\n",
    "    \"\"\"\n",
    "    from scipy import stats as scipy_t\n",
    "    \n",
    "    if cal_x1_x2_var == False:\n",
    "        s1_var = (1. * x1)\n",
    "        s2_var = (1. * x2)\n",
    "        nobs1 = n1_obsv\n",
    "        nobs2 = n2_obsv\n",
    "        dof1 = nobs1 - 1\n",
    "        dof2 = nobs2 - 1\n",
    "    else:\n",
    "        s1,s2 = np.asarray(x1),np.asarray(x2)\n",
    "        nobs1 = len(s1)\n",
    "        nobs2 = len(s2)\n",
    "        dof1 = nobs1 - 1\n",
    "        dof2 = nobs2 - 1\n",
    "        s1_var,s2_var = np.var(s1),np.var(s2)\n",
    "        \n",
    "    f_test_stat = (s1_var) * (1./s2_var)\n",
    "\n",
    "    if alternative == 'larger':\n",
    "        f_distribution = scipy_t.f(dof1,dof2)\n",
    "        p_value = 1 - f_distribution.cdf(f_test_stat)\n",
    "        f_critical = f_distribution.ppf(loc)\n",
    "        return f_test_stat, p_value, f_critical\n",
    "    if alternative == 'smaller':\n",
    "        f_distribution = scipy_t.f(dof1,dof2)\n",
    "        p_value = f_distribution.cdf(f_test_stat)\n",
    "        f_critical = f_distribution.ppf(1 - loc)\n",
    "        return f_test_stat, p_value, f_critical\n",
    "    if alternative == 'two-sided':\n",
    "        alpha = 1 - loc\n",
    "        alpha_by_2 = alpha/2\n",
    "        one_minus_alpha_by_2 = 1 - alpha_by_2\n",
    "        f_distribution = scipy_t.f(dof2,dof1)\n",
    "        p_value = 2 * min(f_distribution.cdf(f_test_stat), 1 - f_distribution.cdf(f_test_stat))\n",
    "        f_critical1 = f_distribution.ppf(alpha_by_2)\n",
    "        f_critical2 = f_distribution.ppf(one_minus_alpha_by_2)\n",
    "        return f_test_stat, p_value, f_critical1, f_critical2"
   ]
  },
  {
   "cell_type": "code",
   "execution_count": 167,
   "metadata": {},
   "outputs": [
    {
     "data": {
      "text/plain": [
       "(0.4469606674612634,\n",
       " 0.10101852367952315,\n",
       " 0.4458531906090123,\n",
       " 2.197729268843808)"
      ]
     },
     "execution_count": 167,
     "metadata": {},
     "output_type": "execute_result"
    }
   ],
   "source": [
    "f_dist_test(7.50,16.78,loc=0.90,alternative='two-sided',cal_x1_x2_var=False,n1_obsv=20,n2_obsv=18)"
   ]
  },
  {
   "cell_type": "markdown",
   "metadata": {},
   "source": [
    "## **``ANOVA``**\n",
    "#### **``Analysis of Variance``**"
   ]
  },
  {
   "cell_type": "code",
   "execution_count": 262,
   "metadata": {},
   "outputs": [],
   "source": [
    "from statsmodels import stats as st_stats\n",
    "from statsmodels import api as sm\n",
    "from statsmodels.stats import weightstats as ws\n",
    "from scipy import stats as scipy_stats"
   ]
  },
  {
   "cell_type": "markdown",
   "metadata": {},
   "source": [
    "### **``Room Dataset``**"
   ]
  },
  {
   "cell_type": "code",
   "execution_count": 265,
   "metadata": {},
   "outputs": [],
   "source": [
    "ppl_age_in_room_df = pd.DataFrame({'Room1':[18,19,20,21,22,23,18,19,20,21],'Room2':[18,20,16,20,21,20,18,19,17,13],\n",
    "                       'Room3':[21,22,17,18,22,19,21,20,18,23]})"
   ]
  },
  {
   "cell_type": "code",
   "execution_count": 266,
   "metadata": {},
   "outputs": [
    {
     "data": {
      "text/html": [
       "<div>\n",
       "<style scoped>\n",
       "    .dataframe tbody tr th:only-of-type {\n",
       "        vertical-align: middle;\n",
       "    }\n",
       "\n",
       "    .dataframe tbody tr th {\n",
       "        vertical-align: top;\n",
       "    }\n",
       "\n",
       "    .dataframe thead th {\n",
       "        text-align: right;\n",
       "    }\n",
       "</style>\n",
       "<table border=\"1\" class=\"dataframe\">\n",
       "  <thead>\n",
       "    <tr style=\"text-align: right;\">\n",
       "      <th></th>\n",
       "      <th>Room1</th>\n",
       "      <th>Room2</th>\n",
       "      <th>Room3</th>\n",
       "    </tr>\n",
       "  </thead>\n",
       "  <tbody>\n",
       "    <tr>\n",
       "      <th>0</th>\n",
       "      <td>18</td>\n",
       "      <td>18</td>\n",
       "      <td>21</td>\n",
       "    </tr>\n",
       "    <tr>\n",
       "      <th>1</th>\n",
       "      <td>19</td>\n",
       "      <td>20</td>\n",
       "      <td>22</td>\n",
       "    </tr>\n",
       "    <tr>\n",
       "      <th>2</th>\n",
       "      <td>20</td>\n",
       "      <td>16</td>\n",
       "      <td>17</td>\n",
       "    </tr>\n",
       "    <tr>\n",
       "      <th>3</th>\n",
       "      <td>21</td>\n",
       "      <td>20</td>\n",
       "      <td>18</td>\n",
       "    </tr>\n",
       "    <tr>\n",
       "      <th>4</th>\n",
       "      <td>22</td>\n",
       "      <td>21</td>\n",
       "      <td>22</td>\n",
       "    </tr>\n",
       "    <tr>\n",
       "      <th>5</th>\n",
       "      <td>23</td>\n",
       "      <td>20</td>\n",
       "      <td>19</td>\n",
       "    </tr>\n",
       "    <tr>\n",
       "      <th>6</th>\n",
       "      <td>18</td>\n",
       "      <td>18</td>\n",
       "      <td>21</td>\n",
       "    </tr>\n",
       "    <tr>\n",
       "      <th>7</th>\n",
       "      <td>19</td>\n",
       "      <td>19</td>\n",
       "      <td>20</td>\n",
       "    </tr>\n",
       "    <tr>\n",
       "      <th>8</th>\n",
       "      <td>20</td>\n",
       "      <td>17</td>\n",
       "      <td>18</td>\n",
       "    </tr>\n",
       "    <tr>\n",
       "      <th>9</th>\n",
       "      <td>21</td>\n",
       "      <td>13</td>\n",
       "      <td>23</td>\n",
       "    </tr>\n",
       "  </tbody>\n",
       "</table>\n",
       "</div>"
      ],
      "text/plain": [
       "   Room1  Room2  Room3\n",
       "0     18     18     21\n",
       "1     19     20     22\n",
       "2     20     16     17\n",
       "3     21     20     18\n",
       "4     22     21     22\n",
       "5     23     20     19\n",
       "6     18     18     21\n",
       "7     19     19     20\n",
       "8     20     17     18\n",
       "9     21     13     23"
      ]
     },
     "execution_count": 266,
     "metadata": {},
     "output_type": "execute_result"
    }
   ],
   "source": [
    "ppl_age_in_room_df"
   ]
  },
  {
   "cell_type": "markdown",
   "metadata": {},
   "source": [
    "#### **``Now as per the current standards ::``**\n",
    "\\begin{align}\n",
    "\\\\\n",
    "\\\\ (Null Hypothesis) \\ H_{0} & : \\sigma_{Room1}^2 = \\sigma_{Room2}^2 = \\sigma_{Room3}^2\n",
    "\\\\\n",
    "\\\\ (Alternate Hypothesis) \\ H_{a} & : \\sigma_{Room1}^2 =<> \\sigma_{Room2}^2 = <> \\sigma_{Room3}^2\n",
    "\\end{align}\n",
    "\n",
    "##### **``As per the Research or Alternate Hypothesis we are saying that the variance in either one or more rooms is different from others.``**\n",
    "#### **``Let's use ANOVA to figure out the same :``**"
   ]
  },
  {
   "cell_type": "code",
   "execution_count": 268,
   "metadata": {},
   "outputs": [],
   "source": [
    "f_test_stats_room, p_val_room = scipy_stats.f_oneway(ppl_age_in_room_df['Room1'],ppl_age_in_room_df['Room2'],ppl_age_in_room_df['Room3'])"
   ]
  },
  {
   "cell_type": "code",
   "execution_count": 269,
   "metadata": {},
   "outputs": [
    {
     "data": {
      "text/plain": [
       "(2.8650793650793656, 0.07440657447527071)"
      ]
     },
     "execution_count": 269,
     "metadata": {},
     "output_type": "execute_result"
    }
   ],
   "source": [
    "f_test_stats_room, p_val_room"
   ]
  },
  {
   "cell_type": "code",
   "execution_count": 274,
   "metadata": {},
   "outputs": [],
   "source": [
    "ppl_age_in_room_df_melt = pd.melt(ppl_age_in_room_df.reset_index(),id_vars=['index'],value_vars=['Room1','Room2','Room3']\n",
    "                                  ,var_name='Rooms',value_name='PPL_Age')"
   ]
  },
  {
   "cell_type": "code",
   "execution_count": 275,
   "metadata": {},
   "outputs": [
    {
     "data": {
      "text/html": [
       "<div>\n",
       "<style scoped>\n",
       "    .dataframe tbody tr th:only-of-type {\n",
       "        vertical-align: middle;\n",
       "    }\n",
       "\n",
       "    .dataframe tbody tr th {\n",
       "        vertical-align: top;\n",
       "    }\n",
       "\n",
       "    .dataframe thead th {\n",
       "        text-align: right;\n",
       "    }\n",
       "</style>\n",
       "<table border=\"1\" class=\"dataframe\">\n",
       "  <thead>\n",
       "    <tr style=\"text-align: right;\">\n",
       "      <th></th>\n",
       "      <th>index</th>\n",
       "      <th>Rooms</th>\n",
       "      <th>PPL_Age</th>\n",
       "    </tr>\n",
       "  </thead>\n",
       "  <tbody>\n",
       "    <tr>\n",
       "      <th>0</th>\n",
       "      <td>0</td>\n",
       "      <td>Room1</td>\n",
       "      <td>18</td>\n",
       "    </tr>\n",
       "    <tr>\n",
       "      <th>1</th>\n",
       "      <td>1</td>\n",
       "      <td>Room1</td>\n",
       "      <td>19</td>\n",
       "    </tr>\n",
       "    <tr>\n",
       "      <th>2</th>\n",
       "      <td>2</td>\n",
       "      <td>Room1</td>\n",
       "      <td>20</td>\n",
       "    </tr>\n",
       "    <tr>\n",
       "      <th>3</th>\n",
       "      <td>3</td>\n",
       "      <td>Room1</td>\n",
       "      <td>21</td>\n",
       "    </tr>\n",
       "    <tr>\n",
       "      <th>4</th>\n",
       "      <td>4</td>\n",
       "      <td>Room1</td>\n",
       "      <td>22</td>\n",
       "    </tr>\n",
       "    <tr>\n",
       "      <th>5</th>\n",
       "      <td>5</td>\n",
       "      <td>Room1</td>\n",
       "      <td>23</td>\n",
       "    </tr>\n",
       "    <tr>\n",
       "      <th>6</th>\n",
       "      <td>6</td>\n",
       "      <td>Room1</td>\n",
       "      <td>18</td>\n",
       "    </tr>\n",
       "    <tr>\n",
       "      <th>7</th>\n",
       "      <td>7</td>\n",
       "      <td>Room1</td>\n",
       "      <td>19</td>\n",
       "    </tr>\n",
       "    <tr>\n",
       "      <th>8</th>\n",
       "      <td>8</td>\n",
       "      <td>Room1</td>\n",
       "      <td>20</td>\n",
       "    </tr>\n",
       "    <tr>\n",
       "      <th>9</th>\n",
       "      <td>9</td>\n",
       "      <td>Room1</td>\n",
       "      <td>21</td>\n",
       "    </tr>\n",
       "  </tbody>\n",
       "</table>\n",
       "</div>"
      ],
      "text/plain": [
       "   index  Rooms  PPL_Age\n",
       "0      0  Room1       18\n",
       "1      1  Room1       19\n",
       "2      2  Room1       20\n",
       "3      3  Room1       21\n",
       "4      4  Room1       22\n",
       "5      5  Room1       23\n",
       "6      6  Room1       18\n",
       "7      7  Room1       19\n",
       "8      8  Room1       20\n",
       "9      9  Room1       21"
      ]
     },
     "execution_count": 275,
     "metadata": {},
     "output_type": "execute_result"
    }
   ],
   "source": [
    "ppl_age_in_room_df_melt.head(10)"
   ]
  },
  {
   "cell_type": "code",
   "execution_count": 273,
   "metadata": {},
   "outputs": [],
   "source": [
    "from statsmodels.formula.api import ols"
   ]
  },
  {
   "cell_type": "code",
   "execution_count": 276,
   "metadata": {},
   "outputs": [],
   "source": [
    "model = ols(formula='PPL_Age ~ C(Rooms)',data=ppl_age_in_room_df_melt).fit()"
   ]
  },
  {
   "cell_type": "code",
   "execution_count": 279,
   "metadata": {},
   "outputs": [],
   "source": [
    "anova_table_rooms = sm.stats.anova_lm(model,typ=1)"
   ]
  },
  {
   "cell_type": "code",
   "execution_count": 280,
   "metadata": {},
   "outputs": [
    {
     "data": {
      "text/html": [
       "<div>\n",
       "<style scoped>\n",
       "    .dataframe tbody tr th:only-of-type {\n",
       "        vertical-align: middle;\n",
       "    }\n",
       "\n",
       "    .dataframe tbody tr th {\n",
       "        vertical-align: top;\n",
       "    }\n",
       "\n",
       "    .dataframe thead th {\n",
       "        text-align: right;\n",
       "    }\n",
       "</style>\n",
       "<table border=\"1\" class=\"dataframe\">\n",
       "  <thead>\n",
       "    <tr style=\"text-align: right;\">\n",
       "      <th></th>\n",
       "      <th>df</th>\n",
       "      <th>sum_sq</th>\n",
       "      <th>mean_sq</th>\n",
       "      <th>F</th>\n",
       "      <th>PR(&gt;F)</th>\n",
       "    </tr>\n",
       "  </thead>\n",
       "  <tbody>\n",
       "    <tr>\n",
       "      <th>C(Rooms)</th>\n",
       "      <td>2.0</td>\n",
       "      <td>24.066667</td>\n",
       "      <td>12.033333</td>\n",
       "      <td>2.865079</td>\n",
       "      <td>0.074407</td>\n",
       "    </tr>\n",
       "    <tr>\n",
       "      <th>Residual</th>\n",
       "      <td>27.0</td>\n",
       "      <td>113.400000</td>\n",
       "      <td>4.200000</td>\n",
       "      <td>NaN</td>\n",
       "      <td>NaN</td>\n",
       "    </tr>\n",
       "  </tbody>\n",
       "</table>\n",
       "</div>"
      ],
      "text/plain": [
       "            df      sum_sq    mean_sq         F    PR(>F)\n",
       "C(Rooms)   2.0   24.066667  12.033333  2.865079  0.074407\n",
       "Residual  27.0  113.400000   4.200000       NaN       NaN"
      ]
     },
     "execution_count": 280,
     "metadata": {},
     "output_type": "execute_result"
    }
   ],
   "source": [
    "anova_table_rooms"
   ]
  },
  {
   "cell_type": "code",
   "execution_count": 281,
   "metadata": {},
   "outputs": [],
   "source": [
    "f_critical_rooms = scipy_stats.f(anova_table_rooms['df'][0],anova_table_rooms['df'][1])\n",
    "f_crit_val_rooms = f_critical_rooms.ppf(0.95)"
   ]
  },
  {
   "cell_type": "code",
   "execution_count": 282,
   "metadata": {},
   "outputs": [
    {
     "data": {
      "text/plain": [
       "3.3541308285291986"
      ]
     },
     "execution_count": 282,
     "metadata": {},
     "output_type": "execute_result"
    }
   ],
   "source": [
    "f_crit_val_rooms"
   ]
  },
  {
   "cell_type": "code",
   "execution_count": 283,
   "metadata": {},
   "outputs": [],
   "source": [
    "anova_table_rooms['f_critical'] = [f_crit_val_rooms,None]"
   ]
  },
  {
   "cell_type": "code",
   "execution_count": 284,
   "metadata": {},
   "outputs": [
    {
     "data": {
      "text/html": [
       "<div>\n",
       "<style scoped>\n",
       "    .dataframe tbody tr th:only-of-type {\n",
       "        vertical-align: middle;\n",
       "    }\n",
       "\n",
       "    .dataframe tbody tr th {\n",
       "        vertical-align: top;\n",
       "    }\n",
       "\n",
       "    .dataframe thead th {\n",
       "        text-align: right;\n",
       "    }\n",
       "</style>\n",
       "<table border=\"1\" class=\"dataframe\">\n",
       "  <thead>\n",
       "    <tr style=\"text-align: right;\">\n",
       "      <th></th>\n",
       "      <th>df</th>\n",
       "      <th>sum_sq</th>\n",
       "      <th>mean_sq</th>\n",
       "      <th>F</th>\n",
       "      <th>PR(&gt;F)</th>\n",
       "      <th>f_critical</th>\n",
       "    </tr>\n",
       "  </thead>\n",
       "  <tbody>\n",
       "    <tr>\n",
       "      <th>C(Rooms)</th>\n",
       "      <td>2.0</td>\n",
       "      <td>24.066667</td>\n",
       "      <td>12.033333</td>\n",
       "      <td>2.865079</td>\n",
       "      <td>0.074407</td>\n",
       "      <td>3.354131</td>\n",
       "    </tr>\n",
       "    <tr>\n",
       "      <th>Residual</th>\n",
       "      <td>27.0</td>\n",
       "      <td>113.400000</td>\n",
       "      <td>4.200000</td>\n",
       "      <td>NaN</td>\n",
       "      <td>NaN</td>\n",
       "      <td>NaN</td>\n",
       "    </tr>\n",
       "  </tbody>\n",
       "</table>\n",
       "</div>"
      ],
      "text/plain": [
       "            df      sum_sq    mean_sq         F    PR(>F)  f_critical\n",
       "C(Rooms)   2.0   24.066667  12.033333  2.865079  0.074407    3.354131\n",
       "Residual  27.0  113.400000   4.200000       NaN       NaN         NaN"
      ]
     },
     "execution_count": 284,
     "metadata": {},
     "output_type": "execute_result"
    }
   ],
   "source": [
    "anova_table_rooms"
   ]
  },
  {
   "cell_type": "markdown",
   "metadata": {},
   "source": [
    "### **``Batsmen Dataset``**"
   ]
  },
  {
   "cell_type": "code",
   "execution_count": 199,
   "metadata": {},
   "outputs": [],
   "source": [
    "anova_test_data1 = pd.DataFrame({'Sehwag':[25,30,28,36,29], 'Sachin':[45,55,29,56,40], 'Virat':[30,29,33,37,27], \n",
    "                                'Dhoni':[54,60,51,62,73]})"
   ]
  },
  {
   "cell_type": "code",
   "execution_count": 200,
   "metadata": {},
   "outputs": [
    {
     "data": {
      "text/html": [
       "<div>\n",
       "<style scoped>\n",
       "    .dataframe tbody tr th:only-of-type {\n",
       "        vertical-align: middle;\n",
       "    }\n",
       "\n",
       "    .dataframe tbody tr th {\n",
       "        vertical-align: top;\n",
       "    }\n",
       "\n",
       "    .dataframe thead th {\n",
       "        text-align: right;\n",
       "    }\n",
       "</style>\n",
       "<table border=\"1\" class=\"dataframe\">\n",
       "  <thead>\n",
       "    <tr style=\"text-align: right;\">\n",
       "      <th></th>\n",
       "      <th>Sehwag</th>\n",
       "      <th>Sachin</th>\n",
       "      <th>Virat</th>\n",
       "      <th>Dhoni</th>\n",
       "    </tr>\n",
       "  </thead>\n",
       "  <tbody>\n",
       "    <tr>\n",
       "      <th>0</th>\n",
       "      <td>25</td>\n",
       "      <td>45</td>\n",
       "      <td>30</td>\n",
       "      <td>54</td>\n",
       "    </tr>\n",
       "    <tr>\n",
       "      <th>1</th>\n",
       "      <td>30</td>\n",
       "      <td>55</td>\n",
       "      <td>29</td>\n",
       "      <td>60</td>\n",
       "    </tr>\n",
       "    <tr>\n",
       "      <th>2</th>\n",
       "      <td>28</td>\n",
       "      <td>29</td>\n",
       "      <td>33</td>\n",
       "      <td>51</td>\n",
       "    </tr>\n",
       "    <tr>\n",
       "      <th>3</th>\n",
       "      <td>36</td>\n",
       "      <td>56</td>\n",
       "      <td>37</td>\n",
       "      <td>62</td>\n",
       "    </tr>\n",
       "    <tr>\n",
       "      <th>4</th>\n",
       "      <td>29</td>\n",
       "      <td>40</td>\n",
       "      <td>27</td>\n",
       "      <td>73</td>\n",
       "    </tr>\n",
       "  </tbody>\n",
       "</table>\n",
       "</div>"
      ],
      "text/plain": [
       "   Sehwag  Sachin  Virat  Dhoni\n",
       "0      25      45     30     54\n",
       "1      30      55     29     60\n",
       "2      28      29     33     51\n",
       "3      36      56     37     62\n",
       "4      29      40     27     73"
      ]
     },
     "execution_count": 200,
     "metadata": {},
     "output_type": "execute_result"
    }
   ],
   "source": [
    "anova_test_data1"
   ]
  },
  {
   "cell_type": "code",
   "execution_count": 219,
   "metadata": {},
   "outputs": [
    {
     "data": {
      "image/png": "[encoded data removed]",
      "text/plain": [
       "<Figure size 432x432 with 1 Axes>"
      ]
     },
     "metadata": {},
     "output_type": "display_data"
    }
   ],
   "source": [
    "plt.figure(figsize=(6,6))\n",
    "anova_test_data1.boxplot()\n",
    "plt.show()"
   ]
  },
  {
   "cell_type": "code",
   "execution_count": 203,
   "metadata": {},
   "outputs": [],
   "source": [
    "test_sts, p_val = scipy_stats.f_oneway(anova_test_data1['Sehwag'],anova_test_data1['Sachin'],anova_test_data1['Virat'],anova_test_data1['Dhoni'])"
   ]
  },
  {
   "cell_type": "code",
   "execution_count": 213,
   "metadata": {},
   "outputs": [
    {
     "data": {
      "text/plain": [
       "(17.492810457516338, 2.639241146210922e-05)"
      ]
     },
     "execution_count": 213,
     "metadata": {},
     "output_type": "execute_result"
    }
   ],
   "source": [
    "test_sts, p_val"
   ]
  },
  {
   "cell_type": "markdown",
   "metadata": {},
   "source": [
    "### **``ANOVA Result Table``**"
   ]
  },
  {
   "cell_type": "code",
   "execution_count": 214,
   "metadata": {},
   "outputs": [],
   "source": [
    "from statsmodels.formula.api import ols"
   ]
  },
  {
   "cell_type": "code",
   "execution_count": 233,
   "metadata": {},
   "outputs": [],
   "source": [
    "melt_dataset = pd.melt(anova_test_data1.reset_index(),id_vars=['index'],value_vars=['Sehwag','Sachin','Virat','Dhoni']\n",
    "                       ,var_name='Batsmen',value_name='Runs_Scored')"
   ]
  },
  {
   "cell_type": "code",
   "execution_count": 234,
   "metadata": {},
   "outputs": [
    {
     "data": {
      "text/html": [
       "<div>\n",
       "<style scoped>\n",
       "    .dataframe tbody tr th:only-of-type {\n",
       "        vertical-align: middle;\n",
       "    }\n",
       "\n",
       "    .dataframe tbody tr th {\n",
       "        vertical-align: top;\n",
       "    }\n",
       "\n",
       "    .dataframe thead th {\n",
       "        text-align: right;\n",
       "    }\n",
       "</style>\n",
       "<table border=\"1\" class=\"dataframe\">\n",
       "  <thead>\n",
       "    <tr style=\"text-align: right;\">\n",
       "      <th></th>\n",
       "      <th>index</th>\n",
       "      <th>Batsmen</th>\n",
       "      <th>Runs_Scored</th>\n",
       "    </tr>\n",
       "  </thead>\n",
       "  <tbody>\n",
       "    <tr>\n",
       "      <th>0</th>\n",
       "      <td>0</td>\n",
       "      <td>Sehwag</td>\n",
       "      <td>25</td>\n",
       "    </tr>\n",
       "    <tr>\n",
       "      <th>1</th>\n",
       "      <td>1</td>\n",
       "      <td>Sehwag</td>\n",
       "      <td>30</td>\n",
       "    </tr>\n",
       "    <tr>\n",
       "      <th>2</th>\n",
       "      <td>2</td>\n",
       "      <td>Sehwag</td>\n",
       "      <td>28</td>\n",
       "    </tr>\n",
       "    <tr>\n",
       "      <th>3</th>\n",
       "      <td>3</td>\n",
       "      <td>Sehwag</td>\n",
       "      <td>36</td>\n",
       "    </tr>\n",
       "    <tr>\n",
       "      <th>4</th>\n",
       "      <td>4</td>\n",
       "      <td>Sehwag</td>\n",
       "      <td>29</td>\n",
       "    </tr>\n",
       "    <tr>\n",
       "      <th>5</th>\n",
       "      <td>0</td>\n",
       "      <td>Sachin</td>\n",
       "      <td>45</td>\n",
       "    </tr>\n",
       "    <tr>\n",
       "      <th>6</th>\n",
       "      <td>1</td>\n",
       "      <td>Sachin</td>\n",
       "      <td>55</td>\n",
       "    </tr>\n",
       "    <tr>\n",
       "      <th>7</th>\n",
       "      <td>2</td>\n",
       "      <td>Sachin</td>\n",
       "      <td>29</td>\n",
       "    </tr>\n",
       "    <tr>\n",
       "      <th>8</th>\n",
       "      <td>3</td>\n",
       "      <td>Sachin</td>\n",
       "      <td>56</td>\n",
       "    </tr>\n",
       "    <tr>\n",
       "      <th>9</th>\n",
       "      <td>4</td>\n",
       "      <td>Sachin</td>\n",
       "      <td>40</td>\n",
       "    </tr>\n",
       "  </tbody>\n",
       "</table>\n",
       "</div>"
      ],
      "text/plain": [
       "   index Batsmen  Runs_Scored\n",
       "0      0  Sehwag           25\n",
       "1      1  Sehwag           30\n",
       "2      2  Sehwag           28\n",
       "3      3  Sehwag           36\n",
       "4      4  Sehwag           29\n",
       "5      0  Sachin           45\n",
       "6      1  Sachin           55\n",
       "7      2  Sachin           29\n",
       "8      3  Sachin           56\n",
       "9      4  Sachin           40"
      ]
     },
     "execution_count": 234,
     "metadata": {},
     "output_type": "execute_result"
    }
   ],
   "source": [
    "melt_dataset.head(10)"
   ]
  },
  {
   "cell_type": "code",
   "execution_count": 235,
   "metadata": {},
   "outputs": [],
   "source": [
    "model = ols('Runs_Scored ~ C(Batsmen)',data=melt_dataset).fit()"
   ]
  },
  {
   "cell_type": "code",
   "execution_count": 257,
   "metadata": {},
   "outputs": [],
   "source": [
    "anova_table = sm.stats.anova_lm(model,typ=1)"
   ]
  },
  {
   "cell_type": "code",
   "execution_count": 258,
   "metadata": {},
   "outputs": [
    {
     "data": {
      "text/html": [
       "<div>\n",
       "<style scoped>\n",
       "    .dataframe tbody tr th:only-of-type {\n",
       "        vertical-align: middle;\n",
       "    }\n",
       "\n",
       "    .dataframe tbody tr th {\n",
       "        vertical-align: top;\n",
       "    }\n",
       "\n",
       "    .dataframe thead th {\n",
       "        text-align: right;\n",
       "    }\n",
       "</style>\n",
       "<table border=\"1\" class=\"dataframe\">\n",
       "  <thead>\n",
       "    <tr style=\"text-align: right;\">\n",
       "      <th></th>\n",
       "      <th>df</th>\n",
       "      <th>sum_sq</th>\n",
       "      <th>mean_sq</th>\n",
       "      <th>F</th>\n",
       "      <th>PR(&gt;F)</th>\n",
       "    </tr>\n",
       "  </thead>\n",
       "  <tbody>\n",
       "    <tr>\n",
       "      <th>C(Batsmen)</th>\n",
       "      <td>3.0</td>\n",
       "      <td>3010.95</td>\n",
       "      <td>1003.650</td>\n",
       "      <td>17.49281</td>\n",
       "      <td>0.000026</td>\n",
       "    </tr>\n",
       "    <tr>\n",
       "      <th>Residual</th>\n",
       "      <td>16.0</td>\n",
       "      <td>918.00</td>\n",
       "      <td>57.375</td>\n",
       "      <td>NaN</td>\n",
       "      <td>NaN</td>\n",
       "    </tr>\n",
       "  </tbody>\n",
       "</table>\n",
       "</div>"
      ],
      "text/plain": [
       "              df   sum_sq   mean_sq         F    PR(>F)\n",
       "C(Batsmen)   3.0  3010.95  1003.650  17.49281  0.000026\n",
       "Residual    16.0   918.00    57.375       NaN       NaN"
      ]
     },
     "execution_count": 258,
     "metadata": {},
     "output_type": "execute_result"
    }
   ],
   "source": [
    "anova_table"
   ]
  },
  {
   "cell_type": "code",
   "execution_count": 246,
   "metadata": {},
   "outputs": [],
   "source": [
    "f_dist = scipy_stats.f(anova_table['df'][0],anova_table['df'][1])"
   ]
  },
  {
   "cell_type": "code",
   "execution_count": 251,
   "metadata": {},
   "outputs": [],
   "source": [
    "f_critical = f_dist.ppf(0.95)"
   ]
  },
  {
   "cell_type": "code",
   "execution_count": 252,
   "metadata": {},
   "outputs": [
    {
     "data": {
      "text/plain": [
       "3.238871517453585"
      ]
     },
     "execution_count": 252,
     "metadata": {},
     "output_type": "execute_result"
    }
   ],
   "source": [
    "f_critical"
   ]
  },
  {
   "cell_type": "code",
   "execution_count": 260,
   "metadata": {},
   "outputs": [],
   "source": [
    "anova_table['f_critical'] = [f_critical,None]"
   ]
  },
  {
   "cell_type": "code",
   "execution_count": 261,
   "metadata": {},
   "outputs": [
    {
     "data": {
      "text/html": [
       "<div>\n",
       "<style scoped>\n",
       "    .dataframe tbody tr th:only-of-type {\n",
       "        vertical-align: middle;\n",
       "    }\n",
       "\n",
       "    .dataframe tbody tr th {\n",
       "        vertical-align: top;\n",
       "    }\n",
       "\n",
       "    .dataframe thead th {\n",
       "        text-align: right;\n",
       "    }\n",
       "</style>\n",
       "<table border=\"1\" class=\"dataframe\">\n",
       "  <thead>\n",
       "    <tr style=\"text-align: right;\">\n",
       "      <th></th>\n",
       "      <th>df</th>\n",
       "      <th>sum_sq</th>\n",
       "      <th>mean_sq</th>\n",
       "      <th>F</th>\n",
       "      <th>PR(&gt;F)</th>\n",
       "      <th>f_critical</th>\n",
       "    </tr>\n",
       "  </thead>\n",
       "  <tbody>\n",
       "    <tr>\n",
       "      <th>C(Batsmen)</th>\n",
       "      <td>3.0</td>\n",
       "      <td>3010.95</td>\n",
       "      <td>1003.650</td>\n",
       "      <td>17.49281</td>\n",
       "      <td>0.000026</td>\n",
       "      <td>3.238872</td>\n",
       "    </tr>\n",
       "    <tr>\n",
       "      <th>Residual</th>\n",
       "      <td>16.0</td>\n",
       "      <td>918.00</td>\n",
       "      <td>57.375</td>\n",
       "      <td>NaN</td>\n",
       "      <td>NaN</td>\n",
       "      <td>NaN</td>\n",
       "    </tr>\n",
       "  </tbody>\n",
       "</table>\n",
       "</div>"
      ],
      "text/plain": [
       "              df   sum_sq   mean_sq         F    PR(>F)  f_critical\n",
       "C(Batsmen)   3.0  3010.95  1003.650  17.49281  0.000026    3.238872\n",
       "Residual    16.0   918.00    57.375       NaN       NaN         NaN"
      ]
     },
     "execution_count": 261,
     "metadata": {},
     "output_type": "execute_result"
    }
   ],
   "source": [
    "anova_table"
   ]
  },
  {
   "cell_type": "code",
   "execution_count": null,
   "metadata": {},
   "outputs": [],
   "source": []
  },
  {
   "cell_type": "code",
   "execution_count": null,
   "metadata": {},
   "outputs": [],
   "source": []
  },
  {
   "cell_type": "code",
   "execution_count": null,
   "metadata": {},
   "outputs": [],
   "source": []
  },
  {
   "cell_type": "code",
   "execution_count": null,
   "metadata": {},
   "outputs": [],
   "source": []
  },
  {
   "cell_type": "code",
   "execution_count": null,
   "metadata": {},
   "outputs": [],
   "source": []
  },
  {
   "cell_type": "markdown",
   "metadata": {},
   "source": [
    "## **``Distribution_Functions``**\n",
    "\n",
    "## ***Understanding*** \n",
    "- ``PDF`` **(Probability Distribution/Density Function)** and ``LOGPDF``\n",
    "- ``CDF`` **(Cumulative Distribution/Density Function)** and ``LOGCDF`` \n",
    "- ``PPF`` **(Percent Point Function)** and ``LOGPPF`` \n",
    "- ``SF`` **(Survival Function)** and ``ISF``\n",
    "- ``INTERVAL``"
   ]
  },
  {
   "cell_type": "code",
   "execution_count": 168,
   "metadata": {},
   "outputs": [],
   "source": [
    "from scipy.stats import norm as nm"
   ]
  },
  {
   "cell_type": "code",
   "execution_count": 169,
   "metadata": {},
   "outputs": [],
   "source": [
    "beer_cans_production_progression = np.array([200,250,300,350,400,450,500,550,600,650,700,750,800,850,900,950,1000,\n",
    "                                           1050,1100,1150,1200,1250,1300,1350,1400,1450,1500,1550,1600,1650,1700,\n",
    "                                           1750,1800,1850,1900,1950,2000,2050])"
   ]
  },
  {
   "cell_type": "code",
   "execution_count": 170,
   "metadata": {},
   "outputs": [
    {
     "data": {
      "text/plain": [
       "38"
      ]
     },
     "execution_count": 170,
     "metadata": {},
     "output_type": "execute_result"
    }
   ],
   "source": [
    "len(beer_cans_production_progression)"
   ]
  },
  {
   "cell_type": "markdown",
   "metadata": {},
   "source": [
    "#### **So, the above numpy array is representing the increase in the factory production of beer cans over last 38 days.**"
   ]
  },
  {
   "cell_type": "code",
   "execution_count": 171,
   "metadata": {},
   "outputs": [],
   "source": [
    "beer_cans_production_progression_normalized = scipy_tests.zscore(beer_cans_production_progression)"
   ]
  },
  {
   "cell_type": "code",
   "execution_count": 172,
   "metadata": {},
   "outputs": [
    {
     "data": {
      "text/plain": [
       "array([-1.68705478, -1.59586263, -1.50467048, -1.41347833, -1.32228618,\n",
       "       -1.23109403, -1.13990188, -1.04870973, -0.95751758, -0.86632543,\n",
       "       -0.77513328, -0.68394113, -0.59274898, -0.50155683, -0.41036468,\n",
       "       -0.31917253, -0.22798038, -0.13678823, -0.04559608,  0.04559608,\n",
       "        0.13678823,  0.22798038,  0.31917253,  0.41036468,  0.50155683,\n",
       "        0.59274898,  0.68394113,  0.77513328,  0.86632543,  0.95751758,\n",
       "        1.04870973,  1.13990188,  1.23109403,  1.32228618,  1.41347833,\n",
       "        1.50467048,  1.59586263,  1.68705478])"
      ]
     },
     "execution_count": 172,
     "metadata": {},
     "output_type": "execute_result"
    }
   ],
   "source": [
    "beer_cans_production_progression_normalized"
   ]
  },
  {
   "cell_type": "code",
   "execution_count": 173,
   "metadata": {},
   "outputs": [],
   "source": [
    "# X-axis from -4 to +4 evenly spaced numbers with length same as data\n",
    "x_axis_array = np.linspace(-4,4,num=len(beer_cans_production_progression))\n",
    "\n",
    "# Font style for labelling \n",
    "font_style = {'color':'purple','size':'14'}"
   ]
  },
  {
   "cell_type": "code",
   "execution_count": 174,
   "metadata": {},
   "outputs": [
    {
     "data": {
      "image/png": "[encoded data removed]",
      "text/plain": [
       "<Figure size 432x288 with 1 Axes>"
      ]
     },
     "metadata": {
      "needs_background": "light"
     },
     "output_type": "display_data"
    }
   ],
   "source": [
    "fig,ax = plt.subplots()\n",
    "\n",
    "# Plotting the Normalized Beer Cans Data\n",
    "ax.plot(x_axis_array,beer_cans_production_progression_normalized,color='coral')\n",
    "ax.set_title('Normalized(using standard scaler) Beer Cans data',fontdict=font_style)\n",
    "ax.set_xlabel(\"Standard Deviation\",fontdict=font_style)\n",
    "ax.set_ylabel(\"Z Score\",fontdict=font_style)\n",
    "plt.show()"
   ]
  },
  {
   "cell_type": "markdown",
   "metadata": {},
   "source": [
    "## ***``Probability Distribution/Density Function``***\n",
    "- **It is function which represents the probability of a point between a certain interval. And, for calculating the probability it follows the concept of drawing a tangent(line) then Rise/Run.**\n",
    "- **One important point to be noted here as the probability of a specific value would always be 0.**"
   ]
  },
  {
   "cell_type": "code",
   "execution_count": 175,
   "metadata": {},
   "outputs": [],
   "source": [
    "pdf_array = nm.pdf(beer_cans_production_progression_normalized,loc=0,scale=1)"
   ]
  },
  {
   "cell_type": "code",
   "execution_count": 176,
   "metadata": {},
   "outputs": [
    {
     "data": {
      "text/plain": [
       "array([0.09613369, 0.11165659, 0.128612  , 0.1469153 , 0.16643359,\n",
       "       0.18698352, 0.20833109, 0.2301936 , 0.25224398, 0.27411751,\n",
       "       0.29542085, 0.31574313, 0.33466869, 0.35179095, 0.3667268 ,\n",
       "       0.37913077, 0.38870831, 0.39522738, 0.39852779, 0.39852779,\n",
       "       0.39522738, 0.38870831, 0.37913077, 0.3667268 , 0.35179095,\n",
       "       0.33466869, 0.31574313, 0.29542085, 0.27411751, 0.25224398,\n",
       "       0.2301936 , 0.20833109, 0.18698352, 0.16643359, 0.1469153 ,\n",
       "       0.128612  , 0.11165659, 0.09613369])"
      ]
     },
     "execution_count": 176,
     "metadata": {},
     "output_type": "execute_result"
    }
   ],
   "source": [
    "pdf_array"
   ]
  },
  {
   "cell_type": "code",
   "execution_count": 177,
   "metadata": {},
   "outputs": [
    {
     "data": {
      "image/png": "[encoded data removed]",
      "text/plain": [
       "<Figure size 432x288 with 1 Axes>"
      ]
     },
     "metadata": {},
     "output_type": "display_data"
    }
   ],
   "source": [
    "plt.style.use('ggplot')\n",
    "fig,ax = plt.subplots(1,1)\n",
    "\n",
    "# Plotting the Probability Distribution/Density Function \n",
    "ax.plot(x_axis_array,pdf_array)\n",
    "ax.set_title(\"``PDF`` of ``Normalized`` Beer Cans data\",fontdict=font_style)\n",
    "ax.set_xlabel(\"Standard Deviation\",fontdict=font_style)\n",
    "ax.set_ylabel(\"Probability\",fontdict=font_style)\n",
    "plt.show()"
   ]
  },
  {
   "cell_type": "markdown",
   "metadata": {},
   "source": [
    "## ***``Log of Probability Distribution Function``***"
   ]
  },
  {
   "cell_type": "code",
   "execution_count": 178,
   "metadata": {},
   "outputs": [],
   "source": [
    "logpdf_norm_data = nm.logpdf(beer_cans_production_progression_normalized)"
   ]
  },
  {
   "cell_type": "code",
   "execution_count": 179,
   "metadata": {},
   "outputs": [
    {
     "data": {
      "image/png": "[encoded data removed]",
      "text/plain": [
       "<Figure size 432x288 with 1 Axes>"
      ]
     },
     "metadata": {},
     "output_type": "display_data"
    }
   ],
   "source": [
    "plt.style.use('fivethirtyeight')\n",
    "fig,ax = plt.subplots(1,1)\n",
    "ax.plot(x_axis_array,logpdf_norm_data)\n",
    "ax.set_title(\"``LOG PDF`` of ``Normalized`` Beer Cans data\",fontdict=font_style)\n",
    "ax.set_xlabel(\"Standard Deviation\",fontdict=font_style)\n",
    "ax.set_ylabel(\"Probability\",fontdict=font_style)\n",
    "plt.show()"
   ]
  },
  {
   "cell_type": "markdown",
   "metadata": {},
   "source": [
    "## ***``Cumulative Distribution Function``***"
   ]
  },
  {
   "cell_type": "code",
   "execution_count": 180,
   "metadata": {},
   "outputs": [],
   "source": [
    "cdf_beer_cans_production_progression_normalized = nm.cdf(beer_cans_production_progression_normalized,loc=0,scale=1)"
   ]
  },
  {
   "cell_type": "code",
   "execution_count": 181,
   "metadata": {},
   "outputs": [
    {
     "data": {
      "image/png": "[encoded data removed]",
      "text/plain": [
       "<Figure size 432x288 with 1 Axes>"
      ]
     },
     "metadata": {},
     "output_type": "display_data"
    }
   ],
   "source": [
    "fig,ax = plt.subplots()\n",
    "ax.plot(x_axis_array,cdf_beer_cans_production_progression_normalized)\n",
    "ax.set_title(\"``CDF`` of ``Normalized`` Beer Cans data\",fontdict=font_style)\n",
    "ax.set_xlabel(\"Standard Deviation\",fontdict=font_style)\n",
    "ax.set_ylabel(\"Probability\",fontdict=font_style)\n",
    "plt.show()"
   ]
  },
  {
   "cell_type": "markdown",
   "metadata": {},
   "source": [
    "## ***``Log Cumulative Distribution Function``***"
   ]
  },
  {
   "cell_type": "code",
   "execution_count": 182,
   "metadata": {},
   "outputs": [],
   "source": [
    "log_cdf_beer_cans_production_progression_normalized = nm.logcdf(beer_cans_production_progression_normalized,loc=0,scale=1)"
   ]
  },
  {
   "cell_type": "code",
   "execution_count": 183,
   "metadata": {},
   "outputs": [
    {
     "data": {
      "text/plain": [
       "array([-3.0835496 , -2.89571079, -2.71500824, -2.54138096, -2.37476408,\n",
       "       -2.21508855, -2.06228091, -1.91626293, -1.77695142, -1.64425784,\n",
       "       -1.51808805, -1.39834196, -1.28491327, -1.17768911, -1.07654979,\n",
       "       -0.98136848, -0.89201101, -0.80833562, -0.73019278, -0.65742508,\n",
       "       -0.5898672 , -0.52734592, -0.46968023, -0.41668162, -0.36815436,\n",
       "       -0.32389606, -0.28369825, -0.24734718, -0.21462477, -0.18530966,\n",
       "       -0.15917848, -0.13600713, -0.11557231, -0.097653  , -0.08203205,\n",
       "       -0.06849772, -0.05684524, -0.04687822])"
      ]
     },
     "execution_count": 183,
     "metadata": {},
     "output_type": "execute_result"
    }
   ],
   "source": [
    "log_cdf_beer_cans_production_progression_normalized"
   ]
  },
  {
   "cell_type": "code",
   "execution_count": 184,
   "metadata": {},
   "outputs": [
    {
     "data": {
      "image/png": "[encoded data removed]",
      "text/plain": [
       "<Figure size 432x288 with 1 Axes>"
      ]
     },
     "metadata": {},
     "output_type": "display_data"
    }
   ],
   "source": [
    "fig,ax = plt.subplots()\n",
    "ax.plot(x_axis_array,log_cdf_beer_cans_production_progression_normalized)\n",
    "ax.set_title(\"``LOG CDF`` of ``Normalized`` Beer Cans data\",fontdict=font_style)\n",
    "ax.set_xlabel(\"Standard Deviation\",fontdict=font_style)\n",
    "ax.set_ylabel(\"Probability\",fontdict=font_style)\n",
    "plt.show()"
   ]
  },
  {
   "cell_type": "markdown",
   "metadata": {},
   "source": [
    "## ***``Survival Distribution Function``***"
   ]
  },
  {
   "cell_type": "code",
   "execution_count": 185,
   "metadata": {},
   "outputs": [],
   "source": [
    "survival_beer_data = nm.sf(beer_cans_production_progression_normalized)"
   ]
  },
  {
   "cell_type": "code",
   "execution_count": 186,
   "metadata": {},
   "outputs": [
    {
     "data": {
      "image/png": "[encoded data removed]",
      "text/plain": [
       "<Figure size 432x288 with 1 Axes>"
      ]
     },
     "metadata": {},
     "output_type": "display_data"
    }
   ],
   "source": [
    "fig,ax = plt.subplots()\n",
    "ax.plot(x_axis_array,survival_beer_data)\n",
    "ax.set_title(\"``Survival Function`` of ``Normalized`` Beer Cans data\",fontdict=font_style)\n",
    "ax.set_xlabel(\"Standard Deviation\",fontdict=font_style)\n",
    "ax.set_ylabel(\"Probability\",fontdict=font_style)\n",
    "plt.show()"
   ]
  },
  {
   "cell_type": "markdown",
   "metadata": {},
   "source": [
    "## ***``Log Survival Distribution Function``***"
   ]
  },
  {
   "cell_type": "code",
   "execution_count": 187,
   "metadata": {},
   "outputs": [],
   "source": [
    "log_survival_beer_data = nm.logsf(beer_cans_production_progression_normalized,loc=0,scale=1)"
   ]
  },
  {
   "cell_type": "code",
   "execution_count": 188,
   "metadata": {},
   "outputs": [
    {
     "data": {
      "image/png": "[encoded data removed]",
      "text/plain": [
       "<Figure size 432x288 with 1 Axes>"
      ]
     },
     "metadata": {},
     "output_type": "display_data"
    }
   ],
   "source": [
    "fig,ax = plt.subplots()\n",
    "ax.plot(x_axis_array,log_survival_beer_data)\n",
    "ax.set_title(\"``Log Survival Function`` of ``Normalized`` Beer Cans data\",fontdict=font_style)\n",
    "ax.set_xlabel(\"Standard Deviation\",fontdict=font_style)\n",
    "ax.set_ylabel(\"Probability\",fontdict=font_style)\n",
    "plt.show()"
   ]
  },
  {
   "cell_type": "markdown",
   "metadata": {},
   "source": [
    "## ***``Inverse Survival Distribution Function``***"
   ]
  },
  {
   "cell_type": "code",
   "execution_count": 189,
   "metadata": {},
   "outputs": [],
   "source": [
    "inv_survival_beer_data = nm.isf(beer_cans_production_progression_normalized,loc=0,scale=1)"
   ]
  },
  {
   "cell_type": "code",
   "execution_count": 190,
   "metadata": {},
   "outputs": [
    {
     "data": {
      "image/png": "[encoded data removed]",
      "text/plain": [
       "<Figure size 432x288 with 1 Axes>"
      ]
     },
     "metadata": {},
     "output_type": "display_data"
    }
   ],
   "source": [
    "fig,ax = plt.subplots()\n",
    "ax.plot(x_axis_array,inv_survival_beer_data)\n",
    "ax.set_title(\"``Inverse Survival Function`` of ``Normalized`` Beer Cans data\",fontdict=font_style)\n",
    "ax.set_xlabel(\"Standard Deviation\",fontdict=font_style)\n",
    "ax.set_ylabel(\"Probability\",fontdict=font_style)\n",
    "plt.show()"
   ]
  },
  {
   "cell_type": "markdown",
   "metadata": {},
   "source": [
    "## ***``Percent Point Function``***\n",
    "- **It is inverse of CDF**"
   ]
  },
  {
   "cell_type": "code",
   "execution_count": 191,
   "metadata": {},
   "outputs": [],
   "source": [
    "ppf_data = nm.ppf(np.linspace(start=0.01,stop=0.99,num=38))"
   ]
  },
  {
   "cell_type": "code",
   "execution_count": 192,
   "metadata": {},
   "outputs": [
    {
     "data": {
      "image/png": "[encoded data removed]",
      "text/plain": [
       "<Figure size 432x288 with 1 Axes>"
      ]
     },
     "metadata": {},
     "output_type": "display_data"
    }
   ],
   "source": [
    "fig,ax = plt.subplots()\n",
    "ax.plot(ppf_data,x_axis_array)\n",
    "ax.set_title(\"``Percent Point Function``\",fontdict=font_style)\n",
    "ax.set_ylabel(\"Standard Deviation\",fontdict=font_style)\n",
    "ax.set_xlabel(\"Probability\",fontdict=font_style)\n",
    "plt.show()"
   ]
  },
  {
   "cell_type": "code",
   "execution_count": null,
   "metadata": {},
   "outputs": [],
   "source": []
  },
  {
   "cell_type": "code",
   "execution_count": null,
   "metadata": {},
   "outputs": [],
   "source": []
  },
  {
   "cell_type": "code",
   "execution_count": null,
   "metadata": {},
   "outputs": [],
   "source": []
  },
  {
   "cell_type": "code",
   "execution_count": null,
   "metadata": {},
   "outputs": [],
   "source": []
  },
  {
   "cell_type": "code",
   "execution_count": null,
   "metadata": {},
   "outputs": [],
   "source": []
  },
  {
   "cell_type": "code",
   "execution_count": null,
   "metadata": {},
   "outputs": [],
   "source": []
  },
  {
   "cell_type": "code",
   "execution_count": null,
   "metadata": {},
   "outputs": [],
   "source": []
  },
  {
   "cell_type": "code",
   "execution_count": null,
   "metadata": {},
   "outputs": [],
   "source": []
  },
  {
   "cell_type": "code",
   "execution_count": null,
   "metadata": {},
   "outputs": [],
   "source": []
  },
  {
   "cell_type": "code",
   "execution_count": null,
   "metadata": {},
   "outputs": [],
   "source": []
  },
  {
   "cell_type": "code",
   "execution_count": null,
   "metadata": {},
   "outputs": [],
   "source": []
  },
  {
   "cell_type": "code",
   "execution_count": null,
   "metadata": {},
   "outputs": [],
   "source": []
  },
  {
   "cell_type": "code",
   "execution_count": null,
   "metadata": {},
   "outputs": [],
   "source": []
  },
  {
   "cell_type": "code",
   "execution_count": null,
   "metadata": {},
   "outputs": [],
   "source": []
  },
  {
   "cell_type": "code",
   "execution_count": null,
   "metadata": {},
   "outputs": [],
   "source": []
  },
  {
   "cell_type": "code",
   "execution_count": null,
   "metadata": {},
   "outputs": [],
   "source": []
  },
  {
   "cell_type": "code",
   "execution_count": null,
   "metadata": {},
   "outputs": [],
   "source": []
  },
  {
   "cell_type": "code",
   "execution_count": null,
   "metadata": {},
   "outputs": [],
   "source": []
  },
  {
   "cell_type": "code",
   "execution_count": null,
   "metadata": {},
   "outputs": [],
   "source": []
  },
  {
   "cell_type": "code",
   "execution_count": null,
   "metadata": {},
   "outputs": [],
   "source": []
  },
  {
   "cell_type": "code",
   "execution_count": null,
   "metadata": {},
   "outputs": [],
   "source": []
  },
  {
   "cell_type": "code",
   "execution_count": null,
   "metadata": {},
   "outputs": [],
   "source": []
  },
  {
   "cell_type": "code",
   "execution_count": null,
   "metadata": {},
   "outputs": [],
   "source": []
  },
  {
   "cell_type": "code",
   "execution_count": null,
   "metadata": {},
   "outputs": [],
   "source": []
  },
  {
   "cell_type": "code",
   "execution_count": null,
   "metadata": {},
   "outputs": [],
   "source": []
  },
  {
   "cell_type": "code",
   "execution_count": null,
   "metadata": {},
   "outputs": [],
   "source": []
  },
  {
   "cell_type": "markdown",
   "metadata": {},
   "source": [
    "### **To be studied**"
   ]
  },
  {
   "cell_type": "code",
   "execution_count": 193,
   "metadata": {},
   "outputs": [],
   "source": [
    "from statsmodels.stats.weightstats import CompareMeans"
   ]
  },
  {
   "cell_type": "code",
   "execution_count": 194,
   "metadata": {},
   "outputs": [],
   "source": [
    "CM = CompareMeans(with_brkfst_sample1,with_brkfst_sample2)#.ztest_ind(value=0,alternative='smaller',usevar='unequal')"
   ]
  },
  {
   "cell_type": "code",
   "execution_count": 195,
   "metadata": {},
   "outputs": [
    {
     "ename": "AttributeError",
     "evalue": "'numpy.ndarray' object has no attribute '_var'",
     "output_type": "error",
     "traceback": [
      "\u001b[1;31m---------------------------------------------------------------------------\u001b[0m",
      "\u001b[1;31mAttributeError\u001b[0m                            Traceback (most recent call last)",
      "\u001b[1;32m<ipython-input-195-3b698155a34f>\u001b[0m in \u001b[0;36m<module>\u001b[1;34m\u001b[0m\n\u001b[1;32m----> 1\u001b[1;33m \u001b[0mCM\u001b[0m\u001b[1;33m.\u001b[0m\u001b[0mztest_ind\u001b[0m\u001b[1;33m(\u001b[0m\u001b[0mvalue\u001b[0m\u001b[1;33m=\u001b[0m\u001b[1;36m0\u001b[0m\u001b[1;33m,\u001b[0m\u001b[0malternative\u001b[0m\u001b[1;33m=\u001b[0m\u001b[1;34m'smaller'\u001b[0m\u001b[1;33m,\u001b[0m\u001b[0musevar\u001b[0m\u001b[1;33m=\u001b[0m\u001b[1;34m'unequal'\u001b[0m\u001b[1;33m)\u001b[0m\u001b[1;33m\u001b[0m\u001b[1;33m\u001b[0m\u001b[0m\n\u001b[0m",
      "\u001b[1;32mC:\\ProgramData\\Anaconda3\\lib\\site-packages\\statsmodels\\stats\\weightstats.py\u001b[0m in \u001b[0;36mztest_ind\u001b[1;34m(self, alternative, usevar, value)\u001b[0m\n\u001b[0;32m    948\u001b[0m             \u001b[0mstdm\u001b[0m \u001b[1;33m=\u001b[0m \u001b[0mself\u001b[0m\u001b[1;33m.\u001b[0m\u001b[0mstd_meandiff_pooledvar\u001b[0m\u001b[1;33m\u001b[0m\u001b[1;33m\u001b[0m\u001b[0m\n\u001b[0;32m    949\u001b[0m         \u001b[1;32melif\u001b[0m \u001b[0musevar\u001b[0m \u001b[1;33m==\u001b[0m \u001b[1;34m'unequal'\u001b[0m\u001b[1;33m:\u001b[0m\u001b[1;33m\u001b[0m\u001b[1;33m\u001b[0m\u001b[0m\n\u001b[1;32m--> 950\u001b[1;33m             \u001b[0mstdm\u001b[0m \u001b[1;33m=\u001b[0m \u001b[0mself\u001b[0m\u001b[1;33m.\u001b[0m\u001b[0mstd_meandiff_separatevar\u001b[0m\u001b[1;33m\u001b[0m\u001b[1;33m\u001b[0m\u001b[0m\n\u001b[0m\u001b[0;32m    951\u001b[0m         \u001b[1;32melse\u001b[0m\u001b[1;33m:\u001b[0m\u001b[1;33m\u001b[0m\u001b[1;33m\u001b[0m\u001b[0m\n\u001b[0;32m    952\u001b[0m             \u001b[1;32mraise\u001b[0m \u001b[0mValueError\u001b[0m\u001b[1;33m(\u001b[0m\u001b[1;34m'usevar can only be \"pooled\" or \"unequal\"'\u001b[0m\u001b[1;33m)\u001b[0m\u001b[1;33m\u001b[0m\u001b[1;33m\u001b[0m\u001b[0m\n",
      "\u001b[1;32mC:\\ProgramData\\Anaconda3\\lib\\site-packages\\statsmodels\\tools\\decorators.py\u001b[0m in \u001b[0;36m__get__\u001b[1;34m(self, obj, type)\u001b[0m\n\u001b[0;32m     91\u001b[0m         \u001b[0m_cachedval\u001b[0m \u001b[1;33m=\u001b[0m \u001b[0m_cache\u001b[0m\u001b[1;33m.\u001b[0m\u001b[0mget\u001b[0m\u001b[1;33m(\u001b[0m\u001b[0mname\u001b[0m\u001b[1;33m,\u001b[0m \u001b[1;32mNone\u001b[0m\u001b[1;33m)\u001b[0m\u001b[1;33m\u001b[0m\u001b[1;33m\u001b[0m\u001b[0m\n\u001b[0;32m     92\u001b[0m         \u001b[1;32mif\u001b[0m \u001b[0m_cachedval\u001b[0m \u001b[1;32mis\u001b[0m \u001b[1;32mNone\u001b[0m\u001b[1;33m:\u001b[0m\u001b[1;33m\u001b[0m\u001b[1;33m\u001b[0m\u001b[0m\n\u001b[1;32m---> 93\u001b[1;33m             \u001b[0m_cachedval\u001b[0m \u001b[1;33m=\u001b[0m \u001b[0mself\u001b[0m\u001b[1;33m.\u001b[0m\u001b[0mfget\u001b[0m\u001b[1;33m(\u001b[0m\u001b[0mobj\u001b[0m\u001b[1;33m)\u001b[0m\u001b[1;33m\u001b[0m\u001b[1;33m\u001b[0m\u001b[0m\n\u001b[0m\u001b[0;32m     94\u001b[0m             \u001b[0m_cache\u001b[0m\u001b[1;33m[\u001b[0m\u001b[0mname\u001b[0m\u001b[1;33m]\u001b[0m \u001b[1;33m=\u001b[0m \u001b[0m_cachedval\u001b[0m\u001b[1;33m\u001b[0m\u001b[1;33m\u001b[0m\u001b[0m\n\u001b[0;32m     95\u001b[0m \u001b[1;33m\u001b[0m\u001b[0m\n",
      "\u001b[1;32mC:\\ProgramData\\Anaconda3\\lib\\site-packages\\statsmodels\\stats\\weightstats.py\u001b[0m in \u001b[0;36mstd_meandiff_separatevar\u001b[1;34m(self)\u001b[0m\n\u001b[0;32m    823\u001b[0m         \u001b[0md1\u001b[0m \u001b[1;33m=\u001b[0m \u001b[0mself\u001b[0m\u001b[1;33m.\u001b[0m\u001b[0md1\u001b[0m\u001b[1;33m\u001b[0m\u001b[1;33m\u001b[0m\u001b[0m\n\u001b[0;32m    824\u001b[0m         \u001b[0md2\u001b[0m \u001b[1;33m=\u001b[0m \u001b[0mself\u001b[0m\u001b[1;33m.\u001b[0m\u001b[0md2\u001b[0m\u001b[1;33m\u001b[0m\u001b[1;33m\u001b[0m\u001b[0m\n\u001b[1;32m--> 825\u001b[1;33m         \u001b[1;32mreturn\u001b[0m \u001b[0mnp\u001b[0m\u001b[1;33m.\u001b[0m\u001b[0msqrt\u001b[0m\u001b[1;33m(\u001b[0m\u001b[0md1\u001b[0m\u001b[1;33m.\u001b[0m\u001b[0m_var\u001b[0m \u001b[1;33m/\u001b[0m \u001b[1;33m(\u001b[0m\u001b[0md1\u001b[0m\u001b[1;33m.\u001b[0m\u001b[0mnobs\u001b[0m\u001b[1;33m-\u001b[0m\u001b[1;36m1\u001b[0m\u001b[1;33m)\u001b[0m \u001b[1;33m+\u001b[0m \u001b[0md2\u001b[0m\u001b[1;33m.\u001b[0m\u001b[0m_var\u001b[0m \u001b[1;33m/\u001b[0m \u001b[1;33m(\u001b[0m\u001b[0md2\u001b[0m\u001b[1;33m.\u001b[0m\u001b[0mnobs\u001b[0m\u001b[1;33m-\u001b[0m\u001b[1;36m1\u001b[0m\u001b[1;33m)\u001b[0m\u001b[1;33m)\u001b[0m\u001b[1;33m\u001b[0m\u001b[1;33m\u001b[0m\u001b[0m\n\u001b[0m\u001b[0;32m    826\u001b[0m \u001b[1;33m\u001b[0m\u001b[0m\n\u001b[0;32m    827\u001b[0m     \u001b[1;33m@\u001b[0m\u001b[0mcache_readonly\u001b[0m\u001b[1;33m\u001b[0m\u001b[1;33m\u001b[0m\u001b[0m\n",
      "\u001b[1;31mAttributeError\u001b[0m: 'numpy.ndarray' object has no attribute '_var'"
     ]
    }
   ],
   "source": [
    "CM.ztest_ind(value=0,alternative='smaller',usevar='unequal')"
   ]
  },
  {
   "cell_type": "markdown",
   "metadata": {},
   "source": [
    "sm.stats.DescrStatsW()"
   ]
  },
  {
   "cell_type": "markdown",
   "metadata": {},
   "source": [
    "1 + np.random.randn(2,4)"
   ]
  },
  {
   "cell_type": "markdown",
   "metadata": {},
   "source": [
    "Compare Means"
   ]
  }
 ],
 "metadata": {
  "kernelspec": {
   "display_name": "Python 3",
   "language": "python",
   "name": "python3"
  },
  "language_info": {
   "codemirror_mode": {
    "name": "ipython",
    "version": 3
   },
   "file_extension": ".py",
   "mimetype": "text/x-python",
   "name": "python",
   "nbconvert_exporter": "python",
   "pygments_lexer": "ipython3",
   "version": "3.7.3"
  }
 },
 "nbformat": 4,
 "nbformat_minor": 4
}
