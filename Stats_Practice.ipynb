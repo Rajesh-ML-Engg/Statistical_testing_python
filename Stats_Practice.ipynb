{
 "cells": [
  {
   "cell_type": "markdown",
   "metadata": {},
   "source": [
    "---\n",
    "# **``Statistical Hypothesis Testing``**\n",
    "### **``Practical Scenarios``**\n",
    "---\n",
    "\n",
    "## $$**Contents**$$\n",
    "1. [Python Stats Libraries](#Python_Stats_Pkgs)\n",
    "2. [One Population](#One_Population)\n",
    "    1. [T Test or STUDENT-T or STUDENT Test](#Small_Samples)\n",
    "    2. [Z Test](#Large_Samples)\n",
    "    3. [Population Proportion](#POPULATION_PROPORTION)\n",
    "    4. [Chi-Square Test](#CHI_SQUARE_TEST)\n",
    "3. [Two Populations](#Two_Populations)\n",
    "    1. [Large Independent Samples](#Large_Independent_Samples)\n",
    "        1. [Pooled Large Independent Samples](#Pooled_Large_Independent_Samples)\n",
    "        2. [Not-Pooled Large Independent Samples](#Not-Pooled_Large_Independent_Samples)\n",
    "    2. [Small Independent Samples](#Small_Independent_Samples)\n",
    "        1. [Pooled](#Pooled_Small_Independent_Samples)\n",
    "        2. [Not Pooled](#Notpooled_Small_Independent_Samples)\n",
    "    3. [Population Proportions](#Pop_proportions)\n",
    "    4. [Dependent Samples](#Dependent_samples)\n",
    "4. [ANOVA](#ANOVA_Testing)"
   ]
  },
  {
   "cell_type": "markdown",
   "metadata": {},
   "source": [
    "## **``Python_Stats_Pkgs``**\n",
    "---"
   ]
  },
  {
   "cell_type": "markdown",
   "metadata": {},
   "source": [
    "Import handmade image here"
   ]
  },
  {
   "cell_type": "markdown",
   "metadata": {},
   "source": [
    "##### **Python packages primarily used for statistical testing**"
   ]
  },
  {
   "cell_type": "code",
   "execution_count": 15,
   "metadata": {},
   "outputs": [],
   "source": [
    "from statsmodels import api as sm"
   ]
  },
  {
   "cell_type": "code",
   "execution_count": 16,
   "metadata": {},
   "outputs": [
    {
     "data": {
      "text/plain": [
       "['CompareCox',\n",
       " 'CompareJ',\n",
       " 'CompareMeans',\n",
       " 'DescrStatsW',\n",
       " 'Describe',\n",
       " 'FTestAnovaPower',\n",
       " 'FTestPower',\n",
       " 'FactoredPSDMatrix',\n",
       " 'GofChisquarePower',\n",
       " 'HetGoldfeldQuandt',\n",
       " 'Mediation',\n",
       " 'NormalIndPower',\n",
       " 'NullDistribution',\n",
       " 'RegressionFDR',\n",
       " 'Runs',\n",
       " 'SquareTable',\n",
       " 'StratifiedTable',\n",
       " 'TTestIndPower',\n",
       " 'TTestPower',\n",
       " 'Table',\n",
       " 'Table2x2',\n",
       " '__builtins__',\n",
       " '__cached__',\n",
       " '__doc__',\n",
       " '__file__',\n",
       " '__loader__',\n",
       " '__name__',\n",
       " '__package__',\n",
       " '__spec__',\n",
       " 'acorr_breusch_godfrey',\n",
       " 'acorr_ljungbox',\n",
       " 'anova_lm',\n",
       " 'binom_test',\n",
       " 'binom_test_reject_interval',\n",
       " 'binom_tost',\n",
       " 'binom_tost_reject_interval',\n",
       " 'breaks_cusumolsresid',\n",
       " 'breaks_hansen',\n",
       " 'chisquare_effectsize',\n",
       " 'cochrans_q',\n",
       " 'compare_cox',\n",
       " 'compare_j',\n",
       " 'corr_clipped',\n",
       " 'corr_nearest',\n",
       " 'corr_nearest_factor',\n",
       " 'corr_thresholded',\n",
       " 'cov_cluster',\n",
       " 'cov_cluster_2groups',\n",
       " 'cov_hac',\n",
       " 'cov_hc0',\n",
       " 'cov_hc1',\n",
       " 'cov_hc2',\n",
       " 'cov_hc3',\n",
       " 'cov_nearest',\n",
       " 'cov_nearest_factor_homog',\n",
       " 'cov_nw_panel',\n",
       " 'cov_white_simple',\n",
       " 'diagnostic',\n",
       " 'durbin_watson',\n",
       " 'fdrcorrection',\n",
       " 'fdrcorrection_twostage',\n",
       " 'gof',\n",
       " 'gof_chisquare_discrete',\n",
       " 'het_arch',\n",
       " 'het_breuschpagan',\n",
       " 'het_goldfeldquandt',\n",
       " 'het_white',\n",
       " 'jarque_bera',\n",
       " 'lilliefors',\n",
       " 'linear_harvey_collier',\n",
       " 'linear_lm',\n",
       " 'linear_rainbow',\n",
       " 'local_fdr',\n",
       " 'mcnemar',\n",
       " 'moment_helpers',\n",
       " 'multicomp',\n",
       " 'multinomial_proportions_confint',\n",
       " 'multipletests',\n",
       " 'normal_ad',\n",
       " 'omni_normtest',\n",
       " 'power_binom_tost',\n",
       " 'power_ztost_prop',\n",
       " 'powerdiscrepancy',\n",
       " 'proportion_confint',\n",
       " 'proportion_effectsize',\n",
       " 'proportions_chisquare',\n",
       " 'proportions_chisquare_allpairs',\n",
       " 'proportions_chisquare_pairscontrol',\n",
       " 'proportions_ztest',\n",
       " 'proportions_ztost',\n",
       " 'recursive_olsresiduals',\n",
       " 'runstest_1samp',\n",
       " 'runstest_2samp',\n",
       " 'sandwich_covariance',\n",
       " 'se_cov',\n",
       " 'stattools',\n",
       " 'tt_ind_solve_power',\n",
       " 'tt_solve_power',\n",
       " 'ttest_ind',\n",
       " 'ttost_ind',\n",
       " 'ttost_paired',\n",
       " 'tukeyhsd',\n",
       " 'unitroot_adf',\n",
       " 'zconfint',\n",
       " 'zt_ind_solve_power',\n",
       " 'ztest',\n",
       " 'ztost']"
      ]
     },
     "execution_count": 16,
     "metadata": {},
     "output_type": "execute_result"
    }
   ],
   "source": [
    "dir(sm.stats)"
   ]
  },
  {
   "cell_type": "code",
   "execution_count": 17,
   "metadata": {},
   "outputs": [],
   "source": [
    "from statsmodels.stats import weightstats"
   ]
  },
  {
   "cell_type": "code",
   "execution_count": 18,
   "metadata": {},
   "outputs": [
    {
     "data": {
      "text/plain": [
       "['CompareMeans',\n",
       " 'DescrStatsW',\n",
       " '__builtins__',\n",
       " '__cached__',\n",
       " '__doc__',\n",
       " '__file__',\n",
       " '__loader__',\n",
       " '__name__',\n",
       " '__package__',\n",
       " '__spec__',\n",
       " '_tconfint_generic',\n",
       " '_tstat_generic',\n",
       " '_zconfint_generic',\n",
       " '_zstat_generic',\n",
       " '_zstat_generic2',\n",
       " 'cache_readonly',\n",
       " 'np',\n",
       " 'stats',\n",
       " 'ttest_ind',\n",
       " 'ttost_ind',\n",
       " 'ttost_paired',\n",
       " 'zconfint',\n",
       " 'ztest',\n",
       " 'ztost']"
      ]
     },
     "execution_count": 18,
     "metadata": {},
     "output_type": "execute_result"
    }
   ],
   "source": [
    "dir(weightstats)"
   ]
  },
  {
   "cell_type": "code",
   "execution_count": 19,
   "metadata": {},
   "outputs": [],
   "source": [
    "import scipy.stats as scipy_tests"
   ]
  },
  {
   "cell_type": "code",
   "execution_count": 20,
   "metadata": {},
   "outputs": [
    {
     "data": {
      "text/plain": [
       "['PearsonRConstantInputWarning',\n",
       " 'PearsonRNearConstantInputWarning',\n",
       " '__all__',\n",
       " '__builtins__',\n",
       " '__cached__',\n",
       " '__doc__',\n",
       " '__file__',\n",
       " '__loader__',\n",
       " '__name__',\n",
       " '__package__',\n",
       " '__path__',\n",
       " '__spec__',\n",
       " '_binned_statistic',\n",
       " '_constants',\n",
       " '_continuous_distns',\n",
       " '_discrete_distns',\n",
       " '_distn_infrastructure',\n",
       " '_distr_params',\n",
       " '_hypotests',\n",
       " '_multivariate',\n",
       " '_rvs_sampling',\n",
       " '_stats',\n",
       " '_stats_mstats_common',\n",
       " '_tukeylambda_stats',\n",
       " 'absolute_import',\n",
       " 'alpha',\n",
       " 'anderson',\n",
       " 'anderson_ksamp',\n",
       " 'anglit',\n",
       " 'ansari',\n",
       " 'arcsine',\n",
       " 'argus',\n",
       " 'bartlett',\n",
       " 'bayes_mvs',\n",
       " 'bernoulli',\n",
       " 'beta',\n",
       " 'betaprime',\n",
       " 'binned_statistic',\n",
       " 'binned_statistic_2d',\n",
       " 'binned_statistic_dd',\n",
       " 'binom',\n",
       " 'binom_test',\n",
       " 'boltzmann',\n",
       " 'boxcox',\n",
       " 'boxcox_llf',\n",
       " 'boxcox_normmax',\n",
       " 'boxcox_normplot',\n",
       " 'bradford',\n",
       " 'brunnermunzel',\n",
       " 'burr',\n",
       " 'burr12',\n",
       " 'cauchy',\n",
       " 'chi',\n",
       " 'chi2',\n",
       " 'chi2_contingency',\n",
       " 'chisquare',\n",
       " 'circmean',\n",
       " 'circstd',\n",
       " 'circvar',\n",
       " 'combine_pvalues',\n",
       " 'contingency',\n",
       " 'cosine',\n",
       " 'crystalball',\n",
       " 'cumfreq',\n",
       " 'describe',\n",
       " 'dgamma',\n",
       " 'dirichlet',\n",
       " 'distributions',\n",
       " 'division',\n",
       " 'dlaplace',\n",
       " 'dweibull',\n",
       " 'energy_distance',\n",
       " 'entropy',\n",
       " 'epps_singleton_2samp',\n",
       " 'erlang',\n",
       " 'expon',\n",
       " 'exponnorm',\n",
       " 'exponpow',\n",
       " 'exponweib',\n",
       " 'f',\n",
       " 'f_oneway',\n",
       " 'fatiguelife',\n",
       " 'find_repeats',\n",
       " 'fisher_exact',\n",
       " 'fisk',\n",
       " 'fligner',\n",
       " 'foldcauchy',\n",
       " 'foldnorm',\n",
       " 'frechet_l',\n",
       " 'frechet_r',\n",
       " 'friedmanchisquare',\n",
       " 'gamma',\n",
       " 'gausshyper',\n",
       " 'gaussian_kde',\n",
       " 'genexpon',\n",
       " 'genextreme',\n",
       " 'gengamma',\n",
       " 'genhalflogistic',\n",
       " 'genlogistic',\n",
       " 'gennorm',\n",
       " 'genpareto',\n",
       " 'geom',\n",
       " 'gilbrat',\n",
       " 'gmean',\n",
       " 'gompertz',\n",
       " 'gstd',\n",
       " 'gumbel_l',\n",
       " 'gumbel_r',\n",
       " 'halfcauchy',\n",
       " 'halfgennorm',\n",
       " 'halflogistic',\n",
       " 'halfnorm',\n",
       " 'hmean',\n",
       " 'hypergeom',\n",
       " 'hypsecant',\n",
       " 'invgamma',\n",
       " 'invgauss',\n",
       " 'invweibull',\n",
       " 'invwishart',\n",
       " 'iqr',\n",
       " 'itemfreq',\n",
       " 'jarque_bera',\n",
       " 'johnsonsb',\n",
       " 'johnsonsu',\n",
       " 'kappa3',\n",
       " 'kappa4',\n",
       " 'kde',\n",
       " 'kendalltau',\n",
       " 'kruskal',\n",
       " 'ks_2samp',\n",
       " 'ksone',\n",
       " 'kstat',\n",
       " 'kstatvar',\n",
       " 'kstest',\n",
       " 'kstwobign',\n",
       " 'kurtosis',\n",
       " 'kurtosistest',\n",
       " 'laplace',\n",
       " 'levene',\n",
       " 'levy',\n",
       " 'levy_l',\n",
       " 'levy_stable',\n",
       " 'linregress',\n",
       " 'loggamma',\n",
       " 'logistic',\n",
       " 'loglaplace',\n",
       " 'lognorm',\n",
       " 'logser',\n",
       " 'lomax',\n",
       " 'mannwhitneyu',\n",
       " 'matrix_normal',\n",
       " 'maxwell',\n",
       " 'median_absolute_deviation',\n",
       " 'median_test',\n",
       " 'mielke',\n",
       " 'mode',\n",
       " 'moment',\n",
       " 'mood',\n",
       " 'morestats',\n",
       " 'moyal',\n",
       " 'mstats',\n",
       " 'mstats_basic',\n",
       " 'mstats_extras',\n",
       " 'multinomial',\n",
       " 'multivariate_normal',\n",
       " 'mvn',\n",
       " 'mvsdist',\n",
       " 'nakagami',\n",
       " 'nbinom',\n",
       " 'ncf',\n",
       " 'nct',\n",
       " 'ncx2',\n",
       " 'norm',\n",
       " 'normaltest',\n",
       " 'norminvgauss',\n",
       " 'obrientransform',\n",
       " 'ortho_group',\n",
       " 'pareto',\n",
       " 'pearson3',\n",
       " 'pearsonr',\n",
       " 'percentileofscore',\n",
       " 'planck',\n",
       " 'pointbiserialr',\n",
       " 'poisson',\n",
       " 'power_divergence',\n",
       " 'powerlaw',\n",
       " 'powerlognorm',\n",
       " 'powernorm',\n",
       " 'ppcc_max',\n",
       " 'ppcc_plot',\n",
       " 'print_function',\n",
       " 'probplot',\n",
       " 'randint',\n",
       " 'random_correlation',\n",
       " 'rankdata',\n",
       " 'ranksums',\n",
       " 'rayleigh',\n",
       " 'rdist',\n",
       " 'recipinvgauss',\n",
       " 'reciprocal',\n",
       " 'relfreq',\n",
       " 'rice',\n",
       " 'rv_continuous',\n",
       " 'rv_discrete',\n",
       " 'rv_histogram',\n",
       " 'rvs_ratio_uniforms',\n",
       " 'scoreatpercentile',\n",
       " 'sem',\n",
       " 'semicircular',\n",
       " 'shapiro',\n",
       " 'siegelslopes',\n",
       " 'sigmaclip',\n",
       " 'skellam',\n",
       " 'skew',\n",
       " 'skewnorm',\n",
       " 'skewtest',\n",
       " 'spearmanr',\n",
       " 'special_ortho_group',\n",
       " 'statlib',\n",
       " 'stats',\n",
       " 't',\n",
       " 'test',\n",
       " 'theilslopes',\n",
       " 'tiecorrect',\n",
       " 'tmax',\n",
       " 'tmean',\n",
       " 'tmin',\n",
       " 'trapz',\n",
       " 'triang',\n",
       " 'trim1',\n",
       " 'trim_mean',\n",
       " 'trimboth',\n",
       " 'truncexpon',\n",
       " 'truncnorm',\n",
       " 'tsem',\n",
       " 'tstd',\n",
       " 'ttest_1samp',\n",
       " 'ttest_ind',\n",
       " 'ttest_ind_from_stats',\n",
       " 'ttest_rel',\n",
       " 'tukeylambda',\n",
       " 'tvar',\n",
       " 'uniform',\n",
       " 'unitary_group',\n",
       " 'variation',\n",
       " 'vonmises',\n",
       " 'vonmises_line',\n",
       " 'wald',\n",
       " 'wasserstein_distance',\n",
       " 'weibull_max',\n",
       " 'weibull_min',\n",
       " 'weightedtau',\n",
       " 'wilcoxon',\n",
       " 'wishart',\n",
       " 'wrapcauchy',\n",
       " 'yeojohnson',\n",
       " 'yeojohnson_llf',\n",
       " 'yeojohnson_normmax',\n",
       " 'yeojohnson_normplot',\n",
       " 'yulesimon',\n",
       " 'zipf',\n",
       " 'zmap',\n",
       " 'zscore']"
      ]
     },
     "execution_count": 20,
     "metadata": {},
     "output_type": "execute_result"
    }
   ],
   "source": [
    "dir(scipy_tests)"
   ]
  },
  {
   "cell_type": "markdown",
   "metadata": {},
   "source": [
    "##### **Other supporting packages**"
   ]
  },
  {
   "cell_type": "code",
   "execution_count": 21,
   "metadata": {},
   "outputs": [],
   "source": [
    "import numpy as np\n",
    "import pandas as pd\n",
    "import matplotlib.pyplot as plt\n",
    "import seaborn as sns\n",
    "\n",
    "%matplotlib inline\n",
    "\n",
    "import statsmodels.api as sm\n",
    "import statsmodels.stats.weightstats as s_tests\n",
    "import scipy.stats as scipy_tests"
   ]
  },
  {
   "cell_type": "markdown",
   "metadata": {},
   "source": [
    "---\n",
    "# **``One_Population``**\n",
    "---"
   ]
  },
  {
   "cell_type": "markdown",
   "metadata": {},
   "source": [
    "Import hand made image here"
   ]
  },
  {
   "cell_type": "markdown",
   "metadata": {},
   "source": [
    "## **Small_Samples**\n",
    "#### ***T or STUDENT or STUDENT-T TESTING***\n",
    "---"
   ]
  },
  {
   "cell_type": "markdown",
   "metadata": {},
   "source": [
    "#### ***Question-1*** :: **A researcher thinks that average age of males getting married in Delhi is not more than 30. He samples 21 males and found that his claim is true. Test the claim at 95% level of confidence.**"
   ]
  },
  {
   "cell_type": "code",
   "execution_count": 22,
   "metadata": {},
   "outputs": [],
   "source": [
    "sample_age = np.array([20,33,22,24,25,26,27,28,21,34,33,32,31,22,23,24,24,24,25,26,27])"
   ]
  },
  {
   "cell_type": "code",
   "execution_count": 23,
   "metadata": {},
   "outputs": [
    {
     "data": {
      "text/plain": [
       "21"
      ]
     },
     "execution_count": 23,
     "metadata": {},
     "output_type": "execute_result"
    }
   ],
   "source": [
    "len(sample_age)"
   ]
  },
  {
   "cell_type": "code",
   "execution_count": 24,
   "metadata": {},
   "outputs": [],
   "source": [
    "sample_mean = sample_age.mean()"
   ]
  },
  {
   "cell_type": "code",
   "execution_count": 25,
   "metadata": {},
   "outputs": [
    {
     "data": {
      "text/plain": [
       "26.238095238095237"
      ]
     },
     "execution_count": 25,
     "metadata": {},
     "output_type": "execute_result"
    }
   ],
   "source": [
    "sample_mean"
   ]
  },
  {
   "cell_type": "code",
   "execution_count": 26,
   "metadata": {},
   "outputs": [],
   "source": [
    "sample_std_dev = sample_age.var()"
   ]
  },
  {
   "cell_type": "code",
   "execution_count": 27,
   "metadata": {},
   "outputs": [
    {
     "data": {
      "text/plain": [
       "16.562358276643995"
      ]
     },
     "execution_count": 27,
     "metadata": {},
     "output_type": "execute_result"
    }
   ],
   "source": [
    "sample_std_dev"
   ]
  },
  {
   "cell_type": "code",
   "execution_count": 28,
   "metadata": {},
   "outputs": [],
   "source": [
    "results = scipy_tests.ttest_1samp(sample_age,30)"
   ]
  },
  {
   "cell_type": "code",
   "execution_count": 29,
   "metadata": {},
   "outputs": [
    {
     "data": {
      "text/plain": [
       "Ttest_1sampResult(statistic=-4.133916563687664, pvalue=0.0005143638120022441)"
      ]
     },
     "execution_count": 29,
     "metadata": {},
     "output_type": "execute_result"
    }
   ],
   "source": [
    "results"
   ]
  },
  {
   "cell_type": "code",
   "execution_count": 30,
   "metadata": {},
   "outputs": [
    {
     "data": {
      "text/plain": [
       "-4.133916563687664"
      ]
     },
     "execution_count": 30,
     "metadata": {},
     "output_type": "execute_result"
    }
   ],
   "source": [
    "results[0]"
   ]
  },
  {
   "cell_type": "code",
   "execution_count": 31,
   "metadata": {},
   "outputs": [
    {
     "data": {
      "text/plain": [
       "0.0005143638120022441"
      ]
     },
     "execution_count": 31,
     "metadata": {},
     "output_type": "execute_result"
    }
   ],
   "source": [
    "results[1]"
   ]
  },
  {
   "cell_type": "markdown",
   "metadata": {},
   "source": [
    "#### ***CASE - I :: With 95% Level of Confidence***"
   ]
  },
  {
   "cell_type": "code",
   "execution_count": 32,
   "metadata": {},
   "outputs": [
    {
     "name": "stdout",
     "output_type": "stream",
     "text": [
      "Reject the Null Hypothesis at 0.05 level of significance\n"
     ]
    }
   ],
   "source": [
    "alpha = 0.05\n",
    "if (results[0] < 0) & (results[1] <= alpha):\n",
    "    print(\"Reject the Null Hypothesis at {} level of significance\".format(alpha))\n",
    "else:\n",
    "    print(\"Fail to reject the Null Hypothesis at {} level of significance\".format(alpha))"
   ]
  },
  {
   "cell_type": "markdown",
   "metadata": {},
   "source": [
    "##### ***Test Statistic :: Manual Calculation***"
   ]
  },
  {
   "cell_type": "code",
   "execution_count": 33,
   "metadata": {},
   "outputs": [
    {
     "data": {
      "text/plain": [
       "-4.236003949869238"
      ]
     },
     "execution_count": 33,
     "metadata": {},
     "output_type": "execute_result"
    }
   ],
   "source": [
    "(sample_age.mean()-30)/(np.sqrt(sample_std_dev/len(sample_age)))"
   ]
  },
  {
   "cell_type": "code",
   "execution_count": 34,
   "metadata": {},
   "outputs": [
    {
     "data": {
      "text/plain": [
       "-4.133916563687664"
      ]
     },
     "execution_count": 34,
     "metadata": {},
     "output_type": "execute_result"
    }
   ],
   "source": [
    "(sample_age.mean()-30)/(np.sqrt(sample_std_dev/(len(sample_age)-1)))"
   ]
  },
  {
   "cell_type": "markdown",
   "metadata": {},
   "source": [
    "#### ***Difference in Test statistic value is because Python Statsmodels use DOF in the denominator instead of 'n' i.e. the number of records in sample.*** \n",
    "\n",
    "\n",
    "***Go to location ::*** c:\\programdata\\anaconda3\\lib\\site-packages\\scipy\\stats\\\n",
    "\n",
    "\n",
    "***Open python file ::*** stats.py"
   ]
  },
  {
   "cell_type": "markdown",
   "metadata": {},
   "source": [
    "#### **Implementation in Statsmodels**"
   ]
  },
  {
   "cell_type": "code",
   "execution_count": 35,
   "metadata": {},
   "outputs": [
    {
     "data": {
      "text/plain": [
       "17.390476190476193"
      ]
     },
     "execution_count": 35,
     "metadata": {},
     "output_type": "execute_result"
    }
   ],
   "source": [
    "np.var(sample_age, 0, ddof=1)"
   ]
  },
  {
   "cell_type": "code",
   "execution_count": 36,
   "metadata": {},
   "outputs": [
    {
     "data": {
      "text/plain": [
       "16.562358276643995"
      ]
     },
     "execution_count": 36,
     "metadata": {},
     "output_type": "execute_result"
    }
   ],
   "source": [
    "np.var(sample_age, 0)"
   ]
  },
  {
   "cell_type": "markdown",
   "metadata": {},
   "source": [
    "#### ***CASE - II :: With 99% Level of Confidence***"
   ]
  },
  {
   "cell_type": "code",
   "execution_count": 37,
   "metadata": {},
   "outputs": [
    {
     "name": "stdout",
     "output_type": "stream",
     "text": [
      "Reject the Null Hypothesis at 0.01 level of significance\n"
     ]
    }
   ],
   "source": [
    "alpha = 0.01\n",
    "if (results[0] < 0) & (results[1] <= alpha):\n",
    "    print(\"Reject the Null Hypothesis at {} level of significance\".format(alpha))\n",
    "else:\n",
    "    print(\"Fail to reject the Null Hypothesis at {} level of significance\".format(alpha))"
   ]
  },
  {
   "cell_type": "markdown",
   "metadata": {},
   "source": [
    "#### ***Question-2*** :: **A researcher claims that average age of people buying their first car is greater than 26. He sampled ages of 24 people and found that his claim is true. Test the claim at 90% level of confidence.**"
   ]
  },
  {
   "cell_type": "code",
   "execution_count": 38,
   "metadata": {},
   "outputs": [],
   "source": [
    "first_car_sample = [22,23,33,32,31,30,27,28,29,20,30,30,31,31,32,34,27,28,24,24,24,25,26,26]"
   ]
  },
  {
   "cell_type": "code",
   "execution_count": 39,
   "metadata": {},
   "outputs": [
    {
     "data": {
      "text/plain": [
       "24"
      ]
     },
     "execution_count": 39,
     "metadata": {},
     "output_type": "execute_result"
    }
   ],
   "source": [
    "len(first_car_sample)"
   ]
  },
  {
   "cell_type": "code",
   "execution_count": 40,
   "metadata": {},
   "outputs": [],
   "source": [
    "first_car_sample_mean = round(np.mean(first_car_sample,dtype=float),3)"
   ]
  },
  {
   "cell_type": "code",
   "execution_count": 41,
   "metadata": {},
   "outputs": [
    {
     "data": {
      "text/plain": [
       "27.792"
      ]
     },
     "execution_count": 41,
     "metadata": {},
     "output_type": "execute_result"
    }
   ],
   "source": [
    "first_car_sample_mean"
   ]
  },
  {
   "cell_type": "code",
   "execution_count": 42,
   "metadata": {},
   "outputs": [],
   "source": [
    "first_car_sample_stddev = round(np.std(first_car_sample,dtype=float,ddof=0),3)"
   ]
  },
  {
   "cell_type": "code",
   "execution_count": 43,
   "metadata": {},
   "outputs": [
    {
     "data": {
      "text/plain": [
       "3.674"
      ]
     },
     "execution_count": 43,
     "metadata": {},
     "output_type": "execute_result"
    }
   ],
   "source": [
    "first_car_sample_stddev"
   ]
  },
  {
   "cell_type": "code",
   "execution_count": 44,
   "metadata": {},
   "outputs": [],
   "source": [
    "results = scipy_tests.ttest_1samp(first_car_sample,26)"
   ]
  },
  {
   "cell_type": "code",
   "execution_count": 45,
   "metadata": {},
   "outputs": [
    {
     "data": {
      "text/plain": [
       "Ttest_1sampResult(statistic=2.338741244971851, pvalue=0.02840406196767573)"
      ]
     },
     "execution_count": 45,
     "metadata": {},
     "output_type": "execute_result"
    }
   ],
   "source": [
    "results"
   ]
  },
  {
   "cell_type": "markdown",
   "metadata": {},
   "source": [
    "#### ***CASE - I :: With 90% Level of Confidence***"
   ]
  },
  {
   "cell_type": "code",
   "execution_count": 46,
   "metadata": {},
   "outputs": [
    {
     "name": "stdout",
     "output_type": "stream",
     "text": [
      "Researcher claim is right and he rejected the Null Hypothesis at 0.9 L.O.C and 0.1 L.O.S\n"
     ]
    }
   ],
   "source": [
    "loc = 0.90\n",
    "alpha= 1-loc\n",
    "\n",
    "if (results[0] > 0) & (results[1] < alpha):\n",
    "    print(\"Researcher claim is right and he rejected the Null Hypothesis at {} L.O.C and {} L.O.S\".format(loc,round(alpha,2)))\n",
    "else:\n",
    "    print(\"Researcher claim is wrong and he fail to reject the Null Hypothesis at {} L.O.C and {} L.O.S\".format(loc,round(alpha,2)))"
   ]
  },
  {
   "cell_type": "markdown",
   "metadata": {},
   "source": [
    "#### ***CASE - II :: With 99% Level of Confidence***"
   ]
  },
  {
   "cell_type": "code",
   "execution_count": 47,
   "metadata": {},
   "outputs": [
    {
     "name": "stdout",
     "output_type": "stream",
     "text": [
      "Researcher claim is wrong and he fail to reject the Null Hypothesis at 0.99 L.O.C and 0.01 L.O.S\n"
     ]
    }
   ],
   "source": [
    "loc = 0.99\n",
    "alpha= 1-loc\n",
    "\n",
    "if (results[0] > 0) & (results[1] < alpha):\n",
    "    print(\"Researcher claim is right and he rejected the Null Hypothesis at {} L.O.C and {} L.O.S\".format(loc,round(alpha,2)))\n",
    "else:\n",
    "    print(\"Researcher claim is wrong and he fail to reject the Null Hypothesis at {} L.O.C and {} L.O.S\".format(loc,round(alpha,2)))"
   ]
  },
  {
   "cell_type": "markdown",
   "metadata": {},
   "source": [
    "#### ***Question-3*** :: **A researcher claims that average height of people living in India is not 160 cms. He sampled heights of 25 people and found that his claim is true. Test the claim at different level of confidences 85%, 95% and 99%.**"
   ]
  },
  {
   "cell_type": "code",
   "execution_count": 48,
   "metadata": {},
   "outputs": [],
   "source": [
    "avg_height_sample = np.array([100,140,160,150,145,130,130,150,150,165,165,164,160,165,180,182,182,184,183,177,178,176,189,193,158])"
   ]
  },
  {
   "cell_type": "code",
   "execution_count": 49,
   "metadata": {},
   "outputs": [
    {
     "data": {
      "text/plain": [
       "25"
      ]
     },
     "execution_count": 49,
     "metadata": {},
     "output_type": "execute_result"
    }
   ],
   "source": [
    "len(avg_height_sample)"
   ]
  },
  {
   "cell_type": "code",
   "execution_count": 50,
   "metadata": {},
   "outputs": [],
   "source": [
    "avg_height_sample_mean = round(np.mean(avg_height_sample,dtype=float),3)"
   ]
  },
  {
   "cell_type": "code",
   "execution_count": 51,
   "metadata": {},
   "outputs": [
    {
     "data": {
      "text/plain": [
       "162.24"
      ]
     },
     "execution_count": 51,
     "metadata": {},
     "output_type": "execute_result"
    }
   ],
   "source": [
    "avg_height_sample_mean"
   ]
  },
  {
   "cell_type": "code",
   "execution_count": 52,
   "metadata": {},
   "outputs": [],
   "source": [
    "avg_height_sample_variance = np.var(avg_height_sample,dtype=float,ddof=0)"
   ]
  },
  {
   "cell_type": "code",
   "execution_count": 53,
   "metadata": {},
   "outputs": [
    {
     "data": {
      "text/plain": [
       "462.6624"
      ]
     },
     "execution_count": 53,
     "metadata": {},
     "output_type": "execute_result"
    }
   ],
   "source": [
    "avg_height_sample_variance"
   ]
  },
  {
   "cell_type": "code",
   "execution_count": 54,
   "metadata": {},
   "outputs": [],
   "source": [
    "avg_height_sample_stddev = round(np.sqrt(avg_height_sample_variance),3)"
   ]
  },
  {
   "cell_type": "code",
   "execution_count": 55,
   "metadata": {},
   "outputs": [
    {
     "data": {
      "text/plain": [
       "21.51"
      ]
     },
     "execution_count": 55,
     "metadata": {},
     "output_type": "execute_result"
    }
   ],
   "source": [
    "avg_height_sample_stddev"
   ]
  },
  {
   "cell_type": "code",
   "execution_count": 56,
   "metadata": {},
   "outputs": [],
   "source": [
    "pop_mean = 160\n",
    "\n",
    "test_stats_height = scipy_tests.ttest_1samp(avg_height_sample,pop_mean)"
   ]
  },
  {
   "cell_type": "code",
   "execution_count": 57,
   "metadata": {},
   "outputs": [
    {
     "data": {
      "text/plain": [
       "Ttest_1sampResult(statistic=0.5101777757069099, pvalue=0.614587179842627)"
      ]
     },
     "execution_count": 57,
     "metadata": {},
     "output_type": "execute_result"
    }
   ],
   "source": [
    "test_stats_height"
   ]
  },
  {
   "cell_type": "code",
   "execution_count": 58,
   "metadata": {},
   "outputs": [],
   "source": [
    "def hyp_test(test_stats_result,loc,kind_of_test=['l','r','lr']):\n",
    "    alpha = 1 - loc\n",
    "    if (kind_of_test == 'l') & (test_stats_result[0] < 0) & (test_stats_result[1] < alpha):\n",
    "        print(\"Researcher claim is right. Thus, rejected the Null Hypothesis at {} L.O.C and {} L.O.S\".format(loc,round(alpha,2)))\n",
    "    elif (kind_of_test == 'r') & (test_stats_result[0] > 0) & (test_stats_result[1] < alpha):\n",
    "        print(\"Researcher claim is right. Thus, rejected the Null Hypothesis at {} L.O.C and {} L.O.S\".format(loc,round(alpha,2)))\n",
    "    elif (kind_of_test == 'lr') & (test_stats_result[1] < alpha):    \n",
    "        print(\"Researcher claim is right. Thus, rejected the Null Hypothesis at {} L.O.C and {} L.O.S\".format(loc,round(alpha,2)))\n",
    "    else:\n",
    "        print(\"Researcher claim is wrong. Thus, fail to reject the Null Hypothesis at {} L.O.C and {} L.O.S\".format(loc,round(alpha,2)))"
   ]
  },
  {
   "cell_type": "markdown",
   "metadata": {},
   "source": [
    "#### ***CASE - I :: With 85% Level of Confidence***"
   ]
  },
  {
   "cell_type": "code",
   "execution_count": 59,
   "metadata": {},
   "outputs": [
    {
     "name": "stdout",
     "output_type": "stream",
     "text": [
      "Researcher claim is wrong. Thus, fail to reject the Null Hypothesis at 0.85 L.O.C and 0.15 L.O.S\n"
     ]
    }
   ],
   "source": [
    "hyp_test(test_stats_height,0.85,'lr')"
   ]
  },
  {
   "cell_type": "markdown",
   "metadata": {},
   "source": [
    "#### ***CASE - II :: With 95% Level of Confidence***"
   ]
  },
  {
   "cell_type": "code",
   "execution_count": 60,
   "metadata": {},
   "outputs": [
    {
     "name": "stdout",
     "output_type": "stream",
     "text": [
      "Researcher claim is wrong. Thus, fail to reject the Null Hypothesis at 0.95 L.O.C and 0.05 L.O.S\n"
     ]
    }
   ],
   "source": [
    "hyp_test(test_stats_height,0.95,'lr')"
   ]
  },
  {
   "cell_type": "markdown",
   "metadata": {},
   "source": [
    "#### ***CASE - III :: With 99% Level of Confidence***"
   ]
  },
  {
   "cell_type": "code",
   "execution_count": 61,
   "metadata": {},
   "outputs": [
    {
     "name": "stdout",
     "output_type": "stream",
     "text": [
      "Researcher claim is wrong. Thus, fail to reject the Null Hypothesis at 0.99 L.O.C and 0.01 L.O.S\n"
     ]
    }
   ],
   "source": [
    "hyp_test(test_stats_height,0.99,'lr')"
   ]
  },
  {
   "cell_type": "markdown",
   "metadata": {},
   "source": [
    "## **Large_Samples**\n",
    "#### ***Z TEST***\n",
    "---"
   ]
  },
  {
   "cell_type": "markdown",
   "metadata": {},
   "source": [
    "#### ***Question-4*** :: **A beer bottle factory produces atleast 30 cans a day. A newly appointed manager thinks that this number is not correct. He sampled cans production data of 40 random days. Test the claim at 95% level of confidences.**"
   ]
  },
  {
   "cell_type": "code",
   "execution_count": 62,
   "metadata": {},
   "outputs": [],
   "source": [
    "beer_cans_sample = np.array([12,24,25,36,34,21,23,22,33,22,11,16,17,18,36,32,31,30,30,30,30,30,14,18,19,23,24,27,\n",
    "                             28,29,26,26,26,23,32,10,9,22,28,29])"
   ]
  },
  {
   "cell_type": "code",
   "execution_count": 63,
   "metadata": {},
   "outputs": [],
   "source": [
    "beer_cans_sample_mean = round(np.mean(beer_cans_sample,dtype='float'),3)\n",
    "beer_cans_sample_stddev = round(np.std(beer_cans_sample,dtype='float',ddof=0),3)"
   ]
  },
  {
   "cell_type": "code",
   "execution_count": 64,
   "metadata": {},
   "outputs": [
    {
     "data": {
      "text/plain": [
       "(24.4, 7.056)"
      ]
     },
     "execution_count": 64,
     "metadata": {},
     "output_type": "execute_result"
    }
   ],
   "source": [
    "beer_cans_sample_mean,beer_cans_sample_stddev"
   ]
  },
  {
   "cell_type": "code",
   "execution_count": 65,
   "metadata": {},
   "outputs": [],
   "source": [
    "beer_cans_results = s_tests.ztest(beer_cans_sample, value=30, alternative='smaller', ddof=0)"
   ]
  },
  {
   "cell_type": "code",
   "execution_count": 66,
   "metadata": {},
   "outputs": [
    {
     "data": {
      "text/plain": [
       "(-5.019343982920408, 2.592411755802454e-07)"
      ]
     },
     "execution_count": 66,
     "metadata": {},
     "output_type": "execute_result"
    }
   ],
   "source": [
    "beer_cans_results"
   ]
  },
  {
   "cell_type": "code",
   "execution_count": 67,
   "metadata": {},
   "outputs": [
    {
     "name": "stdout",
     "output_type": "stream",
     "text": [
      "Researcher claim is right. Thus, rejected the Null Hypothesis at 0.95 L.O.C and 0.05 L.O.S\n"
     ]
    }
   ],
   "source": [
    "hyp_test(beer_cans_results,0.95,'l')"
   ]
  },
  {
   "cell_type": "markdown",
   "metadata": {},
   "source": [
    "#### ***Question-5*** :: **The government says that the average weight of males in Canada atleast 162.9 pounds. A researcher thinks this is too high. He sampled data of 39 canadian males. Test the claim at 99% level of confidences.**"
   ]
  },
  {
   "cell_type": "code",
   "execution_count": 68,
   "metadata": {},
   "outputs": [],
   "source": [
    "canadian_male_sweight = np.array([120,240,250,360,340,210,230,220,330,220,110,160,170,180,360,320,310,300,300,300,300,300,140,\n",
    "                                  180,190,230,240,270,280,290,260,260,260,230,320,100,90,280,290])"
   ]
  },
  {
   "cell_type": "code",
   "execution_count": 69,
   "metadata": {},
   "outputs": [],
   "source": [
    "canadian_male_sweight_mean = np.mean(canadian_male_sweight,dtype='float')"
   ]
  },
  {
   "cell_type": "code",
   "execution_count": 70,
   "metadata": {},
   "outputs": [],
   "source": [
    "canadian_male_sweight_stddev = np.std(canadian_male_sweight,dtype='float')"
   ]
  },
  {
   "cell_type": "code",
   "execution_count": 71,
   "metadata": {},
   "outputs": [
    {
     "data": {
      "text/plain": [
       "(244.6153846153846, 71.35487886383511)"
      ]
     },
     "execution_count": 71,
     "metadata": {},
     "output_type": "execute_result"
    }
   ],
   "source": [
    "canadian_male_sweight_mean,canadian_male_sweight_stddev"
   ]
  },
  {
   "cell_type": "code",
   "execution_count": 72,
   "metadata": {},
   "outputs": [],
   "source": [
    "canadian_male_sweight_results = s_tests.ztest(canadian_male_sweight, value=162.9, alternative='smaller', ddof=0)"
   ]
  },
  {
   "cell_type": "code",
   "execution_count": 73,
   "metadata": {},
   "outputs": [
    {
     "data": {
      "text/plain": [
       "(7.151752220548922, 0.9999999999995716)"
      ]
     },
     "execution_count": 73,
     "metadata": {},
     "output_type": "execute_result"
    }
   ],
   "source": [
    "canadian_male_sweight_results"
   ]
  },
  {
   "cell_type": "code",
   "execution_count": 74,
   "metadata": {},
   "outputs": [
    {
     "name": "stdout",
     "output_type": "stream",
     "text": [
      "Researcher claim is wrong. Thus, fail to reject the Null Hypothesis at 0.99 L.O.C and 0.01 L.O.S\n"
     ]
    }
   ],
   "source": [
    "hyp_test(canadian_male_sweight_results,0.99,'l')"
   ]
  },
  {
   "cell_type": "markdown",
   "metadata": {},
   "source": [
    "#### ***Question-6*** :: **A study showed that on average women in a city had 1.48 kids. A researcher believes this number is incorrect. He surveyed 100 women in the city & finds that on average these women doesn't had 1.48 kids. Test the claim at 90% LOC.**"
   ]
  },
  {
   "cell_type": "code",
   "execution_count": 75,
   "metadata": {},
   "outputs": [],
   "source": [
    "women_kids_sample = np.random.randint(low=1, high=4, size=100)"
   ]
  },
  {
   "cell_type": "code",
   "execution_count": 76,
   "metadata": {},
   "outputs": [
    {
     "data": {
      "text/plain": [
       "array([1, 1, 2, 2, 1, 1, 2, 2, 3, 2, 2, 3, 2, 2, 3, 3, 3, 2, 1, 3, 3, 3,\n",
       "       3, 1, 2, 2, 2, 2, 1, 1, 3, 1, 1, 1, 2, 3, 1, 1, 2, 3, 1, 1, 1, 2,\n",
       "       2, 1, 3, 3, 3, 3, 2, 2, 3, 1, 3, 1, 2, 2, 1, 1, 3, 3, 1, 3, 2, 2,\n",
       "       3, 2, 1, 2, 2, 3, 1, 3, 1, 1, 3, 1, 3, 2, 1, 3, 1, 3, 2, 2, 1, 2,\n",
       "       3, 2, 3, 2, 3, 1, 3, 2, 2, 1, 1, 3])"
      ]
     },
     "execution_count": 76,
     "metadata": {},
     "output_type": "execute_result"
    }
   ],
   "source": [
    "women_kids_sample"
   ]
  },
  {
   "cell_type": "code",
   "execution_count": 77,
   "metadata": {},
   "outputs": [],
   "source": [
    "women_kids_sample_mean = np.mean(women_kids_sample,dtype='float')"
   ]
  },
  {
   "cell_type": "code",
   "execution_count": 78,
   "metadata": {},
   "outputs": [
    {
     "data": {
      "text/plain": [
       "2.0"
      ]
     },
     "execution_count": 78,
     "metadata": {},
     "output_type": "execute_result"
    }
   ],
   "source": [
    "women_kids_sample_mean"
   ]
  },
  {
   "cell_type": "code",
   "execution_count": 79,
   "metadata": {},
   "outputs": [],
   "source": [
    "women_kids_sample_stddev = np.std(women_kids_sample,dtype='float',ddof=0)"
   ]
  },
  {
   "cell_type": "code",
   "execution_count": 80,
   "metadata": {},
   "outputs": [
    {
     "data": {
      "text/plain": [
       "0.812403840463596"
      ]
     },
     "execution_count": 80,
     "metadata": {},
     "output_type": "execute_result"
    }
   ],
   "source": [
    "women_kids_sample_stddev"
   ]
  },
  {
   "cell_type": "code",
   "execution_count": 81,
   "metadata": {},
   "outputs": [],
   "source": [
    "women_kids_sample_results = s_tests.ztest(women_kids_sample, value=1.48, alternative='two-sided', ddof=0)"
   ]
  },
  {
   "cell_type": "code",
   "execution_count": 82,
   "metadata": {},
   "outputs": [
    {
     "data": {
      "text/plain": [
       "(6.4007575309253015, 1.5460793266910318e-10)"
      ]
     },
     "execution_count": 82,
     "metadata": {},
     "output_type": "execute_result"
    }
   ],
   "source": [
    "women_kids_sample_results"
   ]
  },
  {
   "cell_type": "markdown",
   "metadata": {},
   "source": [
    "#### ***CASE - I :: With 90% Level of Confidence***"
   ]
  },
  {
   "cell_type": "code",
   "execution_count": 83,
   "metadata": {},
   "outputs": [
    {
     "name": "stdout",
     "output_type": "stream",
     "text": [
      "Researcher claim is right. Thus, rejected the Null Hypothesis at 0.9 L.O.C and 0.1 L.O.S\n"
     ]
    }
   ],
   "source": [
    "hyp_test(women_kids_sample_results,0.90,'lr')"
   ]
  },
  {
   "cell_type": "markdown",
   "metadata": {},
   "source": [
    "#### ***CASE - II :: With 99% Level of Confidence***"
   ]
  },
  {
   "cell_type": "code",
   "execution_count": 84,
   "metadata": {},
   "outputs": [
    {
     "name": "stdout",
     "output_type": "stream",
     "text": [
      "Researcher claim is right. Thus, rejected the Null Hypothesis at 0.99 L.O.C and 0.01 L.O.S\n"
     ]
    }
   ],
   "source": [
    "hyp_test(women_kids_sample_results,0.99,'lr')"
   ]
  },
  {
   "cell_type": "markdown",
   "metadata": {},
   "source": [
    "#### ***CASE - III :: Changed the Sample Data***"
   ]
  },
  {
   "cell_type": "code",
   "execution_count": 85,
   "metadata": {},
   "outputs": [],
   "source": [
    "women_kids_changed_sample = np.random.randint(low=0, high=4, size=100, dtype='int')"
   ]
  },
  {
   "cell_type": "code",
   "execution_count": 86,
   "metadata": {},
   "outputs": [
    {
     "data": {
      "text/plain": [
       "array([3, 3, 0, 0, 1, 0, 3, 3, 1, 1, 0, 1, 3, 2, 0, 1, 3, 3, 1, 3, 2, 3,\n",
       "       0, 2, 0, 2, 3, 0, 0, 2, 3, 0, 0, 2, 2, 1, 3, 0, 0, 3, 1, 2, 0, 3,\n",
       "       2, 3, 1, 2, 1, 3, 3, 2, 2, 2, 0, 0, 1, 3, 1, 2, 0, 1, 1, 1, 1, 2,\n",
       "       2, 3, 2, 3, 1, 1, 2, 1, 3, 0, 1, 2, 0, 2, 2, 1, 3, 1, 3, 1, 3, 1,\n",
       "       2, 0, 3, 0, 1, 0, 1, 2, 3, 0, 2, 3])"
      ]
     },
     "execution_count": 86,
     "metadata": {},
     "output_type": "execute_result"
    }
   ],
   "source": [
    "women_kids_changed_sample"
   ]
  },
  {
   "cell_type": "code",
   "execution_count": 87,
   "metadata": {},
   "outputs": [],
   "source": [
    "women_kids_changed_sample_mean = np.mean(women_kids_changed_sample,dtype='float')"
   ]
  },
  {
   "cell_type": "code",
   "execution_count": 88,
   "metadata": {},
   "outputs": [
    {
     "data": {
      "text/plain": [
       "1.55"
      ]
     },
     "execution_count": 88,
     "metadata": {},
     "output_type": "execute_result"
    }
   ],
   "source": [
    "women_kids_changed_sample_mean"
   ]
  },
  {
   "cell_type": "code",
   "execution_count": 89,
   "metadata": {},
   "outputs": [],
   "source": [
    "women_kids_changed_sample_stddev = np.std(women_kids_changed_sample,ddof=0,dtype='float')"
   ]
  },
  {
   "cell_type": "code",
   "execution_count": 90,
   "metadata": {},
   "outputs": [
    {
     "data": {
      "text/plain": [
       "1.116915395184434"
      ]
     },
     "execution_count": 90,
     "metadata": {},
     "output_type": "execute_result"
    }
   ],
   "source": [
    "women_kids_changed_sample_stddev"
   ]
  },
  {
   "cell_type": "code",
   "execution_count": 91,
   "metadata": {},
   "outputs": [],
   "source": [
    "women_kids_changed_sample_results = s_tests.ztest(women_kids_changed_sample, value=1.48, alternative='two-sided', ddof=0)"
   ]
  },
  {
   "cell_type": "code",
   "execution_count": 92,
   "metadata": {},
   "outputs": [
    {
     "data": {
      "text/plain": [
       "(0.6267260734501837, 0.5308388096316876)"
      ]
     },
     "execution_count": 92,
     "metadata": {},
     "output_type": "execute_result"
    }
   ],
   "source": [
    "women_kids_changed_sample_results"
   ]
  },
  {
   "cell_type": "code",
   "execution_count": 93,
   "metadata": {},
   "outputs": [
    {
     "name": "stdout",
     "output_type": "stream",
     "text": [
      "Researcher claim is wrong. Thus, fail to reject the Null Hypothesis at 0.99 L.O.C and 0.01 L.O.S\n"
     ]
    }
   ],
   "source": [
    "hyp_test(women_kids_changed_sample,0.99,'lr')"
   ]
  },
  {
   "cell_type": "markdown",
   "metadata": {},
   "source": [
    "## **POPULATION_PROPORTION**\n",
    "- **Using Z Score Chart/Table**\n",
    "---"
   ]
  },
  {
   "cell_type": "markdown",
   "metadata": {},
   "source": [
    "#### ***Question-7*** :: **As per the HR co-ordinators of different organizations in Germany, atleast 90% of the interns got permanent employment after completion of their internship. A researcher believes this number is too high. He gathered the interns hiring stats from 200 local companies. Test the claim at 90% and 99% LOC.**"
   ]
  },
  {
   "cell_type": "code",
   "execution_count": 94,
   "metadata": {},
   "outputs": [],
   "source": [
    "interns_hired_sample = np.random.randint(low=10,high=16,size=200,dtype='int')"
   ]
  },
  {
   "cell_type": "code",
   "execution_count": 95,
   "metadata": {},
   "outputs": [
    {
     "data": {
      "text/plain": [
       "array([13, 12, 13, 10, 15, 12, 15, 14, 15, 12, 14, 12, 13, 15, 12, 15, 10,\n",
       "       15, 14, 13, 13, 14, 11, 13, 12, 11, 14, 13, 13, 12, 12, 13, 12, 15,\n",
       "       13, 12, 10, 14, 11, 14, 10, 15, 12, 12, 13, 13, 14, 14, 11, 10, 14,\n",
       "       12, 12, 15, 10, 13, 11, 12, 15, 14, 12, 10, 14, 11, 14, 15, 13, 14,\n",
       "       14, 10, 15, 12, 10, 11, 10, 12, 11, 10, 11, 10, 13, 15, 13, 13, 13,\n",
       "       14, 11, 12, 15, 12, 10, 10, 15, 15, 10, 11, 13, 15, 10, 14, 11, 11,\n",
       "       15, 12, 13, 11, 14, 13, 11, 15, 14, 15, 11, 12, 15, 12, 11, 14, 13,\n",
       "       11, 15, 10, 15, 11, 15, 13, 14, 11, 13, 15, 15, 13, 10, 15, 10, 15,\n",
       "       10, 13, 14, 14, 13, 13, 15, 15, 13, 13, 14, 10, 14, 11, 14, 15, 15,\n",
       "       15, 11, 11, 12, 14, 10, 14, 13, 14, 13, 10, 12, 15, 15, 10, 15, 11,\n",
       "       14, 10, 14, 15, 15, 10, 11, 12, 10, 15, 13, 10, 12, 10, 12, 11, 15,\n",
       "       12, 13, 11, 11, 12, 11, 15, 11, 10, 11, 15, 12, 10])"
      ]
     },
     "execution_count": 95,
     "metadata": {},
     "output_type": "execute_result"
    }
   ],
   "source": [
    "interns_hired_sample"
   ]
  },
  {
   "cell_type": "code",
   "execution_count": 96,
   "metadata": {},
   "outputs": [],
   "source": [
    "interns_convereted_as_permanent = interns_hired_sample - np.random.randint(low=1,high=4,size=200,dtype='int')"
   ]
  },
  {
   "cell_type": "code",
   "execution_count": 97,
   "metadata": {},
   "outputs": [
    {
     "data": {
      "text/plain": [
       "array([12, 10, 12,  8, 12, 11, 13, 12, 14, 10, 12,  9, 12, 13, 10, 13,  8,\n",
       "       14, 13, 10, 11, 13,  9, 11, 10,  8, 13, 12, 12,  9, 10, 12, 11, 14,\n",
       "       11,  9,  8, 12,  8, 12,  9, 13, 10,  9, 11, 10, 11, 12,  8,  8, 12,\n",
       "        9,  9, 12,  8, 10, 10, 10, 12, 13, 10,  7, 12,  9, 11, 13, 12, 13,\n",
       "       11,  7, 12,  9,  9,  9,  9, 11, 10,  7, 10,  7, 12, 13, 11, 10, 12,\n",
       "       12,  9, 10, 14, 10,  7,  7, 12, 13,  8,  9, 11, 12,  8, 12, 10,  9,\n",
       "       14, 11, 11,  8, 11, 11,  9, 14, 12, 14, 10,  9, 13, 10,  9, 12, 10,\n",
       "       10, 12,  8, 13,  8, 14, 12, 11,  8, 11, 13, 12, 10,  7, 12,  7, 12,\n",
       "        9, 10, 11, 13, 11, 12, 13, 12, 11, 11, 11,  9, 13,  9, 13, 13, 12,\n",
       "       12,  9,  9, 10, 12,  9, 12, 12, 12, 11,  8, 10, 13, 13,  9, 14,  9,\n",
       "       12,  8, 11, 13, 12,  7,  9,  9,  9, 12, 11,  8, 11,  7,  9, 10, 14,\n",
       "       11, 12,  9, 10,  9,  9, 12, 10,  7,  9, 12, 11,  8])"
      ]
     },
     "execution_count": 97,
     "metadata": {},
     "output_type": "execute_result"
    }
   ],
   "source": [
    "interns_convereted_as_permanent"
   ]
  },
  {
   "cell_type": "code",
   "execution_count": 98,
   "metadata": {},
   "outputs": [],
   "source": [
    "interns_sample_prop = interns_convereted_as_permanent/interns_hired_sample"
   ]
  },
  {
   "cell_type": "code",
   "execution_count": 99,
   "metadata": {},
   "outputs": [
    {
     "data": {
      "text/plain": [
       "array([0.92307692, 0.83333333, 0.92307692, 0.8       , 0.8       ,\n",
       "       0.91666667, 0.86666667, 0.85714286, 0.93333333, 0.83333333,\n",
       "       0.85714286, 0.75      , 0.92307692, 0.86666667, 0.83333333,\n",
       "       0.86666667, 0.8       , 0.93333333, 0.92857143, 0.76923077,\n",
       "       0.84615385, 0.92857143, 0.81818182, 0.84615385, 0.83333333,\n",
       "       0.72727273, 0.92857143, 0.92307692, 0.92307692, 0.75      ,\n",
       "       0.83333333, 0.92307692, 0.91666667, 0.93333333, 0.84615385,\n",
       "       0.75      , 0.8       , 0.85714286, 0.72727273, 0.85714286,\n",
       "       0.9       , 0.86666667, 0.83333333, 0.75      , 0.84615385,\n",
       "       0.76923077, 0.78571429, 0.85714286, 0.72727273, 0.8       ,\n",
       "       0.85714286, 0.75      , 0.75      , 0.8       , 0.8       ,\n",
       "       0.76923077, 0.90909091, 0.83333333, 0.8       , 0.92857143,\n",
       "       0.83333333, 0.7       , 0.85714286, 0.81818182, 0.78571429,\n",
       "       0.86666667, 0.92307692, 0.92857143, 0.78571429, 0.7       ,\n",
       "       0.8       , 0.75      , 0.9       , 0.81818182, 0.9       ,\n",
       "       0.91666667, 0.90909091, 0.7       , 0.90909091, 0.7       ,\n",
       "       0.92307692, 0.86666667, 0.84615385, 0.76923077, 0.92307692,\n",
       "       0.85714286, 0.81818182, 0.83333333, 0.93333333, 0.83333333,\n",
       "       0.7       , 0.7       , 0.8       , 0.86666667, 0.8       ,\n",
       "       0.81818182, 0.84615385, 0.8       , 0.8       , 0.85714286,\n",
       "       0.90909091, 0.81818182, 0.93333333, 0.91666667, 0.84615385,\n",
       "       0.72727273, 0.78571429, 0.84615385, 0.81818182, 0.93333333,\n",
       "       0.85714286, 0.93333333, 0.90909091, 0.75      , 0.86666667,\n",
       "       0.83333333, 0.81818182, 0.85714286, 0.76923077, 0.90909091,\n",
       "       0.8       , 0.8       , 0.86666667, 0.72727273, 0.93333333,\n",
       "       0.92307692, 0.78571429, 0.72727273, 0.84615385, 0.86666667,\n",
       "       0.8       , 0.76923077, 0.7       , 0.8       , 0.7       ,\n",
       "       0.8       , 0.9       , 0.76923077, 0.78571429, 0.92857143,\n",
       "       0.84615385, 0.92307692, 0.86666667, 0.8       , 0.84615385,\n",
       "       0.84615385, 0.78571429, 0.9       , 0.92857143, 0.81818182,\n",
       "       0.92857143, 0.86666667, 0.8       , 0.8       , 0.81818182,\n",
       "       0.81818182, 0.83333333, 0.85714286, 0.9       , 0.85714286,\n",
       "       0.92307692, 0.85714286, 0.84615385, 0.8       , 0.83333333,\n",
       "       0.86666667, 0.86666667, 0.9       , 0.93333333, 0.81818182,\n",
       "       0.85714286, 0.8       , 0.78571429, 0.86666667, 0.8       ,\n",
       "       0.7       , 0.81818182, 0.75      , 0.9       , 0.8       ,\n",
       "       0.84615385, 0.8       , 0.91666667, 0.7       , 0.75      ,\n",
       "       0.90909091, 0.93333333, 0.91666667, 0.92307692, 0.81818182,\n",
       "       0.90909091, 0.75      , 0.81818182, 0.8       , 0.90909091,\n",
       "       0.7       , 0.81818182, 0.8       , 0.91666667, 0.8       ])"
      ]
     },
     "execution_count": 99,
     "metadata": {},
     "output_type": "execute_result"
    }
   ],
   "source": [
    "interns_sample_prop"
   ]
  },
  {
   "cell_type": "code",
   "execution_count": 100,
   "metadata": {},
   "outputs": [],
   "source": [
    "interns_sample_prop_mean = round(np.mean(interns_sample_prop,dtype='float'),4)"
   ]
  },
  {
   "cell_type": "code",
   "execution_count": 101,
   "metadata": {},
   "outputs": [
    {
     "data": {
      "text/plain": [
       "0.8369"
      ]
     },
     "execution_count": 101,
     "metadata": {},
     "output_type": "execute_result"
    }
   ],
   "source": [
    "interns_sample_prop_mean"
   ]
  },
  {
   "cell_type": "code",
   "execution_count": 102,
   "metadata": {},
   "outputs": [],
   "source": [
    "interns_sample_prop_stddev = round(np.std(interns_sample_prop),4)"
   ]
  },
  {
   "cell_type": "code",
   "execution_count": 103,
   "metadata": {},
   "outputs": [
    {
     "data": {
      "text/plain": [
       "0.0656"
      ]
     },
     "execution_count": 103,
     "metadata": {},
     "output_type": "execute_result"
    }
   ],
   "source": [
    "interns_sample_prop_stddev"
   ]
  },
  {
   "cell_type": "code",
   "execution_count": 104,
   "metadata": {},
   "outputs": [],
   "source": [
    "interns_hired_sample_results = sm.stats.proportions_ztest(interns_sample_prop_mean*200,nobs=200,value=0.90,alternative='smaller'\n",
    "                                                          ,prop_var=0.90)"
   ]
  },
  {
   "cell_type": "code",
   "execution_count": 105,
   "metadata": {},
   "outputs": [
    {
     "data": {
      "text/plain": [
       "(-2.9745625261914124, 0.0014670332670623557)"
      ]
     },
     "execution_count": 105,
     "metadata": {},
     "output_type": "execute_result"
    }
   ],
   "source": [
    "interns_hired_sample_results"
   ]
  },
  {
   "cell_type": "markdown",
   "metadata": {},
   "source": [
    "#### ***CASE - I :: With 90% Level of Confidence***"
   ]
  },
  {
   "cell_type": "code",
   "execution_count": 106,
   "metadata": {},
   "outputs": [
    {
     "name": "stdout",
     "output_type": "stream",
     "text": [
      "Researcher claim is right. Thus, rejected the Null Hypothesis at 0.9 L.O.C and 0.1 L.O.S\n"
     ]
    }
   ],
   "source": [
    "hyp_test(interns_hired_sample_results,0.90,'l')"
   ]
  },
  {
   "cell_type": "markdown",
   "metadata": {},
   "source": [
    "#### ***CASE - II :: With 99% Level of Confidence***"
   ]
  },
  {
   "cell_type": "code",
   "execution_count": 107,
   "metadata": {},
   "outputs": [
    {
     "name": "stdout",
     "output_type": "stream",
     "text": [
      "Researcher claim is right. Thus, rejected the Null Hypothesis at 0.99 L.O.C and 0.01 L.O.S\n"
     ]
    }
   ],
   "source": [
    "hyp_test(interns_hired_sample_results,0.99,'l')"
   ]
  },
  {
   "cell_type": "markdown",
   "metadata": {},
   "source": [
    "## **CHI_SQUARE_TEST**\n",
    "---"
   ]
  },
  {
   "cell_type": "markdown",
   "metadata": {},
   "source": [
    "#### ***Question-8*** :: **A pencil manufacturer requires that the mass of their pencils have S.D that won't exceed 0.08 gms. An inspector thinks that the S.D is larger. He samples 30 pencils & finds they have a mean mass of 1.62 gms & S.D 0.0804 gms. Test the claim at 0.05 L.O.S.**"
   ]
  },
  {
   "cell_type": "code",
   "execution_count": 108,
   "metadata": {},
   "outputs": [],
   "source": [
    "pencils_sample = np.random.randint(1,4,size=30,dtype='int')"
   ]
  },
  {
   "cell_type": "code",
   "execution_count": 109,
   "metadata": {},
   "outputs": [
    {
     "data": {
      "text/plain": [
       "array([3, 2, 1, 2, 1, 3, 3, 1, 2, 1, 3, 2, 2, 3, 2, 3, 1, 2, 1, 3, 2, 3,\n",
       "       2, 2, 3, 1, 2, 1, 1, 1])"
      ]
     },
     "execution_count": 109,
     "metadata": {},
     "output_type": "execute_result"
    }
   ],
   "source": [
    "pencils_sample"
   ]
  },
  {
   "cell_type": "code",
   "execution_count": 113,
   "metadata": {},
   "outputs": [],
   "source": [
    "def chi_square_one_pop(f_exp,loc,test_tail=(['l','r','lr']),ddof=False,sample_data=False,sample_stddev=False):\n",
    "    \"\"\"\n",
    "    Description: This function performs the Chi-square test for one population.\n",
    "    \n",
    "    Input parameters: It accepts below parameters:\n",
    "        1. f_exp : Expected Standard Deviation value or Standard Deviation value from population\n",
    "        2. loc : Level of confidence. Used this parameter to calculate the critical value\n",
    "        3. test_tail : This parameter represents which kind of test you want to perform\n",
    "        4. ddof : Degree of freedom. Use this paramter if you want to provide the adhoc value of dof\n",
    "        5. sample_data : One dimensional array containing the sample data\n",
    "        6. sample_stddev : You can provide the standard deviation of the sample directly as an input to perform the chi-sqaure test\n",
    "        \n",
    "    Returns:\n",
    "        - In case of 'l' means left-tail test, it returns,\n",
    "            - test_statistic\n",
    "            - left critical value\n",
    "            - p_value\n",
    "        \n",
    "        - In case of 'r' means right-tail test, it returns,\n",
    "            - test_statistic\n",
    "            - right critical value\n",
    "            - p_value\n",
    "\n",
    "        - In case of 'lr' means both-tail test, it returns,\n",
    "            - test_statistic\n",
    "            - left critical value\n",
    "            - right critical value\n",
    "            - p-value based on left tail\n",
    "            - p-value based on right tail\n",
    "\"\"\"\n",
    "    def cal_mean_var_std(input_array):\n",
    "        \"\"\"\n",
    "        Description: This function calculates the mean, variance and standard deviation of the 1 population.\n",
    "        \n",
    "        Input: It accepts below inp parameters:\n",
    "            1. input_array : Sample Population-1\n",
    "            \n",
    "        Returns: Population-1:\n",
    "                    - Mean\n",
    "                    - Variance\n",
    "                    - Standard Deviation\n",
    "        \"\"\"\n",
    "        sample_data_mean = round(np.mean(input_array,dtype='float'),3)\n",
    "        sample_data_stddev = round(np.mean(input_array,dtype='float'),3)\n",
    "        sample_data_var = round(np.var(input_array,dtype='float'),3)\n",
    "        return sample_data_mean, sample_data_var, sample_data_stddev\n",
    "    \n",
    "    if sample_stddev != False and sample_data == False and ddof != False:\n",
    "        sample_data_stddev = sample_stddev\n",
    "        sample_data_var = sample_data_stddev**2\n",
    "        dof = ddof\n",
    "    elif sample_data != False and sample_stddev == False and ddof == False:\n",
    "        sample_data_mean, sample_data_stddev, sample_data_var = cal_mean_var_std(sample_data)\n",
    "        total_obs = len(sample_data)\n",
    "        dof = (total_obs-1)\n",
    "    elif sample_data != False and sample_stddev == False and ddof != False:\n",
    "        sample_data_mean, sample_data_stddev, sample_data_var = cal_mean_var_std(sample_data)\n",
    "        dof = ddof\n",
    "    \n",
    "    f_exp_var = f_exp**2\n",
    "    \n",
    "    test_stat = (dof*sample_data_var)/f_exp_var\n",
    "    \n",
    "    def left_tail_crit_p_val(tail_test,c,df,test_statistic):\n",
    "        \"\"\"\n",
    "        Description: This function is performing the left tail chi-square hypothesis testing.\n",
    "        \n",
    "        Input: It accepts below input parameters:\n",
    "            1. tail_test : This should be 'l' as we are performing left-tail test\n",
    "            2. c : Level of confidence\n",
    "            3. df : Degree of freedom\n",
    "            4. test_statistic : Test statistic that we have calculated from the sample data\n",
    "        \n",
    "        Returns: Left tail-test:\n",
    "                    - Test Statistic\n",
    "                    - Critical value\n",
    "                    - p_value\n",
    "        \"\"\"\n",
    "        alpha = 1 - c\n",
    "        lower_tail_prob = alpha\n",
    "        critical_val = scipy_stests.chi2.ppf(lower_tail_prob,dof)\n",
    "        p_value = 1 - scipy_stests.chi2.cdf(test_stat,dof)\n",
    "        return test_stat, critical_val, p_value\n",
    "    \n",
    "    def right_tail_crit_p_val(tail_test,c,df,test_statistic):\n",
    "        \"\"\"\n",
    "        Description: This function is performing the right tail chi-square hypothesis testing.\n",
    "        \n",
    "        Input: It accepts below input parameters:\n",
    "            1. tail_test : This should be 'r' as we are performing left-tail test\n",
    "            2. c : Level of confidence\n",
    "            3. df : Degree of freedom\n",
    "            4. test_statistic : Test statistic that we have calculated from the sample data\n",
    "        \n",
    "        Returns: Right tail-test:\n",
    "                    - Test Statistic\n",
    "                    - Critical value\n",
    "                    - p_value\n",
    "        \"\"\"\n",
    "        lower_tail_prob = c\n",
    "        critical_val = scipy_stests.chi2.ppf(lower_tail_prob,dof)\n",
    "        p_value = 1 - scipy_stests.chi2.cdf(test_stat,dof)\n",
    "        return test_stat, critical_val, p_value\n",
    "         \n",
    "    def two_tail_crit_p_val(tail_test,c,df,test_statistic):\n",
    "        \"\"\"\n",
    "        Description: This function is performing the both or two tail chi-square hypothesis testing.\n",
    "        \n",
    "        Input: It accepts below input parameters:\n",
    "            1. tail_test : This should be 'lr' as we are performing left-tail test\n",
    "            2. c : Level of confidence\n",
    "            3. df : Degree of freedom\n",
    "            4. test_statistic : Test statistic that we have calculated from the sample data\n",
    "        \n",
    "        Returns: Both or Two tail-test:\n",
    "                    - Test Statistic\n",
    "                    - Left critical value\n",
    "                    - Right critical value\n",
    "                    - p value\n",
    "        \"\"\"  \n",
    "        l_alpha_by_2 = (1 - c)/2\n",
    "        l_lower_tail_prob = l_alpha_by_2\n",
    "        l_critical_val = scipy_tests.chi2.ppf(l_lower_tail_prob,dof)\n",
    "        r_lower_tail_prob = (1 - l_alpha_by_2)\n",
    "        r_critical_val = scipy_tests.chi2.ppf(r_lower_tail_prob,dof)\n",
    "        p_value = 1 - scipy_tests.chi2.cdf(test_stat,dof)\n",
    "        return test_stat, l_critical_val, r_critical_val, p_value\n",
    "    \n",
    "    if test_tail == 'l':\n",
    "        test_stat, l_cri_val, p_value = left_tail_crit_p_val(tail_test=test_tail,c=loc,df=dof,test_statistic=test_stat)\n",
    "        return test_stat, l_cri_val, p_value\n",
    "    if test_tail == 'r':\n",
    "        test_stat, r_cri_val, p_value = right_tail_crit_p_val(tail_test=test_tail,c=loc,df=dof,test_statistic=test_stat)\n",
    "        return test_stat, r_cri_val, p_value\n",
    "    if test_tail == 'lr':    \n",
    "        test_stat, l_cric_val, r_cric_val, p_value = two_tail_crit_p_val(tail_test=test_tail,c=loc,df=dof,test_statistic=test_stat)\n",
    "        return test_stat, l_cric_val, r_cric_val, p_value"
   ]
  },
  {
   "cell_type": "code",
   "execution_count": 114,
   "metadata": {},
   "outputs": [],
   "source": [
    "chi_square_one_pop_results = chi_square_one_pop(f_exp=4,loc=0.99,ddof=39,test_tail='lr',sample_stddev=3.2)"
   ]
  },
  {
   "cell_type": "code",
   "execution_count": 115,
   "metadata": {},
   "outputs": [
    {
     "data": {
      "text/plain": [
       "(24.960000000000004, 19.99586787495632, 65.47557090346805, 0.9604831078918762)"
      ]
     },
     "execution_count": 115,
     "metadata": {},
     "output_type": "execute_result"
    }
   ],
   "source": [
    "chi_square_one_pop_results"
   ]
  },
  {
   "cell_type": "code",
   "execution_count": 116,
   "metadata": {},
   "outputs": [],
   "source": [
    "def chi_square_hyp_test(test_stats_result,loc,kind_of_test=['l','r','lr']):\n",
    "    alpha = 1 - loc\n",
    "    if (kind_of_test == 'l') & (test_stats_result[-1] < alpha):\n",
    "        print(\"Researcher claim is right. Thus, rejected the Null Hypothesis at {} L.O.C and {} L.O.S\".format(loc,round(alpha,2)))\n",
    "    elif (kind_of_test == 'r') & (test_stats_result[-1] < alpha):\n",
    "        print(\"Researcher claim is right. Thus, rejected the Null Hypothesis at {} L.O.C and {} L.O.S\".format(loc,round(alpha,2)))\n",
    "    elif (kind_of_test == 'lr') & (test_stats_result[-1] < alpha) & ((test_stats_result[0] < test_stats_result[1]) or (test_stats_result[0]) > test_stats_result[2]):    \n",
    "        print(\"Researcher claim is right. Thus, rejected the Null Hypothesis at {} L.O.C and {} L.O.S\".format(loc,round(alpha,2)))\n",
    "    else:\n",
    "        print(\"Researcher claim is wrong. Thus, fail to reject the Null Hypothesis at {} L.O.C and {} L.O.S\".format(loc,round(alpha,2)))"
   ]
  },
  {
   "cell_type": "code",
   "execution_count": 117,
   "metadata": {},
   "outputs": [
    {
     "name": "stdout",
     "output_type": "stream",
     "text": [
      "Researcher claim is wrong. Thus, fail to reject the Null Hypothesis at 0.99 L.O.C and 0.01 L.O.S\n"
     ]
    }
   ],
   "source": [
    "chi_square_hyp_test(chi_square_one_pop_results,0.99,'lr')"
   ]
  },
  {
   "cell_type": "markdown",
   "metadata": {},
   "source": [
    "---\n",
    "# **``Two_Populations``**\n",
    "---"
   ]
  },
  {
   "cell_type": "markdown",
   "metadata": {},
   "source": [
    "Import handmade image here"
   ]
  },
  {
   "cell_type": "markdown",
   "metadata": {},
   "source": [
    "## **Large_Independent_Samples**\n",
    "---\n",
    "- #### **Independent samples means they are the true images of 2 populations which are:**\n",
    "    - not related to each other or \n",
    "    - not having any relationship among them or\n",
    "    - not dependent on each other or\n",
    "    - both the people or items in the populations are different\n",
    "- #### **This means n > 30, here n is sample size**"
   ]
  },
  {
   "cell_type": "markdown",
   "metadata": {},
   "source": [
    "#### ***Question-9*** :: **A researcher thinks that grocery shoppers spend more when they haven't eaten. To test, he samples 41 shoppers who didn't eat breakfast. These people spent on average USD 72.27 with a standard deviation of USD 8.05. 52 shoppers who did eat breakfast spent on average USD 69.43 with standard deviation USD 9.22. Test the claim at 95% level of confidence.**"
   ]
  },
  {
   "cell_type": "code",
   "execution_count": 118,
   "metadata": {},
   "outputs": [],
   "source": [
    "with_brkfst_sample1 = np.random.randint(low=60,high=90,size=52,dtype=np.int)"
   ]
  },
  {
   "cell_type": "code",
   "execution_count": 119,
   "metadata": {},
   "outputs": [],
   "source": [
    "with_brkfst_sample1_mean = round(np.mean(with_brkfst_sample1),3)"
   ]
  },
  {
   "cell_type": "code",
   "execution_count": 120,
   "metadata": {},
   "outputs": [
    {
     "data": {
      "text/plain": [
       "75.25"
      ]
     },
     "execution_count": 120,
     "metadata": {},
     "output_type": "execute_result"
    }
   ],
   "source": [
    "with_brkfst_sample1_mean"
   ]
  },
  {
   "cell_type": "code",
   "execution_count": 121,
   "metadata": {},
   "outputs": [],
   "source": [
    "with_brkfst_sample1_stddev = round(np.std(with_brkfst_sample1),3)"
   ]
  },
  {
   "cell_type": "code",
   "execution_count": 122,
   "metadata": {},
   "outputs": [
    {
     "data": {
      "text/plain": [
       "8.886"
      ]
     },
     "execution_count": 122,
     "metadata": {},
     "output_type": "execute_result"
    }
   ],
   "source": [
    "with_brkfst_sample1_stddev"
   ]
  },
  {
   "cell_type": "code",
   "execution_count": 123,
   "metadata": {},
   "outputs": [],
   "source": [
    "with_brkfst_sample2 = np.random.randint(low=69,high=91,size=41,dtype=np.int)"
   ]
  },
  {
   "cell_type": "code",
   "execution_count": 124,
   "metadata": {},
   "outputs": [],
   "source": [
    "with_brkfst_sample2_mean = round(np.mean(with_brkfst_sample2),3)"
   ]
  },
  {
   "cell_type": "code",
   "execution_count": 125,
   "metadata": {},
   "outputs": [
    {
     "data": {
      "text/plain": [
       "79.902"
      ]
     },
     "execution_count": 125,
     "metadata": {},
     "output_type": "execute_result"
    }
   ],
   "source": [
    "with_brkfst_sample2_mean"
   ]
  },
  {
   "cell_type": "code",
   "execution_count": 126,
   "metadata": {},
   "outputs": [],
   "source": [
    "with_brkfst_sample2_stddev = round(np.std(with_brkfst_sample2),3)"
   ]
  },
  {
   "cell_type": "code",
   "execution_count": 127,
   "metadata": {},
   "outputs": [
    {
     "data": {
      "text/plain": [
       "5.954"
      ]
     },
     "execution_count": 127,
     "metadata": {},
     "output_type": "execute_result"
    }
   ],
   "source": [
    "with_brkfst_sample2_stddev"
   ]
  },
  {
   "cell_type": "markdown",
   "metadata": {},
   "source": [
    "### **``Pooled_Large_Independent_Samples``**\n",
    "#### **Ztest :: Function of Statsmodels.api.stats.ztest & Statsmodels.stats.weightstats.ztest packages only performs ``Pooled`` independent samples hypothesis testing.**  "
   ]
  },
  {
   "cell_type": "code",
   "execution_count": 128,
   "metadata": {},
   "outputs": [],
   "source": [
    "two_pop_lrg_indp_samp_hyp_test_results = sm.stats.ztest(with_brkfst_sample1,with_brkfst_sample2,alternative='smaller',\n",
    "                                                        value=0,usevar='pooled',ddof=0)"
   ]
  },
  {
   "cell_type": "code",
   "execution_count": 129,
   "metadata": {},
   "outputs": [
    {
     "data": {
      "text/plain": [
       "(-2.8811236712622943, 0.0019813006236855347)"
      ]
     },
     "execution_count": 129,
     "metadata": {},
     "output_type": "execute_result"
    }
   ],
   "source": [
    "two_pop_lrg_indp_samp_hyp_test_results"
   ]
  },
  {
   "cell_type": "code",
   "execution_count": 130,
   "metadata": {},
   "outputs": [
    {
     "name": "stdout",
     "output_type": "stream",
     "text": [
      "Researcher claim is right. Thus, rejected the Null Hypothesis at 0.95 L.O.C and 0.05 L.O.S\n"
     ]
    }
   ],
   "source": [
    "hyp_test(two_pop_lrg_indp_samp_hyp_test_results,0.95,'l')"
   ]
  },
  {
   "cell_type": "markdown",
   "metadata": {},
   "source": [
    "#### **Manually calculating the Z Test Statistic for ``Large Independent Samples``**  "
   ]
  },
  {
   "cell_type": "code",
   "execution_count": 131,
   "metadata": {},
   "outputs": [
    {
     "data": {
      "text/plain": [
       "-3.0134706282715853"
      ]
     },
     "execution_count": 131,
     "metadata": {},
     "output_type": "execute_result"
    }
   ],
   "source": [
    "(with_brkfst_sample1_mean - with_brkfst_sample2_mean)/(np.sqrt(((with_brkfst_sample1_stddev**2)/52)+((with_brkfst_sample2_stddev**2)/41)))"
   ]
  },
  {
   "cell_type": "markdown",
   "metadata": {},
   "source": [
    "##### **The above formula used for manual calculation of Z Test Statistic actually represents the formula for ``Not Pooled Sample`` large independent samples.**"
   ]
  },
  {
   "cell_type": "markdown",
   "metadata": {},
   "source": [
    "### **``Not-Pooled_Large_Independent_Samples``**\n",
    "#### **Ztest ::**\n",
    "- **As function of Statsmodels.api.stats.ztest & Statsmodels.stats.weightstats.ztest packages only performs ``Pooled`` independent samples hypothesis testing. Therefore, write below function:**  "
   ]
  },
  {
   "cell_type": "code",
   "execution_count": 132,
   "metadata": {},
   "outputs": [],
   "source": [
    "def ztest_notpooled(x1, x2=None, value=0, alternative='two-sided', usevar='pooled',\n",
    "          ddof=1.):\n",
    "    '''test for mean based on normal distribution, one or two samples\n",
    "\n",
    "    In the case of two samples, the samples are assumed to be independent.\n",
    "\n",
    "    Parameters\n",
    "    ----------\n",
    "    x1 : array_like, 1-D or 2-D\n",
    "        first of the two independent samples\n",
    "    x2 : array_like, 1-D or 2-D\n",
    "        second of the two independent samples\n",
    "    value : float\n",
    "        In the one sample case, value is the mean of x1 under the Null\n",
    "        hypothesis.\n",
    "        In the two sample case, value is the difference between mean of x1 and\n",
    "        mean of x2 under the Null hypothesis. The test statistic is\n",
    "        `x1_mean - x2_mean - value`.\n",
    "    alternative : string\n",
    "        The alternative hypothesis, H1, has to be one of the following\n",
    "\n",
    "           'two-sided': H1: difference in means not equal to value (default)\n",
    "           'larger' :   H1: difference in means larger than value\n",
    "           'smaller' :  H1: difference in means smaller than value\n",
    "\n",
    "    usevar : string, 'unequal'\n",
    "        ``unqual``, means the standard deviation of the samples is assumed to be\n",
    "        not the same.\n",
    "    ddof : int\n",
    "        Degrees of freedom use in the calculation of the variance of the mean\n",
    "        estimate. In the case of comparing means this is one, however it can\n",
    "        be adjusted for testing other statistics (proportion, correlation)\n",
    "\n",
    "    Returns\n",
    "    -------\n",
    "    tstat : float\n",
    "        test statisic\n",
    "    pvalue : float\n",
    "        pvalue of the t-test\n",
    "    '''\n",
    "    import numpy as np\n",
    "    from scipy import stats\n",
    "    \n",
    "    def _zstat_generic(value1, value2, std_diff, alternative, diff=0):\n",
    "        '''generic (normal) z-test to save typing\n",
    "        can be used as ztest based on summary statistics\n",
    "        '''\n",
    "        zstat = (value1 - value2 - diff) / std_diff\n",
    "        if alternative in ['two-sided', '2-sided', '2s']:\n",
    "            pvalue = stats.norm.sf(np.abs(zstat))*2\n",
    "        elif alternative in ['larger', 'l']:\n",
    "            pvalue = stats.norm.sf(zstat)\n",
    "        elif alternative in ['smaller', 's']:\n",
    "            pvalue = stats.norm.cdf(zstat)\n",
    "        else:\n",
    "            raise ValueError('invalid alternative')\n",
    "        return zstat, pvalue\n",
    "    \n",
    "    if usevar == 'unequal':\n",
    "        print(\"You are using Two populations whose variances are assumed to be ``Unequal`` or ``Not-pooled``\")\n",
    "#         raise NotImplementedError('only usevar=\"pooled\" is implemented')\n",
    "\n",
    "    x1 = np.asarray(x1)\n",
    "    nobs1 = x1.shape[0]\n",
    "    x1_mean = x1.mean(0)\n",
    "    x1_var = x1.var(0)\n",
    "    if x2 is not None:\n",
    "        x2 = np.asarray(x2)\n",
    "        nobs2 = x2.shape[0]\n",
    "        x2_mean = x2.mean(0)\n",
    "        x2_var = x2.var(0)\n",
    "        var_pooled = ((x1_var/nobs1) + (x2_var/nobs2))\n",
    "    else:\n",
    "        var_pooled = x1_var / (nobs1 - ddof)\n",
    "        x2_mean = 0\n",
    "\n",
    "    std_diff = np.sqrt(var_pooled)\n",
    "    #stat = x1_mean - x2_mean - value\n",
    "    z_stat, pvalue = _zstat_generic(x1_mean, x2_mean, std_diff, alternative, diff=value)\n",
    "    return z_stat, pvalue"
   ]
  },
  {
   "cell_type": "code",
   "execution_count": 133,
   "metadata": {},
   "outputs": [
    {
     "name": "stdout",
     "output_type": "stream",
     "text": [
      "You are using Two populations whose variances are assumed to be ``Unequal`` or ``Not-pooled``\n"
     ]
    }
   ],
   "source": [
    "z_test_not_pooled_results = ztest_notpooled(with_brkfst_sample1,with_brkfst_sample2,value=0,alternative='smaller',usevar='unequal')"
   ]
  },
  {
   "cell_type": "code",
   "execution_count": 134,
   "metadata": {},
   "outputs": [
    {
     "data": {
      "text/plain": [
       "(-3.0137485802222717, 0.0012902077547183167)"
      ]
     },
     "execution_count": 134,
     "metadata": {},
     "output_type": "execute_result"
    }
   ],
   "source": [
    "z_test_not_pooled_results"
   ]
  },
  {
   "cell_type": "code",
   "execution_count": 135,
   "metadata": {},
   "outputs": [
    {
     "name": "stdout",
     "output_type": "stream",
     "text": [
      "Researcher claim is right. Thus, rejected the Null Hypothesis at False L.O.C and 1 L.O.S\n"
     ]
    }
   ],
   "source": [
    "hyp_test(z_test_not_pooled_results,loc==0.95,'l')"
   ]
  },
  {
   "cell_type": "markdown",
   "metadata": {},
   "source": [
    "## **Small_Independent_Samples**\n",
    "---\n",
    "- #### **Independent samples means they are the true images of 2 populations which are:**\n",
    "    - not related to each other or \n",
    "    - not having any relationship among them or\n",
    "    - not dependent on each other or\n",
    "    - both the people or items in the populations are different\n",
    "- #### **This means n < 30, here n is sample size**"
   ]
  },
  {
   "cell_type": "markdown",
   "metadata": {},
   "source": [
    "#### ***Question-10*** :: **It is claimed that people who go to home improvement classes finish projects in less time. Group A is 10 people who attend a class. And, on average, they finish projects in 14.1 hrs with S.D of 2.3 hrs. Group B is 10 people who didn't attend a class and finish projects on average in 15 hrs with S.D of 2,4 hrs. Test the claim at 0.01 L.O.S.**"
   ]
  },
  {
   "cell_type": "code",
   "execution_count": null,
   "metadata": {},
   "outputs": [],
   "source": []
  },
  {
   "cell_type": "code",
   "execution_count": null,
   "metadata": {},
   "outputs": [],
   "source": []
  },
  {
   "cell_type": "code",
   "execution_count": null,
   "metadata": {},
   "outputs": [],
   "source": []
  },
  {
   "cell_type": "code",
   "execution_count": null,
   "metadata": {},
   "outputs": [],
   "source": []
  },
  {
   "cell_type": "code",
   "execution_count": null,
   "metadata": {},
   "outputs": [],
   "source": []
  },
  {
   "cell_type": "code",
   "execution_count": null,
   "metadata": {},
   "outputs": [],
   "source": []
  },
  {
   "cell_type": "markdown",
   "metadata": {},
   "source": [
    "#### ***Question-11*** :: **A test preparation company claims that their class increases test scores. In city A, 15 students took the class and got an average score of 942 points with a S.D 103 points. In city B, 18 students did not take the class and got an average of 898 score with S.D of 95 points. Test the claim at 0.95 LOS. Because students are in different cities and assume variances not be equal.**"
   ]
  },
  {
   "cell_type": "code",
   "execution_count": null,
   "metadata": {},
   "outputs": [],
   "source": []
  },
  {
   "cell_type": "code",
   "execution_count": null,
   "metadata": {},
   "outputs": [],
   "source": []
  },
  {
   "cell_type": "code",
   "execution_count": null,
   "metadata": {},
   "outputs": [],
   "source": []
  },
  {
   "cell_type": "code",
   "execution_count": null,
   "metadata": {},
   "outputs": [],
   "source": []
  },
  {
   "cell_type": "code",
   "execution_count": null,
   "metadata": {},
   "outputs": [],
   "source": []
  },
  {
   "cell_type": "code",
   "execution_count": null,
   "metadata": {},
   "outputs": [],
   "source": []
  },
  {
   "cell_type": "markdown",
   "metadata": {},
   "source": [
    "### **To be studied**"
   ]
  },
  {
   "cell_type": "markdown",
   "metadata": {},
   "source": [
    "sm.stats.DescrStatsW()"
   ]
  },
  {
   "cell_type": "markdown",
   "metadata": {},
   "source": [
    "1 + np.random.randn(2,4)"
   ]
  },
  {
   "cell_type": "markdown",
   "metadata": {},
   "source": [
    "Compare Means"
   ]
  }
 ],
 "metadata": {
  "kernelspec": {
   "display_name": "Python 3",
   "language": "python",
   "name": "python3"
  },
  "language_info": {
   "codemirror_mode": {
    "name": "ipython",
    "version": 3
   },
   "file_extension": ".py",
   "mimetype": "text/x-python",
   "name": "python",
   "nbconvert_exporter": "python",
   "pygments_lexer": "ipython3",
   "version": "3.7.3"
  }
 },
 "nbformat": 4,
 "nbformat_minor": 4
}
