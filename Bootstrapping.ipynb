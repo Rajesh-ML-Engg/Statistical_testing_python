{
 "cells": [
  {
   "cell_type": "markdown",
   "metadata": {},
   "source": [
    "### **Understand ``BOOTSTRAP`` Simulation using examples** "
   ]
  },
  {
   "cell_type": "markdown",
   "metadata": {},
   "source": [
    "##### **The objective of this notebook is to work with bootstrap simulations using some examples and build the understanding of where and how to use it.**\n",
    "---"
   ]
  },
  {
   "cell_type": "markdown",
   "metadata": {},
   "source": [
    "##### **Notebook Contents**\n",
    "\n",
    "1. [Notes and Cheatsheets](#Notes_Cheatsheets)\n",
    "2. [Import required libraries](#Import_packages)\n",
    "3. [Use-case : I : Confidence Interval using Z-distn](#CASE:I)\n",
    "4. [Use-case : II : Confidence Interval using C.L.T](#CASE:II)\n",
    "    1. [Large Sample Size](#Large_Sample_Size)\n",
    "    2. [Small Sample Size](#Small_Sample_Size)\n",
    "5. [Use-case : III : Confidence Interval using Bootstrap Sampling](#CASE:III)\n",
    "6. [Models Comparison](#Models_Comparison)\n",
    "---"
   ]
  },
  {
   "cell_type": "markdown",
   "metadata": {},
   "source": [
    "#### **Notes_Cheatsheets**"
   ]
  },
  {
   "cell_type": "code",
   "execution_count": null,
   "metadata": {},
   "outputs": [],
   "source": [
    "# Bootstrap understanding - pic\n",
    "# Models comparison - pic (bootstrap and ANOVA)\n",
    "# Model evaluation - pic (bootstrap and ANOVA)"
   ]
  },
  {
   "cell_type": "markdown",
   "metadata": {},
   "source": [
    "#### **Import_packages**"
   ]
  },
  {
   "cell_type": "code",
   "execution_count": 1,
   "metadata": {},
   "outputs": [],
   "source": [
    "import os\n",
    "import sys\n",
    "import logging\n",
    "\n",
    "logging.basicConfig(filename=\"Bootstrapping_Logs.log\",\n",
    "                    filemode='w',\n",
    "                    level=logging.INFO,\n",
    "                    format=\"%(asctime)s : %(levelname)s : %(message)s\")\n",
    "\n",
    "try :\n",
    "    logging.info(\"#### Start packages import ####\")\n",
    "    import numpy as np\n",
    "    import pandas as pd\n",
    "    import matplotlib.pyplot as plt\n",
    "    import seaborn as sns\n",
    "    import sklearn\n",
    "    from termcolor import colored    \n",
    "    from statsmodels.graphics.gofplots import qqplot\n",
    "except ModuleNotFoundError as import_error:\n",
    "    logging.error(msg=(import_error.__class__.__name__ + \" :: {} not found\".format(import_error.name)))\n",
    "\n",
    "%matplotlib inline"
   ]
  },
  {
   "cell_type": "markdown",
   "metadata": {},
   "source": [
    "#### **Population_Data**"
   ]
  },
  {
   "cell_type": "code",
   "execution_count": 2,
   "metadata": {},
   "outputs": [],
   "source": [
    "# Setting the seed for random numbers for results reproducibility\n",
    "np.random.seed(44)\n",
    "\n",
    "# Generating random data for population\n",
    "pop_scores = np.random.lognormal(mean=3, sigma=1, size=100000)"
   ]
  },
  {
   "cell_type": "code",
   "execution_count": 3,
   "metadata": {},
   "outputs": [
    {
     "data": {
      "text/plain": [
       "array([  9.48190535,  74.91523877,  69.83532906,   4.03531457,\n",
       "         4.6267576 ,   3.61441328, 128.86736428,  21.92413262,\n",
       "        19.06163743,  35.0043254 ,   7.66447722,  16.77145836,\n",
       "         6.15085345,  36.79808923,   7.75509035,  28.8138467 ,\n",
       "        58.00970105,  17.86507736,  45.86328246,   5.99056929,\n",
       "         6.10737089,  25.02491231,  16.23356269,   4.89640301,\n",
       "        12.39160199,  66.80394144,   9.91646957,  20.59773987,\n",
       "        13.58371767,  24.36479161,  28.48253043,  36.27716145,\n",
       "        33.79827852,  45.84299422,  30.75964203,  24.42580183,\n",
       "        12.01177984,   0.92896073,  13.52907306,   9.06663159,\n",
       "         9.94230105,   3.53462539,  42.5554639 ,   3.1144322 ,\n",
       "        30.52393056,  15.87373986,  30.94177381,  47.95638396,\n",
       "       149.69833766,  79.1837347 ,  57.89308148,  85.22864312,\n",
       "        21.09051241,  21.98432106,  12.42540525,  27.13061339,\n",
       "        61.12859917,  19.70130651,  20.06932242,  10.60652912,\n",
       "        98.95679746,  20.46288969,  35.21276539,  16.46971399,\n",
       "        31.91919497,   3.25732406,  22.94097973,  10.83650321,\n",
       "        74.30509362,  43.6340458 ,  15.17773578,   9.73825835,\n",
       "         7.82004228,  35.22254086,  10.04632965, 110.14080341,\n",
       "         7.01659035,  10.36928886,   7.30895486,   4.66981421,\n",
       "        29.68237197,   8.93124497,  63.9225333 ,  20.73375641,\n",
       "         3.01340808,   8.4574613 ,  18.96893239,  68.78721189,\n",
       "        11.78053392,  14.35395706,   4.23878297,  67.94093687,\n",
       "         2.10088199,  25.05360766,  19.0073995 ,  26.60727029,\n",
       "        36.54870231,  56.10216266,  20.22545524,   3.47880996])"
      ]
     },
     "execution_count": 3,
     "metadata": {},
     "output_type": "execute_result"
    }
   ],
   "source": [
    "pop_scores[0:100]"
   ]
  },
  {
   "cell_type": "code",
   "execution_count": 4,
   "metadata": {},
   "outputs": [
    {
     "data": {
      "text/plain": [
       "33.06191014559588"
      ]
     },
     "execution_count": 4,
     "metadata": {},
     "output_type": "execute_result"
    }
   ],
   "source": [
    "## Population Score mean\n",
    "np.mean(pop_scores)"
   ]
  },
  {
   "cell_type": "code",
   "execution_count": 5,
   "metadata": {},
   "outputs": [
    {
     "data": {
      "text/plain": [
       "1819.8229254277492"
      ]
     },
     "execution_count": 5,
     "metadata": {},
     "output_type": "execute_result"
    }
   ],
   "source": [
    "## Population Score Variance\n",
    "np.var(pop_scores,ddof=0)"
   ]
  },
  {
   "cell_type": "code",
   "execution_count": 6,
   "metadata": {},
   "outputs": [
    {
     "data": {
      "text/plain": [
       "42.65938261892393"
      ]
     },
     "execution_count": 6,
     "metadata": {},
     "output_type": "execute_result"
    }
   ],
   "source": [
    "## Population Score Std Dev\n",
    "np.std(pop_scores,ddof=0)"
   ]
  },
  {
   "cell_type": "markdown",
   "metadata": {},
   "source": [
    "### **CASE:I**\n",
    "#### **Assuming it a normal distribution**\n",
    "\n",
    "##### **Here, I'm making a big assumption that the population belongs to the normal distribution thus using the normal distribution to calculate the standard error and confidence interval.**"
   ]
  },
  {
   "cell_type": "code",
   "execution_count": 7,
   "metadata": {},
   "outputs": [
    {
     "data": {
      "text/plain": [
       "50"
      ]
     },
     "execution_count": 7,
     "metadata": {},
     "output_type": "execute_result"
    }
   ],
   "source": [
    "## Generating the parent sample\n",
    "sample1 = np.random.choice(a=pop_scores,size=50,replace=True)\n",
    "sample1.size"
   ]
  },
  {
   "cell_type": "code",
   "execution_count": 8,
   "metadata": {},
   "outputs": [
    {
     "data": {
      "text/plain": [
       "29.063050440702337"
      ]
     },
     "execution_count": 8,
     "metadata": {},
     "output_type": "execute_result"
    }
   ],
   "source": [
    "## Parent Sample Scores Mean\n",
    "np.mean(sample1)"
   ]
  },
  {
   "cell_type": "code",
   "execution_count": 9,
   "metadata": {},
   "outputs": [
    {
     "data": {
      "text/plain": [
       "1099.7079671982667"
      ]
     },
     "execution_count": 9,
     "metadata": {},
     "output_type": "execute_result"
    }
   ],
   "source": [
    "## Parent Sample Score Var\n",
    "np.var(sample1,ddof=1)"
   ]
  },
  {
   "cell_type": "code",
   "execution_count": 10,
   "metadata": {},
   "outputs": [
    {
     "data": {
      "text/plain": [
       "33.16184505117691"
      ]
     },
     "execution_count": 10,
     "metadata": {},
     "output_type": "execute_result"
    }
   ],
   "source": [
    "## Parent Sample Score Std Dev\n",
    "samp1_std = np.std(sample1,ddof=1)\n",
    "samp1_std"
   ]
  },
  {
   "cell_type": "code",
   "execution_count": 11,
   "metadata": {},
   "outputs": [
    {
     "name": "stdout",
     "output_type": "stream",
     "text": [
      "Value of Z at 95% LOC is : 1.645\n",
      "\n",
      "Value of Standard Error is : 4.690\n",
      "\n",
      "Margin of Error is : 7.714\n"
     ]
    }
   ],
   "source": [
    "## Standard Error\n",
    "import scipy\n",
    "z_alpha_by_2 = scipy.stats.norm.ppf(0.95)\n",
    "print(\"Value of Z at 95% LOC is : {:.3f}\\n\".format(z_alpha_by_2))\n",
    "\n",
    "samp1_std_err = samp1_std / (np.sqrt(sample1.size))\n",
    "print(\"Value of Standard Error is : {:.3f}\\n\".format(samp1_std_err))\n",
    "\n",
    "margin_of_error = z_alpha_by_2 * samp1_std_err\n",
    "print(\"Margin of Error is : {:.3f}\".format(margin_of_error))"
   ]
  },
  {
   "cell_type": "code",
   "execution_count": 12,
   "metadata": {},
   "outputs": [
    {
     "data": {
      "image/jpeg": "[encoded data removed]",
      "text/plain": [
       "<IPython.core.display.Image object>"
      ]
     },
     "execution_count": 12,
     "metadata": {
      "image/jpeg": {
       "height": 1000,
       "width": 1000
      }
     },
     "output_type": "execute_result"
    }
   ],
   "source": [
    "from IPython.display import Image\n",
    "\n",
    "Image(\"Handwritten_Notes/Z_ci_formula.jpg\",width=1000,height=1000)"
   ]
  },
  {
   "cell_type": "code",
   "execution_count": 13,
   "metadata": {},
   "outputs": [
    {
     "name": "stdout",
     "output_type": "stream",
     "text": [
      "Confidence Interval is : Lower Interval - 21.349, Mean - 29.063050440702337, Upper Interval - 36.777\n"
     ]
    }
   ],
   "source": [
    "ci = (np.round(sample1.mean() - margin_of_error,3), np.round(sample1.mean() + margin_of_error,3))\n",
    "print(\"Confidence Interval is : Lower Interval - {}, Mean - {}, Upper Interval - {}\".format(ci[0],sample1.mean(),ci[1]))"
   ]
  },
  {
   "cell_type": "markdown",
   "metadata": {},
   "source": [
    "##### Thus, here we are concluding that the population mean will fall between 187 and 239 with a 95% Level of Confidence."
   ]
  },
  {
   "cell_type": "markdown",
   "metadata": {},
   "source": [
    "### **CASE:II**\n",
    "#### **Using CLT without assuming it a normal distribution**\n",
    "\n",
    "##### **The power of CLT is that it can be applied to any distribution but its one of major limitations is that we need to cover the entire population in our samples which is not possible in real-life.**"
   ]
  },
  {
   "cell_type": "markdown",
   "metadata": {},
   "source": [
    "#### **Large_Sample_Size**"
   ]
  },
  {
   "cell_type": "code",
   "execution_count": 14,
   "metadata": {},
   "outputs": [
    {
     "name": "stdout",
     "output_type": "stream",
     "text": [
      "Number of samples to be withdrawn 2000.0 and Samples Size 50\n"
     ]
    }
   ],
   "source": [
    "sample_size = 50\n",
    "number_of_samples = pop_scores.size/sample_size\n",
    "print(\"Number of samples to be withdrawn {} and Samples Size {}\".format(number_of_samples,sample_size))"
   ]
  },
  {
   "cell_type": "code",
   "execution_count": 15,
   "metadata": {},
   "outputs": [],
   "source": [
    "def clt(pop_data,num_samples,samp_size):\n",
    "    \"\"\"\n",
    "    Description: This function is created for performing the central limit theorem.\n",
    "    \"\"\"\n",
    "    if type(num_samples) != int:\n",
    "        num_samples = int(num_samples)\n",
    "        \n",
    "    if type(samp_size) != int:\n",
    "        samp_size = int(samp_size)\n",
    "        \n",
    "    sampling_distn = []\n",
    "    sampling_distn_sample_means = []\n",
    "    for i in range(0,num_samples,1):\n",
    "        # Generating sampling distribution of popn\n",
    "        sample = np.random.choice(pop_data,size=samp_size,replace=True)\n",
    "        sampling_distn.append(sample)\n",
    "        \n",
    "        # Generating sampling distribution of sample means\n",
    "        sample_mean = np.mean(sample)\n",
    "        sampling_distn_sample_means.append(sample_mean)\n",
    "        \n",
    "    return sampling_distn, sampling_distn_sample_means"
   ]
  },
  {
   "cell_type": "code",
   "execution_count": 16,
   "metadata": {},
   "outputs": [],
   "source": [
    "samp_distn, samp_distn_samp_means = clt(pop_scores, num_samples=number_of_samples, samp_size=sample_size)"
   ]
  },
  {
   "cell_type": "code",
   "execution_count": 17,
   "metadata": {},
   "outputs": [
    {
     "data": {
      "text/plain": [
       "(2000, 2000)"
      ]
     },
     "execution_count": 17,
     "metadata": {},
     "output_type": "execute_result"
    }
   ],
   "source": [
    "len(samp_distn), len(samp_distn_samp_means)"
   ]
  },
  {
   "cell_type": "code",
   "execution_count": 18,
   "metadata": {},
   "outputs": [
    {
     "data": {
      "text/plain": [
       "[array([ 11.64577815,   6.5845971 , 100.79171434,  37.41350377,\n",
       "         24.07435125,  36.50808515,  21.86115759,  11.35125498,\n",
       "         32.08585637, 108.22321767, 164.38143634,  24.27759749,\n",
       "         78.33871192,  23.15181013,   4.55831769,  14.26956728,\n",
       "         23.77570916,  12.5331702 ,   4.03879094,  59.57950333,\n",
       "         22.34377677,   6.92967035,  37.5600136 , 186.19051493,\n",
       "         17.75175516,   8.85660236,   6.48080973,  51.49858002,\n",
       "        242.51834356,  35.49966276,  12.31033754,   8.88369082,\n",
       "         41.8362801 ,  39.21986462,   5.20821589,  14.7954397 ,\n",
       "         18.16603117,  53.59791583,   2.79745811,  10.63497885,\n",
       "         15.49670887,   7.30949491,  12.85663194,   5.50321469,\n",
       "         34.40398179,  29.92050911,  24.02956503,  95.2904632 ,\n",
       "         12.2842078 , 150.35828962]),\n",
       " array([ 16.35324227,  10.03406277,  24.11512293,  44.86052583,\n",
       "        255.40053632,  21.71401471,  92.17475024,  45.99808322,\n",
       "         36.7848888 ,  58.84859696,  44.111759  ,   3.72355228,\n",
       "         47.73646845,  53.40746463,  37.6649883 ,  26.59691331,\n",
       "         14.15785931,  19.88859558,  25.54653684,  27.91292717,\n",
       "        117.08542088,  28.87664634,  30.56632715,  62.41807995,\n",
       "        100.42818178,   4.86316981,  20.21607355, 114.4516007 ,\n",
       "          6.62234719,   6.52192657,   6.14440722,  36.91057356,\n",
       "         25.46672979,  11.25058382,   4.77888571,  63.69920312,\n",
       "         15.75683692, 125.15934597,  12.77390131,  11.32971398,\n",
       "         15.60338423,  34.78826055,  30.98325129,   8.72031786,\n",
       "         34.78143502,   5.98436174,  44.97273254, 140.30569146,\n",
       "          3.91138687,  66.58633714]),\n",
       " array([ 38.99721373,  83.91675434,  18.22573273,  26.77325576,\n",
       "          6.23079716,   4.87882364,  10.68573505,  45.80514497,\n",
       "         14.91462385,   8.39143929,  21.21722323,   6.52642112,\n",
       "         17.76985246,   8.46261929,  17.8699139 ,  19.02695687,\n",
       "          9.71912868,  11.88322225,  21.69710472,   3.54870005,\n",
       "          4.31791261,  18.74154168,  23.7973776 ,   6.55059318,\n",
       "          8.09168818,  18.19953488,  33.81141578,   9.02527845,\n",
       "         21.17787003,  22.57243028, 108.2480854 ,   9.77383113,\n",
       "         24.52339313,   6.61673102,  11.31898409,   6.7060333 ,\n",
       "          5.58584304,  32.53820937,  76.02513338,  26.99792567,\n",
       "         26.57355551,   8.19866514,  13.27666989,  25.3358433 ,\n",
       "         37.76455176,  23.61891524,  50.65796918,   3.35225002,\n",
       "          7.20405424,  66.26799778]),\n",
       " array([ 34.33575976,  10.53583486,   8.15580291,  67.29729147,\n",
       "         20.7578221 ,  45.76630376,   5.62098115,  46.57668168,\n",
       "          2.70885437,  18.48620526,  39.44263094,  34.19087439,\n",
       "          8.00705246,  40.55214448,  22.23220531, 129.76579353,\n",
       "          5.34547749,   4.97209661, 124.26394824,  19.20705075,\n",
       "          2.73902642,  22.73158436,   7.96351148,  83.95542863,\n",
       "         19.03810026,   4.09312673,  94.38383801,   8.21636383,\n",
       "         26.93495954,   5.41627502,  39.44505311,  98.95679746,\n",
       "        136.94592168,  96.37773033,  15.21851009,  13.75656906,\n",
       "          9.66251995,  38.16114551,   2.76874286,  23.7659461 ,\n",
       "          7.22068122,  19.14799252,  17.91063796,   7.15188249,\n",
       "         11.12512745,  36.24912913,  24.68235615,  14.33689683,\n",
       "         17.0853379 ,   9.04337216]),\n",
       " array([ 79.66694767,  35.28406335,  49.73765629,  43.84577271,\n",
       "          3.82415346,   7.89074254,  67.53145217,  14.24347759,\n",
       "          6.77229909,  35.1780838 ,  86.64806833,   6.71594452,\n",
       "          4.58868458,  12.70101126,   4.45086103,  25.45411697,\n",
       "         17.20335382,   7.25027847,  11.25722055,   8.65018057,\n",
       "         43.14529839,  14.03357185,   5.36905052,  21.59903401,\n",
       "          3.14646982,  30.79448421,  15.76524367,  22.13086182,\n",
       "         39.7189752 , 102.54220095,  17.28155834,   8.873739  ,\n",
       "         19.93238295,  45.73249359,  45.7616661 ,   4.75967691,\n",
       "         59.01762287,  39.36510286,  28.82066116,  16.35069024,\n",
       "         11.13588874,   1.69269634,  13.63014816,  40.07988225,\n",
       "         19.17395471,   6.38955285,  13.7695238 ,  33.86352513,\n",
       "         18.04982008,   4.07515939])]"
      ]
     },
     "execution_count": 18,
     "metadata": {},
     "output_type": "execute_result"
    }
   ],
   "source": [
    "samp_distn[0:5]"
   ]
  },
  {
   "cell_type": "code",
   "execution_count": 19,
   "metadata": {},
   "outputs": [
    {
     "data": {
      "text/plain": [
       "[40.19954279398547,\n",
       " 41.979760059108685,\n",
       " 22.6682189473617,\n",
       " 32.05410751561987,\n",
       " 25.497906093879266]"
      ]
     },
     "execution_count": 19,
     "metadata": {},
     "output_type": "execute_result"
    }
   ],
   "source": [
    "samp_distn_samp_means[0:5]"
   ]
  },
  {
   "cell_type": "code",
   "execution_count": 20,
   "metadata": {},
   "outputs": [
    {
     "data": {
      "image/png": "[encoded data removed]",
      "text/plain": [
       "<Figure size 1296x432 with 2 Axes>"
      ]
     },
     "metadata": {},
     "output_type": "display_data"
    }
   ],
   "source": [
    "with plt.style.context('seaborn'):\n",
    "    fig,ax=plt.subplots(nrows=1,ncols=2,figsize=(18,6))\n",
    "    sns.histplot(data=pop_scores,ax=ax[0],color='blue',kde=True)\n",
    "    sns.histplot(data=samp_distn_samp_means,ax=ax[1],color='brown',kde=True)\n",
    "    ax[0].set_xlabel(\"Population\",fontdict={'size':18,'family':'calibri','color':'coral','style':'oblique'})\n",
    "    ax[1].set_xlabel(\"Sample Means\",fontdict={'size':18,'family':'calibri','color':'coral','style':'oblique'})\n",
    "    ax[0].set_title(\"Distribution of Population Data\",fontdict={'size':16,'family':'calibri','color':'purple','style':'oblique'},\n",
    "             loc='center')\n",
    "    ax[1].set_title(\"Distribution of Sample Means\",fontdict={'size':16,'family':'calibri','color':'purple','style':'oblique'},\n",
    "             loc='center')\n",
    "    plt.show()"
   ]
  },
  {
   "cell_type": "code",
   "execution_count": 21,
   "metadata": {},
   "outputs": [
    {
     "data": {
      "image/png": "[encoded data removed]",
      "text/plain": [
       "<Figure size 864x432 with 2 Axes>"
      ]
     },
     "metadata": {
      "needs_background": "light"
     },
     "output_type": "display_data"
    }
   ],
   "source": [
    "with plt.style.context('seaborn-bright'):\n",
    "    fig,ax=plt.subplots(nrows=1,ncols=2,figsize=(12,6))\n",
    "    qqplot(data=np.array(pop_scores),line='q',ax=ax[0])   \n",
    "    qqplot(data=np.array(samp_distn_samp_means),line='q',ax=ax[1])    \n",
    "    ax[0].set_title(\"Population Scores\",fontdict={'size':18,'family':'calibri','color':'coral','style':'oblique'})\n",
    "    ax[1].set_title(\"Sample Means\",fontdict={'size':18,'family':'calibri','color':'coral','style':'oblique'})"
   ]
  },
  {
   "cell_type": "markdown",
   "metadata": {},
   "source": [
    "#### **That's the beauty of CLT; even if the population is non-normal but the sampling distribution is done with sample size > 30 then distribution of sample means will be close to normal.**\n",
    "\n",
    "- **This is quite evident in the above case.**"
   ]
  },
  {
   "cell_type": "code",
   "execution_count": 22,
   "metadata": {},
   "outputs": [],
   "source": [
    "clt_c1_mean = np.mean(samp_distn_samp_means)\n",
    "pop_mean= np.mean(pop_scores)\n",
    "clt_c1_stddev = np.std(samp_distn_samp_means)*np.sqrt(sample_size)\n",
    "pop_stddev = np.std(pop_scores)"
   ]
  },
  {
   "cell_type": "markdown",
   "metadata": {},
   "source": [
    "#### **Let's try the CLT with less sample size**"
   ]
  },
  {
   "cell_type": "markdown",
   "metadata": {},
   "source": [
    "#### **Small_Sample_Size**"
   ]
  },
  {
   "cell_type": "code",
   "execution_count": 23,
   "metadata": {},
   "outputs": [
    {
     "name": "stdout",
     "output_type": "stream",
     "text": [
      "Number of samples to be withdrawn 20000.0 and Samples Size 5\n"
     ]
    }
   ],
   "source": [
    "sample_size2 = 5\n",
    "number_of_samples2 = pop_scores.size/sample_size2\n",
    "print(\"Number of samples to be withdrawn {} and Samples Size {}\".format(number_of_samples2,sample_size2))"
   ]
  },
  {
   "cell_type": "code",
   "execution_count": 24,
   "metadata": {},
   "outputs": [],
   "source": [
    "samp_distn2, samp_distn_samp_means2 = clt(pop_scores, num_samples=number_of_samples2, samp_size=sample_size2)"
   ]
  },
  {
   "cell_type": "code",
   "execution_count": 25,
   "metadata": {},
   "outputs": [
    {
     "data": {
      "text/plain": [
       "(20000, 20000)"
      ]
     },
     "execution_count": 25,
     "metadata": {},
     "output_type": "execute_result"
    }
   ],
   "source": [
    "len(samp_distn2), len(samp_distn_samp_means2)"
   ]
  },
  {
   "cell_type": "code",
   "execution_count": 26,
   "metadata": {},
   "outputs": [
    {
     "data": {
      "text/plain": [
       "[array([ 9.77459789,  7.52488528, 51.03946338, 54.09055728, 43.62610905]),\n",
       " array([23.56108723, 23.64005921,  5.55045567, 16.22534037, 62.69130071]),\n",
       " array([18.39790481, 18.51982791, 83.33993255,  2.29671556,  6.69448429]),\n",
       " array([ 14.9598468 ,  13.76763453,   5.39245183, 134.13471829,\n",
       "         23.61834668]),\n",
       " array([114.31958131,  81.12293582,  79.43827566,  10.35784115,\n",
       "         14.92544111])]"
      ]
     },
     "execution_count": 26,
     "metadata": {},
     "output_type": "execute_result"
    }
   ],
   "source": [
    "samp_distn2[0:5]"
   ]
  },
  {
   "cell_type": "code",
   "execution_count": 27,
   "metadata": {},
   "outputs": [
    {
     "data": {
      "text/plain": [
       "[33.211122578433915,\n",
       " 26.333648639098648,\n",
       " 25.849773024994267,\n",
       " 38.37459962669683,\n",
       " 60.03281501028192]"
      ]
     },
     "execution_count": 27,
     "metadata": {},
     "output_type": "execute_result"
    }
   ],
   "source": [
    "samp_distn_samp_means2[0:5]"
   ]
  },
  {
   "cell_type": "code",
   "execution_count": 28,
   "metadata": {},
   "outputs": [
    {
     "data": {
      "image/png": "[encoded data removed]",
      "text/plain": [
       "<Figure size 1296x432 with 2 Axes>"
      ]
     },
     "metadata": {},
     "output_type": "display_data"
    }
   ],
   "source": [
    "with plt.style.context('seaborn'):\n",
    "    fig,ax=plt.subplots(nrows=1,ncols=2,figsize=(18,6))\n",
    "    sns.histplot(data=pop_scores,ax=ax[0],color='blue',kde=True)\n",
    "    sns.histplot(data=samp_distn_samp_means2,ax=ax[1],color='brown',kde=True)\n",
    "    ax[0].set_xlabel(\"Population\",fontdict={'size':18,'family':'calibri','color':'coral','style':'oblique'})\n",
    "    ax[1].set_xlabel(\"Sample Means\",fontdict={'size':18,'family':'calibri','color':'coral','style':'oblique'})\n",
    "    ax[0].set_title(\"Distribution of Population Data\",fontdict={'size':16,'family':'calibri','color':'purple','style':'oblique'},\n",
    "             loc='center')\n",
    "    ax[1].set_title(\"Distribution of Sample Means\",fontdict={'size':16,'family':'calibri','color':'purple','style':'oblique'},\n",
    "             loc='center')\n",
    "    plt.show()"
   ]
  },
  {
   "cell_type": "markdown",
   "metadata": {},
   "source": [
    "- **Here, the curve of sample means is much like a pareto distribution even after sampling distribution and it is due to smaller sample size.**"
   ]
  },
  {
   "cell_type": "code",
   "execution_count": 29,
   "metadata": {},
   "outputs": [
    {
     "data": {
      "image/png": "[encoded data removed]",
      "text/plain": [
       "<Figure size 864x432 with 2 Axes>"
      ]
     },
     "metadata": {
      "needs_background": "light"
     },
     "output_type": "display_data"
    }
   ],
   "source": [
    "with plt.style.context('seaborn-bright'):\n",
    "    fig,ax=plt.subplots(nrows=1,ncols=2,figsize=(12,6))\n",
    "    qqplot(data=np.array(pop_scores),line='q',ax=ax[0])   \n",
    "    qqplot(data=np.array(samp_distn_samp_means2),line='q',ax=ax[1])    \n",
    "    ax[0].set_title(\"Population Scores\",fontdict={'size':18,'family':'calibri','color':'coral','style':'oblique'})\n",
    "    ax[1].set_title(\"Sample Means\",fontdict={'size':18,'family':'calibri','color':'coral','style':'oblique'})"
   ]
  },
  {
   "cell_type": "markdown",
   "metadata": {},
   "source": [
    "- **So, clearly no where close to normal distribution. Some amount of betterment we can say that has happened but overall it is a non-normal.**"
   ]
  },
  {
   "cell_type": "code",
   "execution_count": 30,
   "metadata": {},
   "outputs": [],
   "source": [
    "clt_c2_mean = np.mean(samp_distn_samp_means2)\n",
    "clt_c2_stddev = np.std(samp_distn_samp_means2)*np.sqrt(sample_size2)"
   ]
  },
  {
   "cell_type": "code",
   "execution_count": 31,
   "metadata": {},
   "outputs": [
    {
     "name": "stdout",
     "output_type": "stream",
     "text": [
      "\u001b[32mLarger sample size differences Mean: 0.303 and Stddev: 1.343\n",
      "\u001b[0m\n",
      "\u001b[31mSmall sample size differences Mean: 0.031 and Stddev: 0.193\u001b[0m\n"
     ]
    }
   ],
   "source": [
    "# Calculating the differences of both the cases\n",
    "mean_diff_big_samp_size = np.abs(clt_c1_mean - pop_mean)\n",
    "mean_diff_small_samp_size = np.abs(clt_c2_mean - pop_mean)\n",
    "\n",
    "stddev_diff_big_samp_size = np.abs(clt_c1_stddev - pop_stddev)\n",
    "stddev_diff_small_samp_size = np.abs(clt_c2_stddev - pop_stddev)\n",
    "\n",
    "print(colored(\"Larger sample size differences Mean: {:.3f} and Stddev: {:.3f}\\n\".format(mean_diff_big_samp_size,stddev_diff_big_samp_size),\n",
    "                  \"green\"))\n",
    "print(colored(\"Small sample size differences Mean: {:.3f} and Stddev: {:.3f}\".format(mean_diff_small_samp_size,stddev_diff_small_samp_size),\n",
    "             \"red\"))"
   ]
  },
  {
   "cell_type": "markdown",
   "metadata": {},
   "source": [
    "### **CASE:III**\n",
    "#### **BOOTSTRAP_Simulation**"
   ]
  },
  {
   "cell_type": "code",
   "execution_count": 32,
   "metadata": {},
   "outputs": [],
   "source": [
    "bootsample_means = []\n",
    "for _ in range(10000):\n",
    "    bootsample = np.random.choice(a=sample1,size=50,replace=True)\n",
    "    bootsample_means.append(np.mean(bootsample))"
   ]
  },
  {
   "cell_type": "code",
   "execution_count": 33,
   "metadata": {},
   "outputs": [
    {
     "data": {
      "image/png": "[encoded data removed]",
      "text/plain": [
       "<Figure size 1296x432 with 3 Axes>"
      ]
     },
     "metadata": {},
     "output_type": "display_data"
    }
   ],
   "source": [
    "with plt.style.context('seaborn'):\n",
    "    fig,ax=plt.subplots(nrows=1,ncols=3,figsize=(18,6))\n",
    "    sns.histplot(pop_scores,ax=ax[0],color='blue',kde=True)\n",
    "    sns.histplot(sample1,ax=ax[1],color='brown',kde=True)\n",
    "    sns.histplot(bootsample_means,ax=ax[2],color='coral',kde=True)\n",
    "    ax[0].set_xlabel(\"Population\",fontdict={'size':18,'family':'calibri','color':'coral','style':'oblique'})\n",
    "    ax[1].set_xlabel(\"Parent Sample\",fontdict={'size':18,'family':'calibri','color':'coral','style':'oblique'})\n",
    "    ax[2].set_xlabel(\"Bootstrap Sample Means\",fontdict={'size':18,'family':'calibri','color':'coral','style':'oblique'})\n",
    "    ax[0].set_title(\"Distribution of Population Data\",fontdict={'size':16,'family':'calibri','color':'purple','style':'oblique'},\n",
    "             loc='center')\n",
    "    ax[1].set_title(\"Distribution of Parent Sample\",fontdict={'size':16,'family':'calibri','color':'purple','style':'oblique'},\n",
    "             loc='center')\n",
    "    ax[2].set_title(\"Distribution of Bootstrap Sample Means\",fontdict={'size':16,'family':'calibri','color':'purple','style':'oblique'},\n",
    "             loc='center')\n",
    "    plt.show()"
   ]
  },
  {
   "cell_type": "code",
   "execution_count": 34,
   "metadata": {},
   "outputs": [
    {
     "data": {
      "image/png": "[encoded data removed]",
      "text/plain": [
       "<Figure size 1296x432 with 3 Axes>"
      ]
     },
     "metadata": {
      "needs_background": "light"
     },
     "output_type": "display_data"
    }
   ],
   "source": [
    "with plt.style.context('seaborn-bright'):\n",
    "    fig,ax=plt.subplots(nrows=1,ncols=3,figsize=(18,6))\n",
    "    qqplot(data=np.array(pop_scores),line='q',ax=ax[0]);\n",
    "    ax[0].set_title('Population Scores')\n",
    "    \n",
    "    qqplot(data=np.array(sample1),line='q',ax=ax[1]);\n",
    "    ax[1].set_title('Parent Sample Scores')\n",
    "    \n",
    "    qqplot(data=np.array(bootsample_means),line='q',ax=ax[2]);\n",
    "    ax[2].set_title('Bootsamples means')"
   ]
  },
  {
   "cell_type": "markdown",
   "metadata": {},
   "source": [
    "### **Here, we saw that by using the computational power we can create a normally distributed data from a small size sample.**"
   ]
  },
  {
   "cell_type": "code",
   "execution_count": 35,
   "metadata": {},
   "outputs": [
    {
     "data": {
      "text/plain": [
       "29.032896252129774"
      ]
     },
     "execution_count": 35,
     "metadata": {},
     "output_type": "execute_result"
    }
   ],
   "source": [
    "## Mean of Bootsample means\n",
    "np.mean(bootsample_means)"
   ]
  },
  {
   "cell_type": "code",
   "execution_count": 36,
   "metadata": {},
   "outputs": [
    {
     "data": {
      "text/plain": [
       "4.617613058705242"
      ]
     },
     "execution_count": 36,
     "metadata": {},
     "output_type": "execute_result"
    }
   ],
   "source": [
    "## Std Dev of Bootsamples Means\n",
    "np.std(bootsample_means)"
   ]
  },
  {
   "cell_type": "code",
   "execution_count": 37,
   "metadata": {},
   "outputs": [
    {
     "data": {
      "text/plain": [
       "(33.06191014559588, 29.032896252129774)"
      ]
     },
     "execution_count": 37,
     "metadata": {},
     "output_type": "execute_result"
    }
   ],
   "source": [
    "## True Mean v/s Simulated Mean\n",
    "np.mean(pop_scores), np.mean(bootsample_means)"
   ]
  },
  {
   "cell_type": "code",
   "execution_count": 38,
   "metadata": {},
   "outputs": [
    {
     "data": {
      "text/plain": [
       "(6.7450406326199195, 4.617613058705242)"
      ]
     },
     "execution_count": 38,
     "metadata": {},
     "output_type": "execute_result"
    }
   ],
   "source": [
    "## Theoretical Error v/s Simulated Std Error\n",
    "np.std(pop_scores)/np.sqrt(40), np.std(bootsample_means)"
   ]
  },
  {
   "cell_type": "markdown",
   "metadata": {},
   "source": [
    "### **P-value**"
   ]
  },
  {
   "cell_type": "code",
   "execution_count": 39,
   "metadata": {},
   "outputs": [
    {
     "data": {
      "text/plain": [
       "0.4774"
      ]
     },
     "execution_count": 39,
     "metadata": {},
     "output_type": "execute_result"
    }
   ],
   "source": [
    "len(list(filter(lambda val : val > np.mean(sample1), bootsample_means)))/10000"
   ]
  },
  {
   "cell_type": "markdown",
   "metadata": {},
   "source": [
    "### **This means that 48% of the times the value of Simulated Sample mean is greater than the parent sample mean.**"
   ]
  },
  {
   "cell_type": "markdown",
   "metadata": {},
   "source": [
    "#### **Forming the confidence intervals**"
   ]
  },
  {
   "cell_type": "code",
   "execution_count": 40,
   "metadata": {},
   "outputs": [],
   "source": [
    "loc = 0.95\n",
    "alpha_lower = np.round(((1-loc)/2.0)*100,2)\n",
    "lower = np.percentile(bootsample_means,alpha_lower)"
   ]
  },
  {
   "cell_type": "code",
   "execution_count": 41,
   "metadata": {},
   "outputs": [],
   "source": [
    "alpha_upper = np.round((loc+(alpha_lower)/100)*100,2)\n",
    "upper = np.percentile(bootsample_means,alpha_upper)"
   ]
  },
  {
   "cell_type": "code",
   "execution_count": 42,
   "metadata": {},
   "outputs": [
    {
     "name": "stdout",
     "output_type": "stream",
     "text": [
      "2.5 97.5\n"
     ]
    }
   ],
   "source": [
    "print(alpha_lower,alpha_upper)"
   ]
  },
  {
   "cell_type": "code",
   "execution_count": 43,
   "metadata": {},
   "outputs": [
    {
     "name": "stdout",
     "output_type": "stream",
     "text": [
      "Confidence interval is (20.59,38.706)\n"
     ]
    }
   ],
   "source": [
    "print(\"Confidence interval is ({},{})\".format(np.round(lower,3),np.round(upper,3)))"
   ]
  },
  {
   "cell_type": "markdown",
   "metadata": {},
   "source": [
    "#### **Above is the percentile-method of finding the confidence intervals based on the value of loc(level of confidence) or alpha.**\n",
    "\n",
    "#### **Below method to construct the C.I. is using Z-score table also referred as normal method.**"
   ]
  },
  {
   "cell_type": "code",
   "execution_count": 44,
   "metadata": {},
   "outputs": [
    {
     "name": "stdout",
     "output_type": "stream",
     "text": [
      "Confidence interval is (21.476,36.59)\n"
     ]
    }
   ],
   "source": [
    "bt_moe = scipy.stats.norm.ppf(0.95) * (np.std(bootsample)/np.sqrt(50))\n",
    "\n",
    "print(\"Confidence interval is ({},{})\".format(np.round(np.mean(bootsample_means) - bt_moe,3), \n",
    "                                              np.round(np.mean(bootsample_means) + bt_moe,3)))"
   ]
  },
  {
   "cell_type": "markdown",
   "metadata": {},
   "source": [
    "### **``In the next section, we will work on statistically comparing different models trained for one problem using Bootstrapping. For this, we can also perform the ANOVA analysis by capturing their performance scores. Then, use pair-wise comparison.``**\n",
    "\n",
    "### **``Similarly, we can also evaluate the best model performance on different metrics using Bootstrapping.``**\n",
    "\n",
    "#### Refer video:\n",
    "- https://www.youtube.com/watch?v=JmBwrYvKdtg\n",
    "- https://analyticsindiamag.com/hands-on-guide-to-bootstrap-sampling-for-ml-performance-evaluation/\n",
    "- https://machinelearningmastery.com/statistical-significance-tests-for-comparing-machine-learning-algorithms/"
   ]
  },
  {
   "cell_type": "markdown",
   "metadata": {},
   "source": [
    "#### **Models_Comparison**"
   ]
  },
  {
   "cell_type": "code",
   "execution_count": 45,
   "metadata": {},
   "outputs": [],
   "source": [
    "from sklearn import datasets"
   ]
  },
  {
   "cell_type": "code",
   "execution_count": 86,
   "metadata": {},
   "outputs": [
    {
     "name": "stdout",
     "output_type": "stream",
     "text": [
      ".. _breast_cancer_dataset:\n",
      "\n",
      "Breast cancer wisconsin (diagnostic) dataset\n",
      "--------------------------------------------\n",
      "\n",
      "**Data Set Characteristics:**\n",
      "\n",
      "    :Number of Instances: 569\n",
      "\n",
      "    :Number of Attributes: 30 numeric, predictive attributes and the class\n",
      "\n",
      "    :Attribute Information:\n",
      "        - radius (mean of distances from center to points on the perimeter)\n",
      "        - texture (standard deviation of gray-scale values)\n",
      "        - perimeter\n",
      "        - area\n",
      "        - smoothness (local variation in radius lengths)\n",
      "        - compactness (perimeter^2 / area - 1.0)\n",
      "        - concavity (severity of concave portions of the contour)\n",
      "        - concave points (number of concave portions of the contour)\n",
      "        - symmetry\n",
      "        - fractal dimension (\"coastline approximation\" - 1)\n",
      "\n",
      "        The mean, standard error, and \"worst\" or largest (mean of the three\n",
      "        worst/largest values) of these features were computed for each image,\n",
      "        resulting in 30 features.  For instance, field 0 is Mean Radius, field\n",
      "        10 is Radius SE, field 20 is Worst Radius.\n",
      "\n",
      "        - class:\n",
      "                - WDBC-Malignant\n",
      "                - WDBC-Benign\n",
      "\n",
      "    :Summary Statistics:\n",
      "\n",
      "    ===================================== ====== ======\n",
      "                                           Min    Max\n",
      "    ===================================== ====== ======\n",
      "    radius (mean):                        6.981  28.11\n",
      "    texture (mean):                       9.71   39.28\n",
      "    perimeter (mean):                     43.79  188.5\n",
      "    area (mean):                          143.5  2501.0\n",
      "    smoothness (mean):                    0.053  0.163\n",
      "    compactness (mean):                   0.019  0.345\n",
      "    concavity (mean):                     0.0    0.427\n",
      "    concave points (mean):                0.0    0.201\n",
      "    symmetry (mean):                      0.106  0.304\n",
      "    fractal dimension (mean):             0.05   0.097\n",
      "    radius (standard error):              0.112  2.873\n",
      "    texture (standard error):             0.36   4.885\n",
      "    perimeter (standard error):           0.757  21.98\n",
      "    area (standard error):                6.802  542.2\n",
      "    smoothness (standard error):          0.002  0.031\n",
      "    compactness (standard error):         0.002  0.135\n",
      "    concavity (standard error):           0.0    0.396\n",
      "    concave points (standard error):      0.0    0.053\n",
      "    symmetry (standard error):            0.008  0.079\n",
      "    fractal dimension (standard error):   0.001  0.03\n",
      "    radius (worst):                       7.93   36.04\n",
      "    texture (worst):                      12.02  49.54\n",
      "    perimeter (worst):                    50.41  251.2\n",
      "    area (worst):                         185.2  4254.0\n",
      "    smoothness (worst):                   0.071  0.223\n",
      "    compactness (worst):                  0.027  1.058\n",
      "    concavity (worst):                    0.0    1.252\n",
      "    concave points (worst):               0.0    0.291\n",
      "    symmetry (worst):                     0.156  0.664\n",
      "    fractal dimension (worst):            0.055  0.208\n",
      "    ===================================== ====== ======\n",
      "\n",
      "    :Missing Attribute Values: None\n",
      "\n",
      "    :Class Distribution: 212 - Malignant, 357 - Benign\n",
      "\n",
      "    :Creator:  Dr. William H. Wolberg, W. Nick Street, Olvi L. Mangasarian\n",
      "\n",
      "    :Donor: Nick Street\n",
      "\n",
      "    :Date: November, 1995\n",
      "\n",
      "This is a copy of UCI ML Breast Cancer Wisconsin (Diagnostic) datasets.\n",
      "https://goo.gl/U2Uwz2\n",
      "\n",
      "Features are computed from a digitized image of a fine needle\n",
      "aspirate (FNA) of a breast mass.  They describe\n",
      "characteristics of the cell nuclei present in the image.\n",
      "\n",
      "Separating plane described above was obtained using\n",
      "Multisurface Method-Tree (MSM-T) [K. P. Bennett, \"Decision Tree\n",
      "Construction Via Linear Programming.\" Proceedings of the 4th\n",
      "Midwest Artificial Intelligence and Cognitive Science Society,\n",
      "pp. 97-101, 1992], a classification method which uses linear\n",
      "programming to construct a decision tree.  Relevant features\n",
      "were selected using an exhaustive search in the space of 1-4\n",
      "features and 1-3 separating planes.\n",
      "\n",
      "The actual linear program used to obtain the separating plane\n",
      "in the 3-dimensional space is that described in:\n",
      "[K. P. Bennett and O. L. Mangasarian: \"Robust Linear\n",
      "Programming Discrimination of Two Linearly Inseparable Sets\",\n",
      "Optimization Methods and Software 1, 1992, 23-34].\n",
      "\n",
      "This database is also available through the UW CS ftp server:\n",
      "\n",
      "ftp ftp.cs.wisc.edu\n",
      "cd math-prog/cpo-dataset/machine-learn/WDBC/\n",
      "\n",
      ".. topic:: References\n",
      "\n",
      "   - W.N. Street, W.H. Wolberg and O.L. Mangasarian. Nuclear feature extraction \n",
      "     for breast tumor diagnosis. IS&T/SPIE 1993 International Symposium on \n",
      "     Electronic Imaging: Science and Technology, volume 1905, pages 861-870,\n",
      "     San Jose, CA, 1993.\n",
      "   - O.L. Mangasarian, W.N. Street and W.H. Wolberg. Breast cancer diagnosis and \n",
      "     prognosis via linear programming. Operations Research, 43(4), pages 570-577, \n",
      "     July-August 1995.\n",
      "   - W.H. Wolberg, W.N. Street, and O.L. Mangasarian. Machine learning techniques\n",
      "     to diagnose breast cancer from fine-needle aspirates. Cancer Letters 77 (1994) \n",
      "     163-171.\n"
     ]
    }
   ],
   "source": [
    "b_cancer = datasets.load_breast_cancer()\n",
    "print(datasets.load_breast_cancer().DESCR)"
   ]
  },
  {
   "cell_type": "code",
   "execution_count": 87,
   "metadata": {},
   "outputs": [],
   "source": [
    "b_cancer_df = pd.concat([pd.DataFrame(b_cancer.data,columns=b_cancer.feature_names),\n",
    "                     pd.DataFrame(b_cancer.target,columns=['Label'])],axis=1)"
   ]
  },
  {
   "cell_type": "code",
   "execution_count": 88,
   "metadata": {},
   "outputs": [
    {
     "data": {
      "text/html": [
       "<div>\n",
       "<style scoped>\n",
       "    .dataframe tbody tr th:only-of-type {\n",
       "        vertical-align: middle;\n",
       "    }\n",
       "\n",
       "    .dataframe tbody tr th {\n",
       "        vertical-align: top;\n",
       "    }\n",
       "\n",
       "    .dataframe thead th {\n",
       "        text-align: right;\n",
       "    }\n",
       "</style>\n",
       "<table border=\"1\" class=\"dataframe\">\n",
       "  <thead>\n",
       "    <tr style=\"text-align: right;\">\n",
       "      <th></th>\n",
       "      <th>mean radius</th>\n",
       "      <th>mean texture</th>\n",
       "      <th>mean perimeter</th>\n",
       "      <th>mean area</th>\n",
       "      <th>mean smoothness</th>\n",
       "      <th>mean compactness</th>\n",
       "      <th>mean concavity</th>\n",
       "      <th>mean concave points</th>\n",
       "      <th>mean symmetry</th>\n",
       "      <th>mean fractal dimension</th>\n",
       "      <th>...</th>\n",
       "      <th>worst texture</th>\n",
       "      <th>worst perimeter</th>\n",
       "      <th>worst area</th>\n",
       "      <th>worst smoothness</th>\n",
       "      <th>worst compactness</th>\n",
       "      <th>worst concavity</th>\n",
       "      <th>worst concave points</th>\n",
       "      <th>worst symmetry</th>\n",
       "      <th>worst fractal dimension</th>\n",
       "      <th>Label</th>\n",
       "    </tr>\n",
       "  </thead>\n",
       "  <tbody>\n",
       "    <tr>\n",
       "      <th>0</th>\n",
       "      <td>17.99</td>\n",
       "      <td>10.38</td>\n",
       "      <td>122.80</td>\n",
       "      <td>1001.0</td>\n",
       "      <td>0.11840</td>\n",
       "      <td>0.27760</td>\n",
       "      <td>0.3001</td>\n",
       "      <td>0.14710</td>\n",
       "      <td>0.2419</td>\n",
       "      <td>0.07871</td>\n",
       "      <td>...</td>\n",
       "      <td>17.33</td>\n",
       "      <td>184.60</td>\n",
       "      <td>2019.0</td>\n",
       "      <td>0.1622</td>\n",
       "      <td>0.6656</td>\n",
       "      <td>0.7119</td>\n",
       "      <td>0.2654</td>\n",
       "      <td>0.4601</td>\n",
       "      <td>0.11890</td>\n",
       "      <td>0</td>\n",
       "    </tr>\n",
       "    <tr>\n",
       "      <th>1</th>\n",
       "      <td>20.57</td>\n",
       "      <td>17.77</td>\n",
       "      <td>132.90</td>\n",
       "      <td>1326.0</td>\n",
       "      <td>0.08474</td>\n",
       "      <td>0.07864</td>\n",
       "      <td>0.0869</td>\n",
       "      <td>0.07017</td>\n",
       "      <td>0.1812</td>\n",
       "      <td>0.05667</td>\n",
       "      <td>...</td>\n",
       "      <td>23.41</td>\n",
       "      <td>158.80</td>\n",
       "      <td>1956.0</td>\n",
       "      <td>0.1238</td>\n",
       "      <td>0.1866</td>\n",
       "      <td>0.2416</td>\n",
       "      <td>0.1860</td>\n",
       "      <td>0.2750</td>\n",
       "      <td>0.08902</td>\n",
       "      <td>0</td>\n",
       "    </tr>\n",
       "    <tr>\n",
       "      <th>2</th>\n",
       "      <td>19.69</td>\n",
       "      <td>21.25</td>\n",
       "      <td>130.00</td>\n",
       "      <td>1203.0</td>\n",
       "      <td>0.10960</td>\n",
       "      <td>0.15990</td>\n",
       "      <td>0.1974</td>\n",
       "      <td>0.12790</td>\n",
       "      <td>0.2069</td>\n",
       "      <td>0.05999</td>\n",
       "      <td>...</td>\n",
       "      <td>25.53</td>\n",
       "      <td>152.50</td>\n",
       "      <td>1709.0</td>\n",
       "      <td>0.1444</td>\n",
       "      <td>0.4245</td>\n",
       "      <td>0.4504</td>\n",
       "      <td>0.2430</td>\n",
       "      <td>0.3613</td>\n",
       "      <td>0.08758</td>\n",
       "      <td>0</td>\n",
       "    </tr>\n",
       "    <tr>\n",
       "      <th>3</th>\n",
       "      <td>11.42</td>\n",
       "      <td>20.38</td>\n",
       "      <td>77.58</td>\n",
       "      <td>386.1</td>\n",
       "      <td>0.14250</td>\n",
       "      <td>0.28390</td>\n",
       "      <td>0.2414</td>\n",
       "      <td>0.10520</td>\n",
       "      <td>0.2597</td>\n",
       "      <td>0.09744</td>\n",
       "      <td>...</td>\n",
       "      <td>26.50</td>\n",
       "      <td>98.87</td>\n",
       "      <td>567.7</td>\n",
       "      <td>0.2098</td>\n",
       "      <td>0.8663</td>\n",
       "      <td>0.6869</td>\n",
       "      <td>0.2575</td>\n",
       "      <td>0.6638</td>\n",
       "      <td>0.17300</td>\n",
       "      <td>0</td>\n",
       "    </tr>\n",
       "    <tr>\n",
       "      <th>4</th>\n",
       "      <td>20.29</td>\n",
       "      <td>14.34</td>\n",
       "      <td>135.10</td>\n",
       "      <td>1297.0</td>\n",
       "      <td>0.10030</td>\n",
       "      <td>0.13280</td>\n",
       "      <td>0.1980</td>\n",
       "      <td>0.10430</td>\n",
       "      <td>0.1809</td>\n",
       "      <td>0.05883</td>\n",
       "      <td>...</td>\n",
       "      <td>16.67</td>\n",
       "      <td>152.20</td>\n",
       "      <td>1575.0</td>\n",
       "      <td>0.1374</td>\n",
       "      <td>0.2050</td>\n",
       "      <td>0.4000</td>\n",
       "      <td>0.1625</td>\n",
       "      <td>0.2364</td>\n",
       "      <td>0.07678</td>\n",
       "      <td>0</td>\n",
       "    </tr>\n",
       "  </tbody>\n",
       "</table>\n",
       "<p>5 rows × 31 columns</p>\n",
       "</div>"
      ],
      "text/plain": [
       "   mean radius  mean texture  mean perimeter  mean area  mean smoothness  \\\n",
       "0        17.99         10.38          122.80     1001.0          0.11840   \n",
       "1        20.57         17.77          132.90     1326.0          0.08474   \n",
       "2        19.69         21.25          130.00     1203.0          0.10960   \n",
       "3        11.42         20.38           77.58      386.1          0.14250   \n",
       "4        20.29         14.34          135.10     1297.0          0.10030   \n",
       "\n",
       "   mean compactness  mean concavity  mean concave points  mean symmetry  \\\n",
       "0           0.27760          0.3001              0.14710         0.2419   \n",
       "1           0.07864          0.0869              0.07017         0.1812   \n",
       "2           0.15990          0.1974              0.12790         0.2069   \n",
       "3           0.28390          0.2414              0.10520         0.2597   \n",
       "4           0.13280          0.1980              0.10430         0.1809   \n",
       "\n",
       "   mean fractal dimension  ...  worst texture  worst perimeter  worst area  \\\n",
       "0                 0.07871  ...          17.33           184.60      2019.0   \n",
       "1                 0.05667  ...          23.41           158.80      1956.0   \n",
       "2                 0.05999  ...          25.53           152.50      1709.0   \n",
       "3                 0.09744  ...          26.50            98.87       567.7   \n",
       "4                 0.05883  ...          16.67           152.20      1575.0   \n",
       "\n",
       "   worst smoothness  worst compactness  worst concavity  worst concave points  \\\n",
       "0            0.1622             0.6656           0.7119                0.2654   \n",
       "1            0.1238             0.1866           0.2416                0.1860   \n",
       "2            0.1444             0.4245           0.4504                0.2430   \n",
       "3            0.2098             0.8663           0.6869                0.2575   \n",
       "4            0.1374             0.2050           0.4000                0.1625   \n",
       "\n",
       "   worst symmetry  worst fractal dimension  Label  \n",
       "0          0.4601                  0.11890      0  \n",
       "1          0.2750                  0.08902      0  \n",
       "2          0.3613                  0.08758      0  \n",
       "3          0.6638                  0.17300      0  \n",
       "4          0.2364                  0.07678      0  \n",
       "\n",
       "[5 rows x 31 columns]"
      ]
     },
     "execution_count": 88,
     "metadata": {},
     "output_type": "execute_result"
    }
   ],
   "source": [
    "b_cancer_df.head()"
   ]
  },
  {
   "cell_type": "code",
   "execution_count": 89,
   "metadata": {},
   "outputs": [
    {
     "data": {
      "text/plain": [
       "1    357\n",
       "0    212\n",
       "Name: Label, dtype: int64"
      ]
     },
     "execution_count": 89,
     "metadata": {},
     "output_type": "execute_result"
    }
   ],
   "source": [
    "b_cancer_df['Label'].value_counts()"
   ]
  },
  {
   "cell_type": "markdown",
   "metadata": {},
   "source": [
    "- **Usually, bootstrapping for evaluating the model performance is used at the end of machine learning analysis with an aim to quantify**\n",
    "    - Statistically the performance of the classifier over a range of metrics. And,\n",
    "    - How the model is behaving with the change in dataset?\n",
    "\n",
    "- This means that I've already selected the best model.\n",
    "\n",
    "- Let's assume that model is Random Forest Classifier. Now, I'll create different test datasets using Bootstrapping and fed in to RF to generate an array of the performance metric(or range of metrics) on simulated test data samples.\n",
    "\n",
    "- The cool thing with this method is that we can compare the best classifier trained on different feature but with a same classification problem and compare them statistically.\n",
    "\n",
    "### **The bootstrap confidence interval are the go to tools for POST ML Analysis.**"
   ]
  },
  {
   "cell_type": "code",
   "execution_count": 50,
   "metadata": {},
   "outputs": [],
   "source": [
    "from sklearn.preprocessing import StandardScaler\n",
    "from sklearn.model_selection import train_test_split as tts\n",
    "from sklearn.ensemble import RandomForestClassifier as RFC\n",
    "from sklearn import pipeline"
   ]
  },
  {
   "cell_type": "code",
   "execution_count": 90,
   "metadata": {},
   "outputs": [],
   "source": [
    "X = b_cancer_df.iloc[:,0:-1]\n",
    "y = b_cancer_df['Label']"
   ]
  },
  {
   "cell_type": "code",
   "execution_count": 91,
   "metadata": {},
   "outputs": [
    {
     "data": {
      "text/plain": [
       "(569, 30)"
      ]
     },
     "execution_count": 91,
     "metadata": {},
     "output_type": "execute_result"
    }
   ],
   "source": [
    "X.shape"
   ]
  },
  {
   "cell_type": "code",
   "execution_count": 96,
   "metadata": {},
   "outputs": [],
   "source": [
    "X_train, X_test, y_train, y_test = tts(X, y, test_size=0.40, random_state=41)"
   ]
  },
  {
   "cell_type": "code",
   "execution_count": 97,
   "metadata": {},
   "outputs": [
    {
     "data": {
      "text/plain": [
       "((341, 30), (228, 30), (341,), (228,))"
      ]
     },
     "execution_count": 97,
     "metadata": {},
     "output_type": "execute_result"
    }
   ],
   "source": [
    "X_train.shape, X_test.shape, y_train.shape, y_test.shape"
   ]
  },
  {
   "cell_type": "code",
   "execution_count": 98,
   "metadata": {},
   "outputs": [
    {
     "data": {
      "text/plain": [
       "Pipeline(steps=[('standardscaler', StandardScaler()),\n",
       "                ('randomforestclassifier', RandomForestClassifier())])"
      ]
     },
     "execution_count": 98,
     "metadata": {},
     "output_type": "execute_result"
    }
   ],
   "source": [
    "p = pipeline.make_pipeline(StandardScaler(), RFC())\n",
    "p"
   ]
  },
  {
   "cell_type": "code",
   "execution_count": 99,
   "metadata": {},
   "outputs": [
    {
     "data": {
      "text/plain": [
       "Pipeline(steps=[('standardscaler', StandardScaler()),\n",
       "                ('randomforestclassifier', RandomForestClassifier())])"
      ]
     },
     "execution_count": 99,
     "metadata": {},
     "output_type": "execute_result"
    }
   ],
   "source": [
    "p.fit(X=X_train,y=y_train)"
   ]
  },
  {
   "cell_type": "code",
   "execution_count": 100,
   "metadata": {},
   "outputs": [],
   "source": [
    "X_train = StandardScaler().fit_transform(X=X_train)"
   ]
  },
  {
   "cell_type": "markdown",
   "metadata": {},
   "source": [
    "#### **Model-1**\n",
    "- **RFC**"
   ]
  },
  {
   "cell_type": "code",
   "execution_count": 101,
   "metadata": {},
   "outputs": [],
   "source": [
    "rfc = RFC()"
   ]
  },
  {
   "cell_type": "code",
   "execution_count": 102,
   "metadata": {},
   "outputs": [],
   "source": [
    "rfc_model = rfc.fit(X_train,y_train)"
   ]
  },
  {
   "cell_type": "code",
   "execution_count": 103,
   "metadata": {},
   "outputs": [
    {
     "data": {
      "text/plain": [
       "array([0, 0, 0, 0, 0, 0, 0, 0, 0, 0, 0, 0, 0, 0, 0, 0, 0, 0, 0, 0, 0, 0,\n",
       "       0, 0, 0, 0, 0, 0, 0, 0, 0, 0, 0, 0, 0, 0, 0, 0, 0, 0, 0, 0, 0, 0,\n",
       "       0, 0, 0, 0, 0, 0, 0, 0, 0, 0, 0, 0, 0, 0, 0, 0, 0, 0, 0, 0, 0, 0,\n",
       "       0, 0, 0, 0, 0, 0, 0, 0, 0, 0, 0, 0, 0, 0, 0, 0, 0, 0, 0, 0, 0, 0,\n",
       "       0, 0, 0, 0, 0, 0, 0, 0, 0, 0, 0, 0, 0, 0, 0, 0, 0, 0, 0, 0, 0, 0,\n",
       "       0, 0, 0, 0, 0, 0, 0, 0, 0, 0, 0, 0, 0, 0, 0, 0, 0, 0, 0, 0, 0, 0,\n",
       "       0, 0, 0, 0, 0, 0, 0, 0, 0, 0, 0, 0, 0, 0, 0, 0, 0, 0, 0, 0, 0, 0,\n",
       "       0, 0, 0, 0, 0, 0, 0, 0, 0, 0, 0, 0, 0, 0, 0, 0, 0, 0, 0, 0, 0, 0,\n",
       "       0, 0, 0, 0, 0, 0, 0, 0, 0, 0, 0, 0, 0, 0, 0, 0, 0, 0, 0, 0, 0, 0,\n",
       "       0, 0, 0, 0, 0, 0, 0, 0, 0, 0, 0, 0, 0, 0, 0, 0, 0, 0, 0, 0, 0, 0,\n",
       "       0, 0, 0, 0, 0, 0, 0, 0])"
      ]
     },
     "execution_count": 103,
     "metadata": {},
     "output_type": "execute_result"
    }
   ],
   "source": [
    "rfc_model.predict(X_test)"
   ]
  },
  {
   "cell_type": "code",
   "execution_count": 104,
   "metadata": {},
   "outputs": [
    {
     "data": {
      "text/plain": [
       "array([1, 1, 1, 1, 1, 1, 0, 0, 0, 1, 0, 0, 0, 1, 1, 1, 1, 1, 1, 1, 0, 1,\n",
       "       1, 1, 1, 1, 1, 1, 1, 1, 0, 1, 1, 1, 1, 1, 0, 1, 0, 1, 1, 0, 1, 0,\n",
       "       1, 1, 1, 1, 1, 0, 1, 1, 1, 0, 1, 1, 1, 1, 1, 1, 1, 1, 0, 0, 1, 1,\n",
       "       0, 0, 0, 1, 0, 0, 1, 1, 0, 1, 0, 0, 1, 1, 1, 0, 1, 0, 0, 1, 0, 1,\n",
       "       0, 1, 0, 1, 1, 0, 0, 0, 0, 1, 0, 1, 0, 0, 0, 1, 1, 0, 1, 1, 0, 1,\n",
       "       1, 1, 1, 1, 1, 1, 1, 1, 0, 1, 0, 1, 1, 0, 1, 1, 1, 1, 0, 1, 0, 0,\n",
       "       1, 1, 0, 0, 0, 0, 0, 0, 0, 1, 1, 0, 1, 1, 1, 0, 1, 1, 0, 0, 1, 1,\n",
       "       1, 1, 1, 1, 1, 1, 0, 1, 1, 1, 1, 0, 0, 1, 0, 1, 1, 1, 0, 0, 1, 0,\n",
       "       1, 0, 1, 1, 0, 0, 0, 0, 0, 1, 1, 1, 1, 0, 0, 0, 1, 0, 0, 0, 1, 1,\n",
       "       0, 0, 0, 0, 1, 0, 1, 0, 0, 0, 0, 0, 1, 1, 1, 1, 0, 1, 1, 0, 1, 1,\n",
       "       0, 1, 0, 1, 1, 1, 0, 0])"
      ]
     },
     "execution_count": 104,
     "metadata": {},
     "output_type": "execute_result"
    }
   ],
   "source": [
    "np.array(y_test)"
   ]
  },
  {
   "cell_type": "code",
   "execution_count": 105,
   "metadata": {},
   "outputs": [],
   "source": [
    "from sklearn.utils import resample\n",
    "from sklearn.metrics import accuracy_score as acc_scr"
   ]
  },
  {
   "cell_type": "code",
   "execution_count": 106,
   "metadata": {},
   "outputs": [
    {
     "data": {
      "text/plain": [
       "0.40350877192982454"
      ]
     },
     "execution_count": 106,
     "metadata": {},
     "output_type": "execute_result"
    }
   ],
   "source": [
    "X_test_score = acc_scr(y_test,rfc_model.predict(X_test))\n",
    "X_test_score"
   ]
  },
  {
   "cell_type": "code",
   "execution_count": 107,
   "metadata": {},
   "outputs": [],
   "source": [
    "bt_tst_smpl_acc = []\n",
    "for _ in range(6000):\n",
    "    boot_testsample = resample(pd.concat([X_test,y_test],axis=1).values,n_samples=50)\n",
    "    mod_pred = rfc_model.predict(boot_testsample[:,:-1])\n",
    "    score = acc_scr(boot_testsample[:,-1],mod_pred)\n",
    "    bt_tst_smpl_acc.append(score)"
   ]
  },
  {
   "cell_type": "code",
   "execution_count": 108,
   "metadata": {},
   "outputs": [
    {
     "data": {
      "image/png": "[encoded data removed]",
      "text/plain": [
       "<Figure size 432x288 with 1 Axes>"
      ]
     },
     "metadata": {
      "needs_background": "light"
     },
     "output_type": "display_data"
    }
   ],
   "source": [
    "sns.histplot(data=bt_tst_smpl_acc,kde=True,color='coral');"
   ]
  },
  {
   "cell_type": "code",
   "execution_count": 109,
   "metadata": {},
   "outputs": [
    {
     "data": {
      "image/png": "[encoded data removed]",
      "text/plain": [
       "<Figure size 432x288 with 1 Axes>"
      ]
     },
     "metadata": {
      "needs_background": "light"
     },
     "output_type": "display_data"
    }
   ],
   "source": [
    "qqplot(np.array(bt_tst_smpl_acc),line='q');"
   ]
  },
  {
   "cell_type": "code",
   "execution_count": 110,
   "metadata": {},
   "outputs": [
    {
     "data": {
      "text/plain": [
       "0.4028366666666667"
      ]
     },
     "execution_count": 110,
     "metadata": {},
     "output_type": "execute_result"
    }
   ],
   "source": [
    "np.mean(bt_tst_smpl_acc)"
   ]
  },
  {
   "cell_type": "markdown",
   "metadata": {},
   "source": [
    "### **P-value**"
   ]
  },
  {
   "cell_type": "code",
   "execution_count": 111,
   "metadata": {},
   "outputs": [
    {
     "data": {
      "text/plain": [
       "0.548"
      ]
     },
     "execution_count": 111,
     "metadata": {},
     "output_type": "execute_result"
    }
   ],
   "source": [
    "len(list(filter(lambda val : val > X_test_score, bt_tst_smpl_acc)))/5000"
   ]
  },
  {
   "cell_type": "markdown",
   "metadata": {},
   "source": [
    "#### **This means that 54% of the times the value of Simulated Sample mean is greater than the parent sample mean.**"
   ]
  },
  {
   "cell_type": "markdown",
   "metadata": {},
   "source": [
    "#### **Forming the confidence intervals**"
   ]
  },
  {
   "cell_type": "code",
   "execution_count": 112,
   "metadata": {},
   "outputs": [],
   "source": [
    "loc = 0.95\n",
    "alpha_lower = np.round(((1-loc)/2.0)*100,2)\n",
    "lower = np.percentile(bt_tst_smpl_acc,alpha_lower)"
   ]
  },
  {
   "cell_type": "code",
   "execution_count": 113,
   "metadata": {},
   "outputs": [],
   "source": [
    "alpha_upper = np.round((loc+(alpha_lower)/100)*100,2)\n",
    "upper = np.percentile(bt_tst_smpl_acc,alpha_upper)"
   ]
  },
  {
   "cell_type": "code",
   "execution_count": 114,
   "metadata": {},
   "outputs": [
    {
     "name": "stdout",
     "output_type": "stream",
     "text": [
      "2.5 97.5\n"
     ]
    }
   ],
   "source": [
    "print(alpha_lower,alpha_upper)"
   ]
  },
  {
   "cell_type": "code",
   "execution_count": 115,
   "metadata": {},
   "outputs": [
    {
     "name": "stdout",
     "output_type": "stream",
     "text": [
      "Confidence interval is (0.28,0.54)\n"
     ]
    }
   ],
   "source": [
    "print(\"Confidence interval is ({},{})\".format(np.round(lower,3),np.round(upper,3)))"
   ]
  },
  {
   "cell_type": "markdown",
   "metadata": {},
   "source": [
    "#### This means that we are 95% confident that RFC accuracy will fall between 28% to 54%."
   ]
  },
  {
   "cell_type": "markdown",
   "metadata": {},
   "source": [
    "#### **Above is the percentile-method of finding the confidence intervals based on the value of loc(level of confidence) or alpha.**\n",
    "\n",
    "#### **Below method to construct the C.I. is using Z-score table also referred as normal method.**"
   ]
  },
  {
   "cell_type": "code",
   "execution_count": 116,
   "metadata": {},
   "outputs": [
    {
     "name": "stdout",
     "output_type": "stream",
     "text": [
      "Confidence interval is (0.387,0.419)\n"
     ]
    }
   ],
   "source": [
    "bt_moe = scipy.stats.norm.ppf(0.95) * (np.std(bt_tst_smpl_acc)/np.sqrt(50))\n",
    "\n",
    "print(\"Confidence interval is ({},{})\".format(np.round(np.mean(bt_tst_smpl_acc) - bt_moe,3), \n",
    "                                              np.round(np.mean(bt_tst_smpl_acc) + bt_moe,3)))"
   ]
  },
  {
   "cell_type": "markdown",
   "metadata": {},
   "source": [
    "#### This means that we are 95% confident that RFC accuracy will fall between 38% to 42% using normal method."
   ]
  },
  {
   "cell_type": "markdown",
   "metadata": {},
   "source": [
    "#### **Model-2**\n",
    "- **KNN**"
   ]
  },
  {
   "cell_type": "code",
   "execution_count": 117,
   "metadata": {},
   "outputs": [],
   "source": [
    "from sklearn.neighbors import KNeighborsClassifier as KNN\n",
    "knn = KNN()\n",
    "knn_model = knn.fit(X_train,y_train)"
   ]
  },
  {
   "cell_type": "code",
   "execution_count": 118,
   "metadata": {},
   "outputs": [],
   "source": [
    "bt_tst_smpl_acc2 = []\n",
    "for _ in range(6000):\n",
    "    boot_testsample = resample(pd.concat([X_test,y_test],axis=1).values,n_samples=50)\n",
    "    mod2_pred = knn_model.predict(boot_testsample[:,:-1])\n",
    "    score = acc_scr(boot_testsample[:,-1],mod2_pred)\n",
    "    bt_tst_smpl_acc2.append(score)"
   ]
  },
  {
   "cell_type": "code",
   "execution_count": 119,
   "metadata": {},
   "outputs": [
    {
     "data": {
      "image/png": "[encoded data removed]",
      "text/plain": [
       "<Figure size 432x288 with 1 Axes>"
      ]
     },
     "metadata": {
      "needs_background": "light"
     },
     "output_type": "display_data"
    }
   ],
   "source": [
    "sns.histplot(data=bt_tst_smpl_acc2,color='brown',kde=True);"
   ]
  },
  {
   "cell_type": "code",
   "execution_count": 120,
   "metadata": {},
   "outputs": [
    {
     "data": {
      "image/png": "[encoded data removed]",
      "text/plain": [
       "<Figure size 432x288 with 1 Axes>"
      ]
     },
     "metadata": {
      "needs_background": "light"
     },
     "output_type": "display_data"
    }
   ],
   "source": [
    "qqplot(np.array(bt_tst_smpl_acc2),line='r');"
   ]
  },
  {
   "cell_type": "code",
   "execution_count": 121,
   "metadata": {},
   "outputs": [
    {
     "data": {
      "text/plain": [
       "0.4037166666666666"
      ]
     },
     "execution_count": 121,
     "metadata": {},
     "output_type": "execute_result"
    }
   ],
   "source": [
    "np.mean(bt_tst_smpl_acc2)"
   ]
  },
  {
   "cell_type": "code",
   "execution_count": 122,
   "metadata": {},
   "outputs": [
    {
     "data": {
      "text/plain": [
       "(0.28, 0.54)"
      ]
     },
     "execution_count": 122,
     "metadata": {},
     "output_type": "execute_result"
    }
   ],
   "source": [
    "mod2_lower = np.percentile(bt_tst_smpl_acc2,2.5)\n",
    "mod2_upper = np.percentile(bt_tst_smpl_acc2,97.5)\n",
    "mod2_lower,mod2_upper"
   ]
  },
  {
   "cell_type": "markdown",
   "metadata": {},
   "source": [
    "### **P-value**"
   ]
  },
  {
   "cell_type": "code",
   "execution_count": 123,
   "metadata": {},
   "outputs": [
    {
     "data": {
      "text/plain": [
       "0.5524"
      ]
     },
     "execution_count": 123,
     "metadata": {},
     "output_type": "execute_result"
    }
   ],
   "source": [
    "len(list(filter(lambda val : val > X_test_score, bt_tst_smpl_acc2)))/5000"
   ]
  },
  {
   "cell_type": "markdown",
   "metadata": {},
   "source": [
    "#### **This means that 55% of the times the value of Simulated Sample mean is greater than the parent sample mean.**"
   ]
  },
  {
   "cell_type": "markdown",
   "metadata": {},
   "source": [
    "#### **Forming the confidence intervals**"
   ]
  },
  {
   "cell_type": "code",
   "execution_count": 124,
   "metadata": {},
   "outputs": [],
   "source": [
    "loc = 0.95\n",
    "alpha_lower = np.round(((1-loc)/2.0)*100,2)\n",
    "lower = np.percentile(bt_tst_smpl_acc2,alpha_lower)"
   ]
  },
  {
   "cell_type": "code",
   "execution_count": 125,
   "metadata": {},
   "outputs": [],
   "source": [
    "alpha_upper = np.round((loc+(alpha_lower)/100)*100,2)\n",
    "upper = np.percentile(bt_tst_smpl_acc2,alpha_upper)"
   ]
  },
  {
   "cell_type": "code",
   "execution_count": 126,
   "metadata": {},
   "outputs": [
    {
     "name": "stdout",
     "output_type": "stream",
     "text": [
      "2.5 97.5\n"
     ]
    }
   ],
   "source": [
    "print(alpha_lower,alpha_upper)"
   ]
  },
  {
   "cell_type": "code",
   "execution_count": 127,
   "metadata": {},
   "outputs": [
    {
     "name": "stdout",
     "output_type": "stream",
     "text": [
      "Confidence interval is (0.28,0.54)\n"
     ]
    }
   ],
   "source": [
    "print(\"Confidence interval is ({},{})\".format(np.round(lower,3),np.round(upper,3)))"
   ]
  },
  {
   "cell_type": "markdown",
   "metadata": {},
   "source": [
    "#### This means that we are 95% confident that RFC accuracy will fall between 28% to 54% using percentile method."
   ]
  },
  {
   "cell_type": "markdown",
   "metadata": {},
   "source": [
    "#### **Above is the percentile-method of finding the confidence intervals based on the value of loc(level of confidence) or alpha.**\n",
    "\n",
    "#### **Below method to construct the C.I. is using Z-score table also referred as normal method.**"
   ]
  },
  {
   "cell_type": "code",
   "execution_count": 128,
   "metadata": {},
   "outputs": [
    {
     "name": "stdout",
     "output_type": "stream",
     "text": [
      "Confidence interval is (0.387,0.42)\n"
     ]
    }
   ],
   "source": [
    "bt_moe = scipy.stats.norm.ppf(0.95) * (np.std(bt_tst_smpl_acc2)/np.sqrt(50))\n",
    "\n",
    "print(\"Confidence interval is ({},{})\".format(np.round(np.mean(bt_tst_smpl_acc2) - bt_moe,3), \n",
    "                                              np.round(np.mean(bt_tst_smpl_acc2) + bt_moe,3)))"
   ]
  },
  {
   "cell_type": "markdown",
   "metadata": {},
   "source": [
    "#### This means that we are 95% confident that RFC accuracy will fall between 38% to 42% using normal method."
   ]
  },
  {
   "cell_type": "markdown",
   "metadata": {},
   "source": [
    "## **`Conclusion`**\n",
    "### **The values of both the models are very close thus we can say that they are behaving same on this dataset.**"
   ]
  }
 ],
 "metadata": {
  "kernelspec": {
   "display_name": "Python 3",
   "language": "python",
   "name": "python3"
  },
  "language_info": {
   "codemirror_mode": {
    "name": "ipython",
    "version": 3
   },
   "file_extension": ".py",
   "mimetype": "text/x-python",
   "name": "python",
   "nbconvert_exporter": "python",
   "pygments_lexer": "ipython3",
   "version": "3.6.8"
  }
 },
 "nbformat": 4,
 "nbformat_minor": 4
}
